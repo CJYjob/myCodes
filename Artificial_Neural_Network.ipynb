{
  "cells": [
    {
      "cell_type": "code",
      "execution_count": null,
      "metadata": {},
      "outputs": [],
      "source": [
        "# 구글 드라이브 마운트(cjyjob1993@gmail.com)\n",
        "from google.colab import drive\n",
        "drive.mount('/content/drive')\n",
        "\n",
        "# lib 디렉토리를을 환경 변수에 추가\n",
        "import sys\n",
        "sys.path.append('/content/drive/MyDrive/Colab Notebooks/myCode/lib')"
      ]
    },
    {
      "cell_type": "code",
      "execution_count": null,
      "metadata": {
        "id": "sz6yIVYYS8hM"
      },
      "outputs": [],
      "source": [
        "# 라이브러리 임포트\n",
        "import pandas as pd\n",
        "import numpy as np\n",
        "import matplotlib.pyplot as plt\n",
        "import tensorflow as tf\n",
        "# 커스텀 라이브러리 임포트\n",
        "from pandas_exploreDataFrame import exploreDataFrame\n",
        "from debug_log import debug"
      ]
    },
    {
      "cell_type": "code",
      "execution_count": null,
      "metadata": {},
      "outputs": [],
      "source": [
        "# debug_log (0 : 미출력, 1 : 출력)\n",
        "debug_flag = 1"
      ]
    },
    {
      "cell_type": "code",
      "execution_count": null,
      "metadata": {
        "id": "EZt2zQoIS_PN"
      },
      "outputs": [],
      "source": [
        "debug('시드 고정', __name__, debug_flag)\n",
        "np.random.seed(42)\n",
        "tf.random.set_seed(42)"
      ]
    },
    {
      "cell_type": "code",
      "execution_count": null,
      "metadata": {
        "id": "UpO1JbC1S_pv"
      },
      "outputs": [],
      "source": [
        "debug('데이터 로드', __name__, debug_flag)\n",
        "df = pd.read_csv('https://archive.ics.uci.edu/ml/machine-learning-databases/iris/iris.data', header=None)"
      ]
    },
    {
      "cell_type": "code",
      "execution_count": null,
      "metadata": {
        "id": "QsZy287bTBDq"
      },
      "outputs": [],
      "source": [
        "debug('데이터 시각화', __name__, debug_flag)\n",
        "exploreData.exploreDataFrame(df)"
      ]
    }
  ],
  "metadata": {
    "accelerator": "GPU",
    "colab": {
      "name": "N411_Artificial_Neural_Network.ipynb",
      "provenance": []
    },
    "kernelspec": {
      "display_name": "Python 3.8.15 ('myCodes')",
      "language": "python",
      "name": "python3"
    },
    "language_info": {
      "name": "python",
      "version": "3.8.15"
    },
    "vscode": {
      "interpreter": {
        "hash": "be9c8c09f02aff164ff9b08fdc7e0d6a8d8e8fe95a6cb9e2cbfc007f36c1c7da"
      }
    }
  },
  "nbformat": 4,
  "nbformat_minor": 0
}
