{
  "cells": [
    {
      "cell_type": "code",
      "execution_count": 1,
      "metadata": {
        "colab": {
          "base_uri": "https://localhost:8080/"
        },
        "id": "9MEDfNYiRtmn",
        "outputId": "78a30ace-d9da-4d20-d433-0108bbb95024"
      },
      "outputs": [
        {
          "output_type": "stream",
          "name": "stdout",
          "text": [
            "Mounted at /content/drive\n"
          ]
        }
      ],
      "source": [
        "# 구글 드라이브 마운트(cjyjob1993@gmail.com)\n",
        "from google.colab import drive\n",
        "drive.mount('/content/drive')\n",
        "\n",
        "# lib 디렉토리를을 환경 변수에 추가\n",
        "import sys\n",
        "sys.path.append('/content/drive/MyDrive/Colab Notebooks/myCode/lib')"
      ]
    },
    {
      "cell_type": "markdown",
      "metadata": {
        "id": "koRYECFNd5tR"
      },
      "source": [
        "# 신경망 학습"
      ]
    },
    {
      "cell_type": "markdown",
      "metadata": {
        "id": "uuYZtg_xd5tY"
      },
      "source": [
        "## 신경망 학습 과정 \n",
        "\n",
        "1. 입력된 데이터가 각 층을 통과하며, 가중합(weight, bias) 및 활성화 함수 연산 반복\n",
        "2. 출력층에서 계산된 값 출력\n",
        "3. 예측값과 실제값(from 손실 함수)의 차이 계산\n",
        "4. 경사하강법, 역전파를 통한 가중치 갱신\n",
        "5. 학습 종료 까지 1~4 반복"
      ]
    },
    {
      "cell_type": "markdown",
      "metadata": {
        "id": "gnqIgWkUd5ta"
      },
      "source": [
        "## iteration\n",
        "\n",
        "+ 가중치가 갱신되는 횟수.\n",
        "+ 신경망 학습과정 1~4 반복 횟수(순전파 : 1,2 / 손실 함수 : 3 / 역전파 : 4)"
      ]
    },
    {
      "cell_type": "markdown",
      "metadata": {
        "id": "q90ieH6md5tb"
      },
      "source": [
        "## 순전파 (Forward Propagation)\n",
        "입력층에서 입력된 신호가 각 층의 연산을 거쳐, 출력층에서 값으로 나오는 과정\n",
        "\n",
        "1. 입력층(or 이전 은닉층)의 신호 수령\n",
        "2. 가중합(가중치, 편향) 연산\n",
        "3. 가중합 결과가 활성화 함수를 통과해 다음 층으로 전달"
      ]
    },
    {
      "cell_type": "markdown",
      "metadata": {
        "id": "5ZCcpcGYd5tb"
      },
      "source": [
        "## 손실 함수 (Loss Function)\n",
        "출력값과 타겟값의 차이를 구하는 함수\n",
        "### MSE Mean-Squared Error\n",
        "회귀 문제에 사용\n",
        "### MAE Mean-Average Error\n",
        "회귀 문제에 사용\n",
        "### binary_crossentropy\n",
        "이진 분류 문제에 사용\n",
        "### CEE Cross-Entropy Error\n",
        "다중 분류 문제에 사용\n",
        "#### categorical_crossentropy\n",
        "클래스간 비율이 유사 할 때 사용\n",
        "#### sparse_categorical_crossentropy\n",
        "클래스간 비율이 불균형 할 때 사용"
      ]
    },
    {
      "cell_type": "markdown",
      "metadata": {
        "id": "uDLxvbDyd5tc"
      },
      "source": [
        "## 역전파 (Backward Propagation)\n",
        "출력층에서 입력층 방향으로, 경사하강법을 사용해, 손실을 줄이도록 weights와 bias를 갱신하는 과정. 이 과정에서 편미분과 Chain rule(연쇄 법칙)이 사용됨."
      ]
    },
    {
      "cell_type": "markdown",
      "metadata": {
        "id": "z_sTnyJ8d5tc"
      },
      "source": [
        "## 경사하강법 (Gradient Descent)\n",
        "+ 손실 함수를 줄이는 방향으로\n",
        "+ 손실 함수의 기울기가 작아지는 방향으로\n",
        "+ 각 가중치 및 편향에 대한 손실 함수의 도함수(손실 함수를 편미분한 함수)를 계산해\n",
        "+ 가중치 및 편향을 갱신하는 방법\n",
        "+ 갱신된 가중치 = 갱신 전 가중치 - (학습률 * 해당 지점의 기울기)"
      ]
    },
    {
      "cell_type": "markdown",
      "metadata": {
        "id": "hio4UBf-d5td"
      },
      "source": [
        "## 옵티마이저 (Optimizer)\n",
        "+ 경사를 내려가는 방법\n",
        "+ 대표적인 것들은 아래와 같음\n",
        "### GD (Gradient Descent, 경사하강법)\n",
        "+ 일반적인 경사하강법\n",
        "+ 모든 입력데이터를 사용해 가중치를 업데이트\n",
        "### SGD (Stochastic Gradient Descent, 확률적 경사하강법)\n",
        "+ 데이터의 양이 많아지면서, 기존의 GD는 학습 소요 시간이 지나치게 길어지면서 등장\n",
        "+ 하나의 입력데이터만 사용해 가중치를 업데이트\n",
        "+ 사용하는 데이터가 감소한 만큼, 소요 시간이 짧음\n",
        "+ 이상치에 민감하게 작동함(불안정)\n",
        "+ 1 epoch 에 하나의 데이터만 사용(다른 것들은 1 epoch에서 모든 데이터를 사용)\n",
        "### 미니 배치 경사 하강법\n",
        "+ SGD를 변형해 사용\n",
        "+ N개의 데이터를 사용해 가중치를 업데이트\n",
        "+ 속도도 개선되면서, 학습 안정성도 어느정도 유지\n",
        "#### 배치 사이즈(batch size)\n",
        "+ 미니 배치의 크기.\n",
        "+ 일반적으로 2의 배수로 설정\n",
        "+ 메모리가 허락하는 선에서 큰 사이즈가 학습에 안정적\n",
        "### adam\n",
        "+ 가장 안정적이고, 대중적인 옵티마이저"
      ]
    },
    {
      "cell_type": "markdown",
      "metadata": {
        "id": "2LefTKK9Rtms"
      },
      "source": [
        "# 신경망 구현하기"
      ]
    },
    {
      "cell_type": "code",
      "execution_count": 97,
      "metadata": {
        "id": "A0FY1G5CRtmu"
      },
      "outputs": [],
      "source": [
        "# 라이브러리 임포트\n",
        "import numpy as np\n",
        "# 커스텀 라이브러리 임포트\n",
        "from func_debug_log import debug\n",
        "import numpy_fixSeed"
      ]
    },
    {
      "cell_type": "code",
      "execution_count": 98,
      "metadata": {
        "id": "GMlJJ8uoRtmv"
      },
      "outputs": [],
      "source": [
        "# debug_flag 설정(0:미출력, 1:구현 함수 내부 확인 로그 미출력 ,2:모두 출력)\n",
        "debug_flag = 1"
      ]
    },
    {
      "cell_type": "code",
      "source": [
        "class NN0 :\n",
        "  def __init__(self):\n",
        "    if debug_flag in [1, 2] : debug('신경망 초기화', __name__)"
      ],
      "metadata": {
        "id": "7v6F_Hwc2gcl"
      },
      "execution_count": 99,
      "outputs": []
    },
    {
      "cell_type": "markdown",
      "metadata": {
        "id": "zA1TlXC1Rtmw"
      },
      "source": [
        "## 신경망 초기 상태 설정\n",
        "weight, bias 초기화(랜덤값)"
      ]
    },
    {
      "cell_type": "code",
      "execution_count": 100,
      "metadata": {
        "id": "TqFbnB-2Rtmy"
      },
      "outputs": [],
      "source": [
        "class NN1(NN0) :\n",
        "\n",
        "  def __init__(self) :\n",
        "    super().__init__()\n",
        "    \"\"\"\n",
        "    신경망의 구조를 결정합니다.\n",
        "\n",
        "    inputs : 입력층 노드 수\n",
        "    hiddenNodes : 은닉층 노드 수\n",
        "    outputNodes : 출력층 노드 수\n",
        "    w1, w2 : layer 1, layer 2의 가중치\n",
        "    \"\"\"\n",
        "    self.inputs = 2\n",
        "    self.hiddenNodes = 3\n",
        "    self.outputNodes = 1\n",
        "    \n",
        "    # 가중치를 초기화 합니다.\n",
        "    # layer 1 가중치 shape : 2x3\n",
        "    self.w1 = np.random.randn(self.inputs,self.hiddenNodes)\n",
        "    \n",
        "    # layer 2 가중치 shape : 3x1\n",
        "    self.w2 = np.random.randn(self.hiddenNodes, self.outputNodes)"
      ]
    },
    {
      "cell_type": "markdown",
      "metadata": {
        "id": "9Sm7HX2lRtmz"
      },
      "source": [
        "## 활성화 함수 구현\n",
        "입력값의 시그모이드 함수의 결과값 "
      ]
    },
    {
      "cell_type": "code",
      "execution_count": 101,
      "metadata": {
        "id": "twJFLx8gRtm0"
      },
      "outputs": [],
      "source": [
        "class NN2(NN1) :\n",
        "\n",
        "  def __init__(self) :\n",
        "    super().__init__()\n",
        "\n",
        "  def sigmoid(self, s):\n",
        "    \"\"\"\n",
        "    활성화 함수인 시그모이드 함수를 정의합니다.\n",
        "    s : 활성화 함수에 입력되는 값(=가중합)\n",
        "    \"\"\"\n",
        "    return 1 / (1+np.exp(-s))"
      ]
    },
    {
      "cell_type": "markdown",
      "metadata": {
        "id": "COx14IMGRtm0"
      },
      "source": [
        "## 순전파\n",
        "weight, bias 의 가중합 / 활성화 함수를 사용하여 입력층에서 은닉층을 거쳐, 출력층까지 계산."
      ]
    },
    {
      "cell_type": "markdown",
      "metadata": {
        "id": "YUrzlKPGRtm1"
      },
      "source": [
        "### 입력층\n",
        "데이터셋이 입력되는 층으로 features 수 만큼의 입력 노드를 갖는다."
      ]
    },
    {
      "cell_type": "markdown",
      "metadata": {
        "id": "YjgrpjB2Rtm1"
      },
      "source": [
        "### 은닉층\n",
        "입력 신호를 가중합(가중치, 편향)하여 처리하는 층으로, 사용자가 볼 수 없으며, 노드수는 자유롭게 결정 가능하다. 2개 이상의 은닉층을 가진 신경망을 `딥러닝`이라고 한다."
      ]
    },
    {
      "cell_type": "markdown",
      "metadata": {
        "id": "fG8YvV8oRtm2"
      },
      "source": [
        "### 출력층\n",
        "연산을 마친 값이 출력되는 층이다. 문제의 종류에 따라, 노드 수, 활성화 함수가 결정된다."
      ]
    },
    {
      "cell_type": "markdown",
      "metadata": {
        "id": "z8On08eKRtm2"
      },
      "source": [
        "#### 이진 분류\n",
        "활성화 함수는 시그모이드, 노드 수 1개, 0~1 사이의 확률값이 출력"
      ]
    },
    {
      "cell_type": "markdown",
      "metadata": {
        "id": "1ABlp2BSRtm3"
      },
      "source": [
        "#### 다중 분류\n",
        "활성화 함수는 소프트맥스, 노드 수는 레이블릐 클래스 수와 동일. 각 클래스일 확률을 0~1 사이 값으로 출력하며, 합은 1이 된다."
      ]
    },
    {
      "cell_type": "markdown",
      "metadata": {
        "id": "eK8EySdHRtm3"
      },
      "source": [
        "#### 회귀\n",
        "활성화 함수는 사용하지 않으며, 출력층의 노드 수는 출력값의 특성 수와 동일."
      ]
    },
    {
      "cell_type": "code",
      "execution_count": 102,
      "metadata": {
        "id": "ogcgFePKRtm3"
      },
      "outputs": [],
      "source": [
        "class NN3(NN2) :\n",
        "\n",
        "  def __init__(self) :\n",
        "    super().__init__()\n",
        "\n",
        "  def feed_forward(self, X):\n",
        "    \"\"\"\n",
        "    순전파를 구현합니다.\n",
        "    입력 신호를 받아 출력층의 결과를 반환합니다.\n",
        "\n",
        "    hidden_sum : 은닉층(layer 1)에서의 가중합(weighted sum)\n",
        "    activated_hidden : 은닉층(layer 1) 활성화 함수의 함숫값\n",
        "    output_sum : 출력층(layer 2)에서의 가중합(weighted sum)\n",
        "    activated_output : 출력층(layer 2) 활성화 함수의 함숫값\n",
        "    \"\"\"\n",
        "\n",
        "    self.hidden_sum = np.dot(X, self.w1)\n",
        "    self.activated_hidden = self.sigmoid(self.hidden_sum)\n",
        "\n",
        "    self.output_sum = np.dot(self.activated_hidden, self.w2)\n",
        "    self.activated_output = self.sigmoid(self.output_sum)\n",
        "\n",
        "    return self.activated_output"
      ]
    },
    {
      "cell_type": "markdown",
      "source": [
        "## 활성화 함수의 도함수 구현\n",
        "sigmoid를 미분한 함수 "
      ],
      "metadata": {
        "id": "0fzUpw4SiCvs"
      }
    },
    {
      "cell_type": "code",
      "source": [
        "class NN4(NN3) :\n",
        "\n",
        "  def __init__(self) :\n",
        "    super().__init__()\n",
        "\n",
        "  def sigmoidPrime(self, s):\n",
        "    \"\"\"\n",
        "    활성화 함수(sigmoid)를 미분한 함수입니다.\n",
        "    s : 순전파 과정에서 활성화 함수에 입력되는 값(=가중합)\n",
        "    \"\"\"\n",
        "    sx = self.sigmoid(s)\n",
        "    return sx * (1-sx)"
      ],
      "metadata": {
        "id": "cNsBX8isiHio"
      },
      "execution_count": 103,
      "outputs": []
    },
    {
      "cell_type": "markdown",
      "source": [
        "## 역전파\n",
        "출력층에서 손실 값(Error)를 구한 뒤에 이를 각 가중치에 대해 미분한 값만큼 가중치를 수정합니다.\n"
      ],
      "metadata": {
        "id": "KWZEKDiCjE62"
      }
    },
    {
      "cell_type": "code",
      "source": [
        "class NN5(NN4) :\n",
        "\n",
        "  def __init__(self) :\n",
        "    super().__init__()\n",
        "\n",
        "  def backward(self, X, y, o):\n",
        "    \"\"\"\n",
        "    역전파를 구현합니다.\n",
        "    출력층에서 손실 값(Error)를 구한 뒤에 이를 각 가중치에 대해 미분한 값만큼 가중치를 수정합니다.\n",
        "\n",
        "    X : 입력 데이터(input)\n",
        "    y : 타겟값(target value)\n",
        "    o : 출력값(output)\n",
        "\n",
        "    o_error : 손실(Error) = 타겟값과 출력값의 차이\n",
        "    o_delta : 출력층 활성화 함수의 미분값\n",
        "    \"\"\"\n",
        "\n",
        "    # o_error : 손실(Error)을 구합니다.\n",
        "    self.o_error = y - o \n",
        "\n",
        "    # o_delta : 활성화 함수(시그모이드)의 도함수를 사용하여 출력층 활성화 함수 이전의 미분값을 구합니다.\n",
        "    self.o_delta = self.o_error * self.sigmoidPrime(o)\n",
        "\n",
        "    # z2 error : 은닉층에서의 손실을 구합니다.\n",
        "    self.z2_error = self.o_delta.dot(self.w2.T)\n",
        "\n",
        "    # z2 delta : 활성화 함수(시그모이드)의 도함수를 사용하여 은닉층 활성화 함수 이전의 미분값을 구합니다.\n",
        "    self.z2_delta = self.z2_error*self.sigmoidPrime(self.output_sum)\n",
        "\n",
        "    # w1, w2를 업데이트 합니다.\n",
        "    self.w1 += X.T.dot(self.z2_delta) # X * dE/dY * dY/dy(=Y(1-Y))\n",
        "    self.w2 += self.activated_hidden.T.dot(self.o_delta) # H1 * Y(1-Y) * (Y - o)\n"
      ],
      "metadata": {
        "id": "Z8CrJBPcjEDZ"
      },
      "execution_count": 104,
      "outputs": []
    },
    {
      "cell_type": "markdown",
      "source": [
        "## 신경망 학습\n",
        "순전파와 역전파를 반복하며, 가중치 갱신"
      ],
      "metadata": {
        "id": "yiGyAg_6rjoB"
      }
    },
    {
      "cell_type": "code",
      "source": [
        "class NN6(NN5) :\n",
        "\n",
        "  def __init__(self) :\n",
        "    super().__init__()\n",
        "  \n",
        "  def train(self, X, y):\n",
        "    \"\"\"\n",
        "    실제로 신경망 학습을 진행하는 코드입니다.\n",
        "    1번의 순전파-역전파, 즉 1 iteration 을 수행하는 함수입니다.\n",
        "    \n",
        "    X : 입력 데이터(input)\n",
        "    y : 타겟값(target value)\n",
        "    \"\"\"\n",
        "    o = self.feed_forward(X)\n",
        "    self.backward(X,y,o)"
      ],
      "metadata": {
        "id": "gg4R0eFomdu3"
      },
      "execution_count": 105,
      "outputs": []
    },
    {
      "cell_type": "markdown",
      "source": [
        "# 구현한 신경망 실행"
      ],
      "metadata": {
        "id": "vK03I7WJrslX"
      }
    },
    {
      "cell_type": "markdown",
      "source": [
        "## 샘플 데이터 생성"
      ],
      "metadata": {
        "id": "D0M0Qhma6CB4"
      }
    },
    {
      "cell_type": "code",
      "execution_count": 106,
      "metadata": {
        "id": "PsK0Ipz3Rtm6"
      },
      "outputs": [],
      "source": [
        "# [공부시간, 수면시간]\n",
        "X = np.array(([8,8],\n",
        "              [2,5],\n",
        "              [7,6]), dtype=float)\n",
        "\n",
        "# 선형 관계를 바탕으로 시험 점수 레이블을 생성합니다.\n",
        "y = X[:,0]*5 + X[:,1]*2\n",
        "y = y.reshape(3,1)"
      ]
    },
    {
      "cell_type": "markdown",
      "source": [
        "## 샘플 데이터 정규화"
      ],
      "metadata": {
        "id": "D4f7x-5-6FpK"
      }
    },
    {
      "cell_type": "code",
      "source": [
        "X = X / np.amax(X, axis=0)\n",
        "y = y / np.amax(y, axis=0)\n",
        "\n",
        "print(\"공부시간, 수면시간 \\n\", X)\n",
        "print(\"시험점수 \\n\", y)"
      ],
      "metadata": {
        "id": "0f4eI0h-ndeo",
        "outputId": "3dd28c04-6cbd-4088-fe4b-d6315b8a1658",
        "colab": {
          "base_uri": "https://localhost:8080/"
        }
      },
      "execution_count": 107,
      "outputs": [
        {
          "output_type": "stream",
          "name": "stdout",
          "text": [
            "공부시간, 수면시간 \n",
            " [[1.    1.   ]\n",
            " [0.25  0.625]\n",
            " [0.875 0.75 ]]\n",
            "시험점수 \n",
            " [[1.        ]\n",
            " [0.35714286]\n",
            " [0.83928571]]\n"
          ]
        }
      ]
    },
    {
      "cell_type": "markdown",
      "source": [
        "## 신경망 학습"
      ],
      "metadata": {
        "id": "FvaLEJ6c6PVl"
      }
    },
    {
      "cell_type": "markdown",
      "source": [
        "## 신경망 인스턴스 생성"
      ],
      "metadata": {
        "id": "pbT7o0MD9XxS"
      }
    },
    {
      "cell_type": "code",
      "source": [
        "nn = NN6()"
      ],
      "metadata": {
        "id": "aYXpvqUY9Uox",
        "outputId": "90404b60-242b-402d-8c84-bf4113abc428",
        "colab": {
          "base_uri": "https://localhost:8080/"
        }
      },
      "execution_count": 108,
      "outputs": [
        {
          "output_type": "stream",
          "name": "stdout",
          "text": [
            "2022.12.02 08:27:40 __main__ 신경망 초기화\n"
          ]
        }
      ]
    },
    {
      "cell_type": "code",
      "source": [
        "# 반복수(epochs or iterations)를 정합니다.\n",
        "iter = 10000\n",
        "\n",
        "# 지정한 반복수 만큼 반복합니다.\n",
        "for i in range(iter):\n",
        "    if (i+1 in [1,2,3,4,5]) or ((i+1) % 1000 == 0):\n",
        "        print('+' + '---' * 3 + f'EPOCH {i+1}' + '---'*3 + '+')\n",
        "        print('입력: \\n', X)\n",
        "        print('타겟출력: \\n', y)\n",
        "        print('예측: \\n', str(nn.feed_forward(X)))\n",
        "        print(\"에러: \\n\", str(np.mean(np.square(y - nn.feed_forward(X)))))\n",
        "    nn.train(X,y)"
      ],
      "metadata": {
        "id": "uVjI2G3f6Oxr",
        "outputId": "4ebc37c4-9a0d-42e2-dfbf-33e2607b38c0",
        "colab": {
          "base_uri": "https://localhost:8080/"
        }
      },
      "execution_count": 109,
      "outputs": [
        {
          "output_type": "stream",
          "name": "stdout",
          "text": [
            "+---------EPOCH 1---------+\n",
            "입력: \n",
            " [[1.    1.   ]\n",
            " [0.25  0.625]\n",
            " [0.875 0.75 ]]\n",
            "타겟출력: \n",
            " [[1.        ]\n",
            " [0.35714286]\n",
            " [0.83928571]]\n",
            "예측: \n",
            " [[0.56611111]\n",
            " [0.50635471]\n",
            " [0.5515955 ]]\n",
            "에러: \n",
            " 0.09776313366577666\n",
            "+---------EPOCH 2---------+\n",
            "입력: \n",
            " [[1.    1.   ]\n",
            " [0.25  0.625]\n",
            " [0.875 0.75 ]]\n",
            "타겟출력: \n",
            " [[1.        ]\n",
            " [0.35714286]\n",
            " [0.83928571]]\n",
            "예측: \n",
            " [[0.59499499]\n",
            " [0.53175447]\n",
            " [0.57987284]]\n",
            "에러: \n",
            " 0.08727110418086405\n",
            "+---------EPOCH 3---------+\n",
            "입력: \n",
            " [[1.    1.   ]\n",
            " [0.25  0.625]\n",
            " [0.875 0.75 ]]\n",
            "타겟출력: \n",
            " [[1.        ]\n",
            " [0.35714286]\n",
            " [0.83928571]]\n",
            "예측: \n",
            " [[0.61954945]\n",
            " [0.55346073]\n",
            " [0.60397965]]\n",
            "에러: \n",
            " 0.07955075801894661\n",
            "+---------EPOCH 4---------+\n",
            "입력: \n",
            " [[1.    1.   ]\n",
            " [0.25  0.625]\n",
            " [0.875 0.75 ]]\n",
            "타겟출력: \n",
            " [[1.        ]\n",
            " [0.35714286]\n",
            " [0.83928571]]\n",
            "예측: \n",
            " [[0.64049957]\n",
            " [0.57204728]\n",
            " [0.62459987]]\n",
            "에러: \n",
            " 0.07383816030092423\n",
            "+---------EPOCH 5---------+\n",
            "입력: \n",
            " [[1.    1.   ]\n",
            " [0.25  0.625]\n",
            " [0.875 0.75 ]]\n",
            "타겟출력: \n",
            " [[1.        ]\n",
            " [0.35714286]\n",
            " [0.83928571]]\n",
            "예측: \n",
            " [[0.65843347]\n",
            " [0.58799003]\n",
            " [0.64229173]]\n",
            "에러: \n",
            " 0.06958824835885428\n",
            "+---------EPOCH 1000---------+\n",
            "입력: \n",
            " [[1.    1.   ]\n",
            " [0.25  0.625]\n",
            " [0.875 0.75 ]]\n",
            "타겟출력: \n",
            " [[1.        ]\n",
            " [0.35714286]\n",
            " [0.83928571]]\n",
            "예측: \n",
            " [[0.92348309]\n",
            " [0.36097837]\n",
            " [0.91416252]]\n",
            "에러: \n",
            " 0.0038253615343273976\n",
            "+---------EPOCH 2000---------+\n",
            "입력: \n",
            " [[1.    1.   ]\n",
            " [0.25  0.625]\n",
            " [0.875 0.75 ]]\n",
            "타겟출력: \n",
            " [[1.        ]\n",
            " [0.35714286]\n",
            " [0.83928571]]\n",
            "예측: \n",
            " [[0.9252721 ]\n",
            " [0.36005289]\n",
            " [0.91219047]]\n",
            "에러: \n",
            " 0.0036359439607352544\n",
            "+---------EPOCH 3000---------+\n",
            "입력: \n",
            " [[1.    1.   ]\n",
            " [0.25  0.625]\n",
            " [0.875 0.75 ]]\n",
            "타겟출력: \n",
            " [[1.        ]\n",
            " [0.35714286]\n",
            " [0.83928571]]\n",
            "예측: \n",
            " [[0.92665256]\n",
            " [0.35963965]\n",
            " [0.9100727 ]]\n",
            "에러: \n",
            " 0.0034656262565660174\n",
            "+---------EPOCH 4000---------+\n",
            "입력: \n",
            " [[1.    1.   ]\n",
            " [0.25  0.625]\n",
            " [0.875 0.75 ]]\n",
            "타겟출력: \n",
            " [[1.        ]\n",
            " [0.35714286]\n",
            " [0.83928571]]\n",
            "예측: \n",
            " [[0.92767498]\n",
            " [0.3597569 ]\n",
            " [0.90744206]]\n",
            "에러: \n",
            " 0.003294343091310883\n",
            "+---------EPOCH 5000---------+\n",
            "입력: \n",
            " [[1.    1.   ]\n",
            " [0.25  0.625]\n",
            " [0.875 0.75 ]]\n",
            "타겟출력: \n",
            " [[1.        ]\n",
            " [0.35714286]\n",
            " [0.83928571]]\n",
            "예측: \n",
            " [[0.92780311]\n",
            " [0.36090236]\n",
            " [0.90424578]]\n",
            "에러: \n",
            " 0.003148778243600881\n",
            "+---------EPOCH 6000---------+\n",
            "입력: \n",
            " [[1.    1.   ]\n",
            " [0.25  0.625]\n",
            " [0.875 0.75 ]]\n",
            "타겟출력: \n",
            " [[1.        ]\n",
            " [0.35714286]\n",
            " [0.83928571]]\n",
            "예측: \n",
            " [[0.927179  ]\n",
            " [0.36267456]\n",
            " [0.90103291]]\n",
            "에러: \n",
            " 0.0030487382522404144\n",
            "+---------EPOCH 7000---------+\n",
            "입력: \n",
            " [[1.    1.   ]\n",
            " [0.25  0.625]\n",
            " [0.875 0.75 ]]\n",
            "타겟출력: \n",
            " [[1.        ]\n",
            " [0.35714286]\n",
            " [0.83928571]]\n",
            "예측: \n",
            " [[0.92507151]\n",
            " [0.36486039]\n",
            " [0.8997483 ]]\n",
            "에러: \n",
            " 0.0031098540672460854\n",
            "+---------EPOCH 8000---------+\n",
            "입력: \n",
            " [[1.    1.   ]\n",
            " [0.25  0.625]\n",
            " [0.875 0.75 ]]\n",
            "타겟출력: \n",
            " [[1.        ]\n",
            " [0.35714286]\n",
            " [0.83928571]]\n",
            "예측: \n",
            " [[0.9227363 ]\n",
            " [0.36495994]\n",
            " [0.90567619]]\n",
            "에러: \n",
            " 0.0034794937011627075\n",
            "+---------EPOCH 9000---------+\n",
            "입력: \n",
            " [[1.    1.   ]\n",
            " [0.25  0.625]\n",
            " [0.875 0.75 ]]\n",
            "타겟출력: \n",
            " [[1.        ]\n",
            " [0.35714286]\n",
            " [0.83928571]]\n",
            "예측: \n",
            " [[0.92244505]\n",
            " [0.36448817]\n",
            " [0.90818734]]\n",
            "에러: \n",
            " 0.0036053859512902423\n",
            "+---------EPOCH 10000---------+\n",
            "입력: \n",
            " [[1.    1.   ]\n",
            " [0.25  0.625]\n",
            " [0.875 0.75 ]]\n",
            "타겟출력: \n",
            " [[1.        ]\n",
            " [0.35714286]\n",
            " [0.83928571]]\n",
            "예측: \n",
            " [[0.92235766]\n",
            " [0.36444961]\n",
            " [0.90854076]]\n",
            "에러: \n",
            " 0.003625994058473969\n"
          ]
        }
      ]
    },
    {
      "cell_type": "code",
      "source": [
        "# 각각의 변수(가중치)를 디스플레이 하기 위한 코드입니다.\n",
        "attributes = ['w1', 'hidden_sum', 'activated_hidden', 'w2', 'activated_output']\n",
        "\n",
        "for i in attributes:\n",
        "    if i[:2] != '__':\n",
        "        print(i+'\\n', getattr(nn,i), '\\n'+'---'*3)"
      ],
      "metadata": {
        "id": "oGLsbsBT9sWg",
        "outputId": "136204e7-1b2d-448a-9a94-ff4424eba321",
        "colab": {
          "base_uri": "https://localhost:8080/"
        }
      },
      "execution_count": 110,
      "outputs": [
        {
          "output_type": "stream",
          "name": "stdout",
          "text": [
            "w1\n",
            " [[-0.53830378 -0.37420207  1.71467012]\n",
            " [ 1.24627641 -0.56769715 -1.0470542 ]] \n",
            "---------\n",
            "hidden_sum\n",
            " [[ 0.70795724 -0.94198675  0.66770378]\n",
            " [ 0.64433816 -0.44841041 -0.22569198]\n",
            " [ 0.46367963 -0.75326716  0.71511345]] \n",
            "---------\n",
            "activated_hidden\n",
            " [[0.66994963 0.2804992  0.66098881]\n",
            " [0.65573345 0.38973877 0.44381529]\n",
            " [0.61388672 0.32010982 0.67153006]] \n",
            "---------\n",
            "w2\n",
            " [[-1.64131314]\n",
            " [-9.33397483]\n",
            " [ 9.36921135]] \n",
            "---------\n",
            "activated_output\n",
            " [[0.92235766]\n",
            " [0.36444961]\n",
            " [0.90854076]] \n",
            "---------\n"
          ]
        }
      ]
    }
  ],
  "metadata": {
    "colab": {
      "provenance": []
    },
    "kernelspec": {
      "display_name": "Python 3.8.15 ('myCodes')",
      "language": "python",
      "name": "python3"
    },
    "language_info": {
      "name": "python",
      "version": "3.8.15"
    },
    "orig_nbformat": 4,
    "vscode": {
      "interpreter": {
        "hash": "be9c8c09f02aff164ff9b08fdc7e0d6a8d8e8fe95a6cb9e2cbfc007f36c1c7da"
      }
    }
  },
  "nbformat": 4,
  "nbformat_minor": 0
}