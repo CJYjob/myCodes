{
  "cells": [
    {
      "cell_type": "code",
      "execution_count": 1,
      "metadata": {
        "colab": {
          "base_uri": "https://localhost:8080/"
        },
        "id": "9MEDfNYiRtmn",
        "outputId": "725968d3-2bed-4396-fb48-9be46c27aee4"
      },
      "outputs": [
        {
          "name": "stdout",
          "output_type": "stream",
          "text": [
            "Mounted at /content/drive\n"
          ]
        }
      ],
      "source": [
        "# 구글 드라이브 마운트(cjyjob1993@gmail.com)\n",
        "from google.colab import drive\n",
        "drive.mount('/content/drive')\n",
        "\n",
        "# lib 디렉토리를을 환경 변수에 추가\n",
        "import sys\n",
        "sys.path.append('/content/drive/MyDrive/Colab Notebooks/myCode/lib')"
      ]
    },
    {
      "cell_type": "markdown",
      "metadata": {},
      "source": [
        "# 신경망 학습"
      ]
    },
    {
      "cell_type": "markdown",
      "metadata": {},
      "source": [
        "## 신경망 학습 과정 \n",
        "\n",
        "1. 입력된 데이터가 각 층을 통과하며, 가중합(weight, bias) 및 활성화 함수 연산 반복\n",
        "2. 출력층에서 계산된 값 출력\n",
        "3. 예측값과 실제값(from 손실 함수)의 차이 계산\n",
        "4. 경사하강법, 역전파를 통한 가중치 갱신\n",
        "5. 학습 종료 까지 1~4 반복"
      ]
    },
    {
      "cell_type": "markdown",
      "metadata": {},
      "source": [
        "## iteration\n",
        "\n",
        "+ 가중치가 갱신되는 횟수.\n",
        "+ 신경망 학습과정 1~4 반복 횟수(순전파 : 1,2 / 손실 함수 : 3 / 역전파 : 4)"
      ]
    },
    {
      "cell_type": "markdown",
      "metadata": {},
      "source": [
        "## 순전파 (Forward Propagation)\n",
        "입력층에서 입력된 신호가 각 층의 연산을 거쳐, 출력층에서 값으로 나오는 과정\n",
        "\n",
        "1. 입력층(or 이전 은닉층)의 신호 수령\n",
        "2. 가중합(가중치, 편향) 연산\n",
        "3. 가중합 결과가 활성화 함수를 통과해 다음 층으로 전달"
      ]
    },
    {
      "cell_type": "markdown",
      "metadata": {},
      "source": [
        "## 손실 함수 (Loss Function)\n",
        "출력값과 타겟값의 차이를 구하는 함수\n",
        "### MSE Mean-Squared Error\n",
        "회귀 문제에 사용\n",
        "### MAE Mean-Average Error\n",
        "회귀 문제에 사용\n",
        "### binary_crossentropy\n",
        "이진 분류 문제에 사용\n",
        "### CEE Cross-Entropy Error\n",
        "다중 분류 문제에 사용\n",
        "#### categorical_crossentropy\n",
        "클래스간 비율이 유사 할 때 사용\n",
        "#### sparse_categorical_crossentropy\n",
        "클래스간 비율이 불균형 할 때 사용"
      ]
    },
    {
      "cell_type": "markdown",
      "metadata": {},
      "source": [
        "## 역전파 (Backward Propagation)\n",
        "출력층에서 입력층 방향으로, 경사하강법을 사용해, 손실을 줄이도록 weights와 bias를 갱신하는 과정. 이 과정에서 편미분과 Chain rule(연쇄 법칙)이 사용됨."
      ]
    },
    {
      "cell_type": "markdown",
      "metadata": {},
      "source": [
        "## 경사하강법 (Gradient Descent)\n",
        "+ 손실 함수를 줄이는 방향으로\n",
        "+ 손실 함수의 기울기가 작아지는 방향으로\n",
        "+ 각 가중치 및 편향에 대한 손실 함수의 도함수(손실 함수를 편미분한 함수)를 계산해\n",
        "+ 가중치 및 편향을 갱신하는 방법\n",
        "+ 갱신된 가중치 = 갱신 전 가중치 - (학습률 * 해당 지점의 기울기)"
      ]
    },
    {
      "cell_type": "markdown",
      "metadata": {},
      "source": [
        "## 옵티마이저 (Optimizer)\n",
        "+ 경사를 내려가는 방법\n",
        "+ 대표적인 것들은 아래와 같음\n",
        "### GD (Gradient Descent, 경사하강법)\n",
        "+ 일반적인 경사하강법\n",
        "+ 모든 입력데이터를 사용해 가중치를 업데이트\n",
        "### SGD (Stochastic Gradient Descent, 확률적 경사하강법)\n",
        "+ 데이터의 양이 많아지면서, 기존의 GD는 학습 소요 시간이 지나치게 길어지면서 등장\n",
        "+ 하나의 입력데이터만 사용해 가중치를 업데이트\n",
        "+ 사용하는 데이터가 감소한 만큼, 소요 시간이 짧음\n",
        "+ 이상치에 민감하게 작동함(불안정)\n",
        "+ 1 epoch 에 하나의 데이터만 사용(다른 것들은 1 epoch에서 모든 데이터를 사용)\n",
        "### 미니 배치 경사 하강법\n",
        "+ SGD를 변형해 사용\n",
        "+ N개의 데이터를 사용해 가중치를 업데이트\n",
        "+ 속도도 개선되면서, 학습 안정성도 어느정도 유지\n",
        "#### 배치 사이즈(batch size)\n",
        "+ 미니 배치의 크기.\n",
        "+ 일반적으로 2의 배수로 설정\n",
        "+ 메모리가 허락하는 선에서 큰 사이즈가 학습에 안정적\n",
        "### adam\n",
        "+ 가장 안정적이고, 대중적인 옵티마이저"
      ]
    },
    {
      "cell_type": "markdown",
      "metadata": {
        "id": "2LefTKK9Rtms"
      },
      "source": [
        "# 신경망 구현하기"
      ]
    },
    {
      "cell_type": "code",
      "execution_count": 2,
      "metadata": {
        "id": "A0FY1G5CRtmu"
      },
      "outputs": [],
      "source": [
        "# 라이브러리 임포트\n",
        "import numpy as np\n",
        "# 커스텀 라이브러리 임포트\n",
        "from func_debug_log import debug"
      ]
    },
    {
      "cell_type": "code",
      "execution_count": 3,
      "metadata": {
        "id": "GMlJJ8uoRtmv"
      },
      "outputs": [],
      "source": [
        "# debug_flag 설정(0:미출력, 1:출력)\n",
        "debug_flag = 0"
      ]
    },
    {
      "cell_type": "markdown",
      "metadata": {
        "id": "zA1TlXC1Rtmw"
      },
      "source": [
        "## 신경망 초기 상태 설정\n",
        "weight, bias 초기화(랜덤값)"
      ]
    },
    {
      "cell_type": "code",
      "execution_count": 4,
      "metadata": {
        "id": "TqFbnB-2Rtmy"
      },
      "outputs": [],
      "source": [
        "# 신경망 초기화 함수\n",
        "#   params\n",
        "#       없음\n",
        "#   process\n",
        "#       weights, bias이 랜덤하게 초기화된 net 생성\n",
        "#   returns\n",
        "#       초기화된 net (딕셔너리)\n",
        "def init_network() :\n",
        "    if debug_flag == 1 : debug('신경망 초기화', __name__)\n",
        "    np.random.seed(42)\n",
        "    net = {} \n",
        "    net['w1'] = np.random.rand(3, 4)\n",
        "    net['b1'] = np.random.rand(4)\n",
        "    net['w2'] = np.random.rand(4,2)\n",
        "    net['b2'] = np.random.rand(2)\n",
        "    return net"
      ]
    },
    {
      "cell_type": "markdown",
      "metadata": {
        "id": "9Sm7HX2lRtmz"
      },
      "source": [
        "## 활성화 함수 구현\n",
        "입력값의 시그모이드 함수의 결과값 "
      ]
    },
    {
      "cell_type": "code",
      "execution_count": 5,
      "metadata": {
        "id": "twJFLx8gRtm0"
      },
      "outputs": [],
      "source": [
        "# 시그모이드 함수\n",
        "#   params\n",
        "#       x : 이전 층으로부터 전달 받은 가중합\n",
        "#   process\n",
        "#       x를 시그모이드 함수에 입력\n",
        "#   returns\n",
        "#       x가 시그모이드를 통과한 값\n",
        "def sigmoid(x):\n",
        "    if debug_flag == 1 : debug('시그모이드 함수 실행', __name__)\n",
        "    z = 1/(1+np.exp(-x))\n",
        "    return z"
      ]
    },
    {
      "cell_type": "markdown",
      "metadata": {
        "id": "COx14IMGRtm0"
      },
      "source": [
        "## 순전파\n",
        "weight, bias 의 가중합 / 활성화 함수를 사용하여 입력층에서 은닉층을 거쳐, 출력층까지 계산."
      ]
    },
    {
      "cell_type": "markdown",
      "metadata": {
        "id": "YUrzlKPGRtm1"
      },
      "source": [
        "### 입력층\n",
        "데이터셋이 입력되는 층으로 features 수 만큼의 입력 노드를 갖는다."
      ]
    },
    {
      "cell_type": "markdown",
      "metadata": {
        "id": "YjgrpjB2Rtm1"
      },
      "source": [
        "### 은닉층\n",
        "입력 신호를 가중합(가중치, 편향)하여 처리하는 층으로, 사용자가 볼 수 없으며, 노드수는 자유롭게 결정 가능하다. 2개 이상의 은닉층을 가진 신경망을 `딥러닝`이라고 한다."
      ]
    },
    {
      "cell_type": "markdown",
      "metadata": {
        "id": "fG8YvV8oRtm2"
      },
      "source": [
        "### 출력층\n",
        "연산을 마친 값이 출력되는 층이다. 문제의 종류에 따라, 노드 수, 활성화 함수가 결정된다."
      ]
    },
    {
      "cell_type": "markdown",
      "metadata": {
        "id": "z8On08eKRtm2"
      },
      "source": [
        "#### 이진 분류\n",
        "활성화 함수는 시그모이드, 노드 수 1개, 0~1 사이의 확률값이 출력"
      ]
    },
    {
      "cell_type": "markdown",
      "metadata": {
        "id": "1ABlp2BSRtm3"
      },
      "source": [
        "#### 다중 분류\n",
        "활성화 함수는 소프트맥스, 노드 수는 레이블릐 클래스 수와 동일. 각 클래스일 확률을 0~1 사이 값으로 출력하며, 합은 1이 된다."
      ]
    },
    {
      "cell_type": "markdown",
      "metadata": {
        "id": "eK8EySdHRtm3"
      },
      "source": [
        "#### 회귀\n",
        "활성화 함수는 사용하지 않으며, 출력층의 노드 수는 출력값의 특성 수와 동일."
      ]
    },
    {
      "cell_type": "code",
      "execution_count": 10,
      "metadata": {
        "id": "ogcgFePKRtm3"
      },
      "outputs": [],
      "source": [
        "# 순전파 함수\n",
        "#   params\n",
        "#       net : 학습시킬 신경망\n",
        "#       x : 입력층에서 입력 받은 값\n",
        "#   process\n",
        "#       x를 은닉층(가중합) -> 시그모이드 함수 -> 출력층(가중합) 통과\n",
        "#   returns\n",
        "#       입력 x가 신경망을 통과해 산출된 값\n",
        "def forward(net, x):\n",
        "    if debug_flag == 1 : debug('순전파 함수 실행', __name__)\n",
        "    w1 = net['w1']\n",
        "    w2 = net['w2']\n",
        "    b1 = net['b1']\n",
        "    b2 = net['b2']\n",
        "\n",
        "    # 은닉층\n",
        "    h = np.dot(x, w1) + b1\n",
        "\n",
        "    # 시그모이드 함수\n",
        "    s = sigmoid(h)\n",
        "\n",
        "    # 출력층\n",
        "    o = np.dot(s, w2) + b2\n",
        "\n",
        "    return o"
      ]
    },
    {
      "cell_type": "code",
      "execution_count": 7,
      "metadata": {
        "id": "SZvd2g7wRtm4"
      },
      "outputs": [],
      "source": [
        "if debug_flag == 1 : debug('신경망 인스턴스 생성', __name__)\n",
        "net = init_network()"
      ]
    },
    {
      "cell_type": "code",
      "execution_count": 8,
      "metadata": {
        "id": "PsK0Ipz3Rtm6"
      },
      "outputs": [],
      "source": [
        "if debug_flag == 1 : debug('샘플 데이터 생성', __name__)\n",
        "x = np.random.rand(3)"
      ]
    },
    {
      "cell_type": "code",
      "execution_count": 11,
      "metadata": {
        "colab": {
          "base_uri": "https://localhost:8080/"
        },
        "id": "zYD4LSbTRtm6",
        "outputId": "403b02e7-74e7-49e6-8e43-a836577aa79b"
      },
      "outputs": [
        {
          "name": "stdout",
          "output_type": "stream",
          "text": [
            "[1.59720489 1.78032042]\n"
          ]
        }
      ],
      "source": [
        "if debug_flag == 1 : debug('샘플데이터로, 신경망 순전파 진행', __name__)\n",
        "y = forward(net, x)\n",
        "print(y)"
      ]
    }
  ],
  "metadata": {
    "colab": {
      "provenance": []
    },
    "kernelspec": {
      "display_name": "Python 3.8.15 ('myCodes')",
      "language": "python",
      "name": "python3"
    },
    "language_info": {
      "name": "python",
      "version": "3.8.15"
    },
    "orig_nbformat": 4,
    "vscode": {
      "interpreter": {
        "hash": "be9c8c09f02aff164ff9b08fdc7e0d6a8d8e8fe95a6cb9e2cbfc007f36c1c7da"
      }
    }
  },
  "nbformat": 4,
  "nbformat_minor": 0
}
