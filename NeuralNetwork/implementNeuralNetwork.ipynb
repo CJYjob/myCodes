{
 "cells": [
  {
   "cell_type": "code",
   "execution_count": null,
   "metadata": {},
   "outputs": [
    {
     "ename": "",
     "evalue": "",
     "output_type": "error",
     "traceback": [
      "\u001b[1;31m'Python 3.8.15 ('myCodes')'(으)로 셀을 실행하려면 ipykernel 패키지가 필요합니다.\n",
      "\u001b[1;31m다음 명령어를 실행하여 Python 환경에 'ipykernel'을(를) 설치합니다. \n",
      "\u001b[1;31m 명령: 'conda install -n myCodes ipykernel --update-deps --force-reinstall'"
     ]
    }
   ],
   "source": [
    "# 구글 드라이브 마운트(cjyjob1993@gmail.com)\n",
    "from google.colab import drive\n",
    "drive.mount('/content/drive')\n",
    "\n",
    "# lib 디렉토리를을 환경 변수에 추가\n",
    "import sys\n",
    "sys.path.append('/content/drive/MyDrive/Colab Notebooks/myCode/lib')"
   ]
  },
  {
   "cell_type": "markdown",
   "metadata": {},
   "source": [
    "# 신경망 구현하기"
   ]
  },
  {
   "cell_type": "code",
   "execution_count": null,
   "metadata": {},
   "outputs": [
    {
     "ename": "",
     "evalue": "",
     "output_type": "error",
     "traceback": [
      "\u001b[1;31m'Python 3.8.15 ('myCodes')'(으)로 셀을 실행하려면 ipykernel 패키지가 필요합니다.\n",
      "\u001b[1;31m다음 명령어를 실행하여 Python 환경에 'ipykernel'을(를) 설치합니다. \n",
      "\u001b[1;31m 명령: 'conda install -n myCodes ipykernel --update-deps --force-reinstall'"
     ]
    }
   ],
   "source": [
    "# 라이브러리 임포트\n",
    "import numpy as np\n",
    "# 커스텀 라이브러리 임포트\n",
    "from func_debug_log import debug"
   ]
  },
  {
   "cell_type": "code",
   "execution_count": null,
   "metadata": {},
   "outputs": [
    {
     "ename": "",
     "evalue": "",
     "output_type": "error",
     "traceback": [
      "\u001b[1;31m'Python 3.8.15 ('myCodes')'(으)로 셀을 실행하려면 ipykernel 패키지가 필요합니다.\n",
      "\u001b[1;31m다음 명령어를 실행하여 Python 환경에 'ipykernel'을(를) 설치합니다. \n",
      "\u001b[1;31m 명령: 'conda install -n myCodes ipykernel --update-deps --force-reinstall'"
     ]
    }
   ],
   "source": [
    "# debug_flag 설정(0:미출력, 1:출력)\n",
    "debug_flag = 0"
   ]
  },
  {
   "cell_type": "markdown",
   "metadata": {},
   "source": [
    "## 신경망 초기 상태 설정\n",
    "weight, bias 초기화(랜덤값)"
   ]
  },
  {
   "cell_type": "code",
   "execution_count": null,
   "metadata": {},
   "outputs": [
    {
     "ename": "",
     "evalue": "",
     "output_type": "error",
     "traceback": [
      "\u001b[1;31m'Python 3.8.15 ('myCodes')'(으)로 셀을 실행하려면 ipykernel 패키지가 필요합니다.\n",
      "\u001b[1;31m다음 명령어를 실행하여 Python 환경에 'ipykernel'을(를) 설치합니다. \n",
      "\u001b[1;31m 명령: 'conda install -n myCodes ipykernel --update-deps --force-reinstall'"
     ]
    }
   ],
   "source": [
    "# 신경망 초기화 함수\n",
    "#   params\n",
    "#       없음\n",
    "#   process\n",
    "#       weights, bias이 랜덤하게 초기화된 net 생성\n",
    "#   returns\n",
    "#       초기화된 net (딕셔너리)\n",
    "def init_network() :\n",
    "    if debug_flag == 1 : debug('신경망 초기화', __name__)\n",
    "    np.random.seed(42)\n",
    "    net = {} \n",
    "    net['w1'] = np.random.rand(3, 4)\n",
    "    net['b1'] = np.random.rand(4)\n",
    "    net['w2'] = np.random.rand(4,2)\n",
    "    net['b2'] = np.random.rand(2)\n",
    "    return net"
   ]
  },
  {
   "cell_type": "markdown",
   "metadata": {},
   "source": [
    "## 활성화 함수 구현\n",
    "입력값의 시그모이드 함수의 결과값 "
   ]
  },
  {
   "cell_type": "code",
   "execution_count": null,
   "metadata": {},
   "outputs": [
    {
     "ename": "",
     "evalue": "",
     "output_type": "error",
     "traceback": [
      "\u001b[1;31m'Python 3.8.15 ('myCodes')'(으)로 셀을 실행하려면 ipykernel 패키지가 필요합니다.\n",
      "\u001b[1;31m다음 명령어를 실행하여 Python 환경에 'ipykernel'을(를) 설치합니다. \n",
      "\u001b[1;31m 명령: 'conda install -n myCodes ipykernel --update-deps --force-reinstall'"
     ]
    }
   ],
   "source": [
    "# 시그모이드 함수\n",
    "#   params\n",
    "#       x : 이전 층으로부터 전달 받은 가중합\n",
    "#   process\n",
    "#       x를 시그모이드 함수에 입력\n",
    "#   returns\n",
    "#       x가 시그모이드를 통과한 값\n",
    "def sigmoid(x):\n",
    "    if debug_flag == 1 : debug('시그모이드 함수 실행', __name__)\n",
    "    z = 1/(1+np.exp(-x))\n",
    "    return z"
   ]
  },
  {
   "cell_type": "markdown",
   "metadata": {},
   "source": [
    "## 순전파\n",
    "weight, bias 의 가중합 / 활성화 함수를 사용하여 입력층에서 은닉층을 거쳐, 출력층까지 계산."
   ]
  },
  {
   "cell_type": "markdown",
   "metadata": {},
   "source": [
    "### 입력층\n",
    "데이터셋이 입력되는 층으로 features 수 만큼의 입력 노드를 갖는다."
   ]
  },
  {
   "cell_type": "markdown",
   "metadata": {},
   "source": [
    "### 은닉층\n",
    "입력 신호를 가중합(가중치, 편향)하여 처리하는 층으로, 사용자가 볼 수 없으며, 노드수는 자유롭게 결정 가능하다. 2개 이상의 은닉층을 가진 신경망을 `딥러닝`이라고 한다."
   ]
  },
  {
   "cell_type": "markdown",
   "metadata": {},
   "source": [
    "### 출력층\n",
    "연산을 마친 값이 출력되는 층이다. 문제의 종류에 따라, 노드 수, 활성화 함수가 결정된다."
   ]
  },
  {
   "cell_type": "markdown",
   "metadata": {},
   "source": [
    "#### 이진 분류\n",
    "활성화 함수는 시그모이드, 노드 수 1개, 0~1 사이의 확률값이 출력"
   ]
  },
  {
   "cell_type": "markdown",
   "metadata": {},
   "source": [
    "#### 다중 분류\n",
    "활성화 함수는 소프트맥스, 노드 수는 레이블릐 클래스 수와 동일. 각 클래스일 확률을 0~1 사이 값으로 출력하며, 합은 1이 된다."
   ]
  },
  {
   "cell_type": "markdown",
   "metadata": {},
   "source": [
    "#### 회귀\n",
    "활성화 함수는 사용하지 않으며, 출력층의 노드 수는 출력값의 특성 수와 동일."
   ]
  },
  {
   "cell_type": "code",
   "execution_count": null,
   "metadata": {},
   "outputs": [
    {
     "ename": "",
     "evalue": "",
     "output_type": "error",
     "traceback": [
      "\u001b[1;31m'Python 3.8.15 ('myCodes')'(으)로 셀을 실행하려면 ipykernel 패키지가 필요합니다.\n",
      "\u001b[1;31m다음 명령어를 실행하여 Python 환경에 'ipykernel'을(를) 설치합니다. \n",
      "\u001b[1;31m 명령: 'conda install -n myCodes ipykernel --update-deps --force-reinstall'"
     ]
    }
   ],
   "source": [
    "# 순전파 함수\n",
    "#   params\n",
    "#       net : 학습시킬 신경망\n",
    "#       x : 입력층에서 입력 받은 값\n",
    "#   process\n",
    "#       x를 은닉층(가중합) -> 시그모이드 함수 -> 출력층(가중합) 통과\n",
    "#   returns\n",
    "#       입력 x가 신경망을 통과해 산출된 값\n",
    "def forward(net, x):\n",
    "    if debug_flag == 1 : debug('순전파 함수 실행', __name__)\n",
    "    w1 = net['w1']\n",
    "    w2 = net['w2']\n",
    "    b1 = net['b1']\n",
    "    b2 = net['b2']\n",
    "\n",
    "    # 은닉층\n",
    "    h = np.dot(x, w1) + b1\n",
    "\n",
    "    # 시그모이드 함수\n",
    "    s = sigmoid(h1)\n",
    "\n",
    "    # 출력층\n",
    "    o = np.dot(s, w2) + b2\n",
    "\n",
    "    return o"
   ]
  },
  {
   "cell_type": "code",
   "execution_count": null,
   "metadata": {},
   "outputs": [
    {
     "ename": "",
     "evalue": "",
     "output_type": "error",
     "traceback": [
      "\u001b[1;31m'Python 3.8.15 ('myCodes')'(으)로 셀을 실행하려면 ipykernel 패키지가 필요합니다.\n",
      "\u001b[1;31m다음 명령어를 실행하여 Python 환경에 'ipykernel'을(를) 설치합니다. \n",
      "\u001b[1;31m 명령: 'conda install -n myCodes ipykernel --update-deps --force-reinstall'"
     ]
    }
   ],
   "source": [
    "if debug_flag == 1 : debug('신경망 인스턴스 생성', __name__)\n",
    "net = init_network()"
   ]
  },
  {
   "cell_type": "code",
   "execution_count": null,
   "metadata": {},
   "outputs": [
    {
     "ename": "",
     "evalue": "",
     "output_type": "error",
     "traceback": [
      "\u001b[1;31m'Python 3.8.15 ('myCodes')'(으)로 셀을 실행하려면 ipykernel 패키지가 필요합니다.\n",
      "\u001b[1;31m다음 명령어를 실행하여 Python 환경에 'ipykernel'을(를) 설치합니다. \n",
      "\u001b[1;31m 명령: 'conda install -n myCodes ipykernel --update-deps --force-reinstall'"
     ]
    }
   ],
   "source": [
    "if debug_flag == 1 : debug('샘플 데이터 생성', __name__)\n",
    "x = np.random.rand(3)"
   ]
  },
  {
   "cell_type": "code",
   "execution_count": null,
   "metadata": {},
   "outputs": [
    {
     "ename": "",
     "evalue": "",
     "output_type": "error",
     "traceback": [
      "\u001b[1;31m'Python 3.8.15 ('myCodes')'(으)로 셀을 실행하려면 ipykernel 패키지가 필요합니다.\n",
      "\u001b[1;31m다음 명령어를 실행하여 Python 환경에 'ipykernel'을(를) 설치합니다. \n",
      "\u001b[1;31m 명령: 'conda install -n myCodes ipykernel --update-deps --force-reinstall'"
     ]
    }
   ],
   "source": [
    "if debug_flag == 1 : debug('샘플데이터로, 신경망 순전파 진행', __name__)\n",
    "y = forward(net, x)\n",
    "print(y)"
   ]
  }
 ],
 "metadata": {
  "kernelspec": {
   "display_name": "Python 3.8.15 ('myCodes')",
   "language": "python",
   "name": "python3"
  },
  "language_info": {
   "name": "python",
   "version": "3.8.15"
  },
  "orig_nbformat": 4,
  "vscode": {
   "interpreter": {
    "hash": "be9c8c09f02aff164ff9b08fdc7e0d6a8d8e8fe95a6cb9e2cbfc007f36c1c7da"
   }
  }
 },
 "nbformat": 4,
 "nbformat_minor": 2
}
