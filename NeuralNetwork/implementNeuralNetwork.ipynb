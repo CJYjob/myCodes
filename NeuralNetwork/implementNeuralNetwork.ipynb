{
 "cells": [
  {
   "cell_type": "markdown",
   "metadata": {},
   "source": [
    "# 신경망 구현하기"
   ]
  },
  {
   "cell_type": "markdown",
   "metadata": {},
   "source": [
    "## 신경망 초기 상태 설정\n",
    "weight, bias 초기화(랜덤값)"
   ]
  },
  {
   "cell_type": "code",
   "execution_count": null,
   "metadata": {},
   "outputs": [
    {
     "ename": "",
     "evalue": "",
     "output_type": "error",
     "traceback": [
      "\u001b[1;31m'Python 3.8.15 ('myCodes')'(으)로 셀을 실행하려면 ipykernel 패키지가 필요합니다.\n",
      "\u001b[1;31m다음 명령어를 실행하여 Python 환경에 'ipykernel'을(를) 설치합니다. \n",
      "\u001b[1;31m 명령: 'conda install -n myCodes ipykernel --update-deps --force-reinstall'"
     ]
    }
   ],
   "source": [
    "# 신경망 초기화 함수\n",
    "#   params\n",
    "#       없음\n",
    "#   process\n",
    "#       weights, bias이 랜덤하게 초기화된 net 생성\n",
    "#   returns\n",
    "#       초기화된 net (딕셔너리)\n",
    "def init_network() :\n",
    "    np.random.seed(42)\n",
    "    net = {} \n",
    "    net['w1'] = np.random.rand(2, 4)\n",
    "    net['b1'] = np.random.rand(4)\n",
    "    net['w2'] = np.random.rand(4,2)\n",
    "    net['b2'] = np.random.rand(2)\n",
    "    return net"
   ]
  },
  {
   "cell_type": "code",
   "execution_count": null,
   "metadata": {},
   "outputs": [],
   "source": [
    "net = init_network()"
   ]
  }
 ],
 "metadata": {
  "kernelspec": {
   "display_name": "Python 3.8.15 ('myCodes')",
   "language": "python",
   "name": "python3"
  },
  "language_info": {
   "name": "python",
   "version": "3.8.15"
  },
  "orig_nbformat": 4,
  "vscode": {
   "interpreter": {
    "hash": "be9c8c09f02aff164ff9b08fdc7e0d6a8d8e8fe95a6cb9e2cbfc007f36c1c7da"
   }
  }
 },
 "nbformat": 4,
 "nbformat_minor": 2
}
