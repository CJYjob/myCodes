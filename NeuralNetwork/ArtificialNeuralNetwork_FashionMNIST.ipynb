{
 "cells": [
  {
   "cell_type": "code",
   "execution_count": null,
   "metadata": {},
   "outputs": [],
   "source": [
    "# 구글 드라이브 마운트(cjyjob1993@gmail.com)\n",
    "from google.colab import drive\n",
    "drive.mount('/content/drive')\n",
    "\n",
    "# lib 디렉토리를을 환경 변수에 추가\n",
    "import sys\n",
    "sys.path.append('/content/drive/MyDrive/Colab Notebooks/myCode/lib')"
   ]
  },
  {
   "cell_type": "code",
   "execution_count": null,
   "metadata": {},
   "outputs": [],
   "source": [
    "# 라이브러리 임포트\n",
    "import numpy as np\n",
    "import pandas as pd\n",
    "import matplotlib.pyplot as plt\n",
    "import tensorflow as tf\n",
    "from tensorflow.keras.models import Sequential\n",
    "from tensorflow.keras.layers import Dense, Flatten\n",
    "from tensorflow.keras.datasets import fashion_mnist\n",
    "\n",
    "# 커스텀 라이브러리 임포트\n",
    "import numpy_fixSeed\n",
    "import tensorflow_fixSeed\n",
    "from func_debug_log import debug\n",
    "from func_pandas_exploreDataFrame import exploreDataFrame"
   ]
  },
  {
   "cell_type": "code",
   "execution_count": null,
   "metadata": {},
   "outputs": [],
   "source": [
    "# debug_log (0 : 미출력, 1 : 출력)\n",
    "debug_flag = 1"
   ]
  },
  {
   "cell_type": "code",
   "execution_count": null,
   "metadata": {},
   "outputs": [],
   "source": [
    "if debug_flag == 1 : debug('데이터 불러오기 및 분할', __name__)\n",
    "\n",
    "(X_train, y_train), (X_test, y_test) = fashion_mnist.load_data()"
   ]
  },
  {
   "cell_type": "code",
   "execution_count": null,
   "metadata": {},
   "outputs": [],
   "source": [
    "if debug_flag == 1 : debug('데이터프레임 탐색 ', __name__)\n",
    "\n",
    "exploreDataFrame(X_train)\n",
    "exploreDataFrame(X_test)"
   ]
  },
  {
   "cell_type": "code",
   "execution_count": null,
   "metadata": {},
   "outputs": [],
   "source": [
    "if debug_flag == 1 : debug('이미지 데이터 정규화', __name__)\n",
    "X_train, X_test = X_train/255.0, X_test/255.0"
   ]
  },
  {
   "cell_type": "code",
   "execution_count": null,
   "metadata": {},
   "outputs": [],
   "source": [
    "if debug_flag == 1 : debug('데이터 탐색(이미지 시각화)', __name__)\n",
    "for i in range(9) : \n",
    "    plt.subplot(3,3,i+1)\n",
    "    plt.imshow(X_train[i], cmap=plt.get_cmap('gray'))\n",
    "    plt.axis('off')\n",
    "plt.show()"
   ]
  },
  {
   "cell_type": "code",
   "execution_count": null,
   "metadata": {},
   "outputs": [],
   "source": [
    "if debug_flag == 1 : debug('신경망 모델 구축', __name__)\n",
    "model = Sequential()\n",
    "model.add(Flatten(input_shape=(28, 28)))\n",
    "model.add(Dense(10, activation='softmax'))"
   ]
  },
  {
   "cell_type": "code",
   "execution_count": null,
   "metadata": {},
   "outputs": [],
   "source": [
    "if debug_flag == 1 : debug('신경망 모델 컴파일', __name__)\n",
    "model.compile(optimizer='adam',\n",
    "    loss = 'sparse_categorical_crossentropy',\n",
    "    metrics=['accuracy'])"
   ]
  },
  {
   "cell_type": "code",
   "execution_count": null,
   "metadata": {},
   "outputs": [],
   "source": [
    "if debug_flag == 1 : debug('신경망 모델 학습', __name__)\n",
    "model.fit(X_train, y_train, epochs=10)"
   ]
  },
  {
   "cell_type": "code",
   "execution_count": null,
   "metadata": {},
   "outputs": [],
   "source": [
    "if debug_flag == 1 : debug('신경망 모델 학습 평가', __name__)\n",
    "model.evaluate(X_test, y_test, verbose=2)"
   ]
  }
 ],
 "metadata": {
  "kernelspec": {
   "display_name": "Python 3.8.15 ('myCodes')",
   "language": "python",
   "name": "python3"
  },
  "language_info": {
   "name": "python",
   "version": "3.8.15"
  },
  "orig_nbformat": 4,
  "vscode": {
   "interpreter": {
    "hash": "be9c8c09f02aff164ff9b08fdc7e0d6a8d8e8fe95a6cb9e2cbfc007f36c1c7da"
   }
  }
 },
 "nbformat": 4,
 "nbformat_minor": 2
}
