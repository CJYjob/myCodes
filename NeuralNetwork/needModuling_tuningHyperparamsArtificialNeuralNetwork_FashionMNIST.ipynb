{
  "cells": [
    {
      "cell_type": "markdown",
      "metadata": {
        "id": "zjqpMlT8AynR"
      },
      "source": [
        "# 신경망 하이퍼파라미터 튜닝 방법\n",
        "`하이퍼파라미터`란, 개발자가 직접 조절해주는 변수로, 모델 성능에 큰 영향을 미친다.\n",
        "+ 배치 크기\n",
        "+ 에포크(epochs)\n",
        "+ 옵티마이저(optimizers)\n",
        "+ 학습률(learning rate)\n",
        "+ 활성화 함수(activation)\n",
        "+ Regularization(weight decay, Dropout 등)\n",
        "+ 은닉층(Hidden layer)의 노드(Node) 수\n",
        "+ etc"
      ]
    },
    {
      "cell_type": "code",
      "execution_count": 1,
      "metadata": {
        "id": "gdr-xawnAynw",
        "outputId": "9373a28c-1ded-45cc-819d-89def90c8c46",
        "colab": {
          "base_uri": "https://localhost:8080/"
        }
      },
      "outputs": [
        {
          "output_type": "stream",
          "name": "stdout",
          "text": [
            "Mounted at /content/drive\n"
          ]
        }
      ],
      "source": [
        "# 구글 드라이브 마운트(cjyjob1993@gmail.com)\n",
        "from google.colab import drive\n",
        "drive.mount('/content/drive')\n",
        "\n",
        "# lib 디렉토리를을 환경 변수에 추가\n",
        "import sys\n",
        "sys.path.append('/content/drive/MyDrive/Colab Notebooks/myCode/lib')"
      ]
    },
    {
      "cell_type": "code",
      "source": [
        "# 커스텀 라이브러리 임포트\n",
        "from func_debug_log import debug"
      ],
      "metadata": {
        "id": "H3f05drFICca"
      },
      "execution_count": 2,
      "outputs": []
    },
    {
      "cell_type": "code",
      "execution_count": 3,
      "metadata": {
        "id": "TttiehrFAyn0"
      },
      "outputs": [],
      "source": [
        "# debug_log (0 : 미출력, 1 : 함수 실행 로그 출력, 2 : 함수 내부)\n",
        "debug_flag = 1"
      ]
    },
    {
      "cell_type": "markdown",
      "metadata": {
        "id": "IvawLE71AynW"
      },
      "source": [
        "## 1. 교차 검증 적용하기"
      ]
    },
    {
      "cell_type": "code",
      "source": [
        "if debug_flag in range(1, 3) : debug('신경망에 교차 검증 적용하기', __name__)"
      ],
      "metadata": {
        "colab": {
          "base_uri": "https://localhost:8080/"
        },
        "id": "CrpdKEieIKYx",
        "outputId": "94a677c0-a0e2-4431-cd04-083871e455d4"
      },
      "execution_count": 4,
      "outputs": [
        {
          "output_type": "stream",
          "name": "stdout",
          "text": [
            "2022.12.02 19:30:22 __main__ 신경망에 교차 검증 적용하기\n"
          ]
        }
      ]
    },
    {
      "cell_type": "code",
      "source": [
        "if debug_flag in range(1, 3) : debug('데이터 불러오기', __name__)\n",
        "\n",
        "from tensorflow.keras.datasets import boston_housing\n",
        "\n",
        "(x_train, y_train), (x_test, y_test) = boston_housing.load_data()"
      ],
      "metadata": {
        "colab": {
          "base_uri": "https://localhost:8080/"
        },
        "id": "1MgpbYF4H5A-",
        "outputId": "b23808fe-ca95-4892-f7a7-ce9c83f23217"
      },
      "execution_count": 5,
      "outputs": [
        {
          "output_type": "stream",
          "name": "stdout",
          "text": [
            "2022.12.02 19:30:22 __main__ 데이터 불러오기\n",
            "Downloading data from https://storage.googleapis.com/tensorflow/tf-keras-datasets/boston_housing.npz\n",
            "57026/57026 [==============================] - 0s 0us/step\n"
          ]
        }
      ]
    },
    {
      "cell_type": "code",
      "source": [
        "if debug_flag in range(1, 3) : debug('라이브러리 임포트', __name__)\n",
        "\n",
        "from sklearn.model_selection import KFold, StratifiedKFold\n",
        "from tensorflow.keras.preprocessing.image import ImageDataGenerator\n",
        "\n",
        "from tensorflow.keras.models import Sequential\n",
        "from tensorflow.keras.layers import Dense\n",
        "\n",
        "import numpy as np\n",
        "import pandas as pd\n",
        "import tensorflow as tf\n",
        "import os"
      ],
      "metadata": {
        "colab": {
          "base_uri": "https://localhost:8080/"
        },
        "id": "eYWdUv6qIgMh",
        "outputId": "b655dcf4-e1bb-4971-a6d3-f74e802dc7f2"
      },
      "execution_count": 6,
      "outputs": [
        {
          "output_type": "stream",
          "name": "stdout",
          "text": [
            "2022.12.02 19:30:22 __main__ 라이브러리 임포트\n"
          ]
        }
      ]
    },
    {
      "cell_type": "code",
      "source": [
        "if debug_flag in range(1, 3) : debug('KFold 설정', __name__)\n",
        "\n",
        "kf = KFold(n_splits = 5)\n",
        "skf = StratifiedKFold(n_splits = 5, random_state = 42, shuffle = True) "
      ],
      "metadata": {
        "colab": {
          "base_uri": "https://localhost:8080/"
        },
        "id": "xcRD6xh8Ika_",
        "outputId": "af381936-9517-4e10-b1d2-9b8a9fb085a6"
      },
      "execution_count": 7,
      "outputs": [
        {
          "output_type": "stream",
          "name": "stdout",
          "text": [
            "2022.12.02 19:30:22 __main__ KFold 설정\n"
          ]
        }
      ]
    },
    {
      "cell_type": "code",
      "source": [
        "if debug_flag in range(1, 3) : debug('신경망 모델 구축', __name__)\n",
        "\n",
        "model = Sequential()\n",
        "model.add(Dense(64, activation='relu'))\n",
        "model.add(Dense(64, activation='relu'))\n",
        "model.add(Dense(1))"
      ],
      "metadata": {
        "id": "SKDuT8RrJ-cT",
        "outputId": "a9c3b5ca-7f46-414d-d981-096b8c6f45d5",
        "colab": {
          "base_uri": "https://localhost:8080/"
        }
      },
      "execution_count": 8,
      "outputs": [
        {
          "output_type": "stream",
          "name": "stdout",
          "text": [
            "2022.12.02 19:30:22 __main__ 신경망 모델 구축\n"
          ]
        }
      ]
    },
    {
      "cell_type": "code",
      "source": [
        "if debug_flag in range(1, 3) : debug('교차 검증 적용', __name__)\n",
        "\n",
        "x_train = pd.DataFrame(x_train)\n",
        "y_train = pd.DataFrame(y_train)\n",
        "\n",
        "\n",
        "for train_index, val_index in kf.split(np.zeros(x_train.shape[0])):\n",
        "  if debug_flag in range(2, 3) : debug('데이터 Fold 사용', __name__)\n",
        "  training_data = x_train.iloc[train_index, :]\n",
        "  training_data_label = y_train.iloc[train_index]\n",
        "  validation_data = x_train.iloc[val_index, :]\n",
        "  validation_data_label = y_train.iloc[val_index]\n",
        "\n",
        "  if debug_flag in range(2, 3) : debug('신경망 모델 컴파일', __name__)\n",
        "  model.compile(loss='mean_squared_error', optimizer='adam')\n",
        "\n",
        "  if debug_flag in range(2, 3) : debug('신경망 모델 교차 검증 적용 학습', __name__)\n",
        "  model.fit(x_train, y_train,\n",
        "            epochs=10,\n",
        "            batch_size=32,\n",
        "            validation_data = (validation_data, validation_data_label),\n",
        "            )\n",
        "  \n",
        "  if debug_flag in range(2, 3) : debug('신경망 모델 평가', __name__)\n",
        "  results = model.evaluate(x_test, y_test, batch_size=32)\n",
        "  print(\"test loss, test mse:\", results)"
      ],
      "metadata": {
        "id": "o89WShDIKMHZ",
        "outputId": "4f9b2d1a-05b4-45e8-ee62-a6b49df9f52b",
        "colab": {
          "base_uri": "https://localhost:8080/"
        }
      },
      "execution_count": 9,
      "outputs": [
        {
          "output_type": "stream",
          "name": "stdout",
          "text": [
            "2022.12.02 19:30:22 __main__ 교차 검증 적용\n",
            "Epoch 1/10\n",
            "13/13 [==============================] - 1s 17ms/step - loss: 2490.7585 - val_loss: 1158.0894\n",
            "Epoch 2/10\n",
            "13/13 [==============================] - 0s 4ms/step - loss: 428.1286 - val_loss: 234.4010\n",
            "Epoch 3/10\n",
            "13/13 [==============================] - 0s 4ms/step - loss: 167.4667 - val_loss: 136.2015\n",
            "Epoch 4/10\n",
            "13/13 [==============================] - 0s 5ms/step - loss: 99.2333 - val_loss: 52.5970\n",
            "Epoch 5/10\n",
            "13/13 [==============================] - 0s 5ms/step - loss: 69.2980 - val_loss: 57.0353\n",
            "Epoch 6/10\n",
            "13/13 [==============================] - 0s 4ms/step - loss: 64.7647 - val_loss: 47.9996\n",
            "Epoch 7/10\n",
            "13/13 [==============================] - 0s 5ms/step - loss: 60.1913 - val_loss: 51.9230\n",
            "Epoch 8/10\n",
            "13/13 [==============================] - 0s 4ms/step - loss: 60.2250 - val_loss: 46.7221\n",
            "Epoch 9/10\n",
            "13/13 [==============================] - 0s 5ms/step - loss: 58.8752 - val_loss: 45.8655\n",
            "Epoch 10/10\n",
            "13/13 [==============================] - 0s 4ms/step - loss: 58.0751 - val_loss: 45.5003\n",
            "4/4 [==============================] - 0s 3ms/step - loss: 61.3840\n",
            "test loss, test mse: 61.384010314941406\n",
            "Epoch 1/10\n",
            "13/13 [==============================] - 1s 14ms/step - loss: 75.4937 - val_loss: 66.2712\n",
            "Epoch 2/10\n",
            "13/13 [==============================] - 0s 5ms/step - loss: 72.4533 - val_loss: 61.5800\n",
            "Epoch 3/10\n",
            "13/13 [==============================] - 0s 5ms/step - loss: 56.8349 - val_loss: 55.7097\n",
            "Epoch 4/10\n",
            "13/13 [==============================] - 0s 5ms/step - loss: 53.3178 - val_loss: 55.3296\n",
            "Epoch 5/10\n",
            "13/13 [==============================] - 0s 5ms/step - loss: 53.6341 - val_loss: 53.1681\n",
            "Epoch 6/10\n",
            "13/13 [==============================] - 0s 4ms/step - loss: 49.8500 - val_loss: 52.4733\n",
            "Epoch 7/10\n",
            "13/13 [==============================] - 0s 4ms/step - loss: 47.9086 - val_loss: 51.9556\n",
            "Epoch 8/10\n",
            "13/13 [==============================] - 0s 6ms/step - loss: 48.1555 - val_loss: 46.7002\n",
            "Epoch 9/10\n",
            "13/13 [==============================] - 0s 5ms/step - loss: 45.0018 - val_loss: 45.6216\n",
            "Epoch 10/10\n",
            "13/13 [==============================] - 0s 6ms/step - loss: 46.2847 - val_loss: 49.3014\n",
            "4/4 [==============================] - 0s 4ms/step - loss: 50.8422\n",
            "test loss, test mse: 50.84224319458008\n",
            "Epoch 1/10\n",
            "13/13 [==============================] - 1s 15ms/step - loss: 59.2747 - val_loss: 30.0189\n",
            "Epoch 2/10\n",
            "13/13 [==============================] - 0s 6ms/step - loss: 49.6644 - val_loss: 29.0116\n",
            "Epoch 3/10\n",
            "13/13 [==============================] - 0s 5ms/step - loss: 43.1164 - val_loss: 41.8237\n",
            "Epoch 4/10\n",
            "13/13 [==============================] - 0s 6ms/step - loss: 47.2887 - val_loss: 28.5186\n",
            "Epoch 5/10\n",
            "13/13 [==============================] - 0s 6ms/step - loss: 42.7457 - val_loss: 25.1019\n",
            "Epoch 6/10\n",
            "13/13 [==============================] - 0s 5ms/step - loss: 39.5604 - val_loss: 24.1849\n",
            "Epoch 7/10\n",
            "13/13 [==============================] - 0s 5ms/step - loss: 42.0849 - val_loss: 25.6425\n",
            "Epoch 8/10\n",
            "13/13 [==============================] - 0s 6ms/step - loss: 38.3922 - val_loss: 22.0952\n",
            "Epoch 9/10\n",
            "13/13 [==============================] - 0s 5ms/step - loss: 38.3059 - val_loss: 27.8423\n",
            "Epoch 10/10\n",
            "13/13 [==============================] - 0s 6ms/step - loss: 42.6890 - val_loss: 21.8501\n",
            "4/4 [==============================] - 0s 3ms/step - loss: 43.5931\n",
            "test loss, test mse: 43.59312438964844\n",
            "Epoch 1/10\n",
            "13/13 [==============================] - 1s 16ms/step - loss: 60.2235 - val_loss: 56.2518\n",
            "Epoch 2/10\n",
            "13/13 [==============================] - 0s 4ms/step - loss: 53.7776 - val_loss: 67.6330\n",
            "Epoch 3/10\n",
            "13/13 [==============================] - 0s 4ms/step - loss: 41.4314 - val_loss: 44.2573\n",
            "Epoch 4/10\n",
            "13/13 [==============================] - 0s 4ms/step - loss: 35.9236 - val_loss: 44.8818\n",
            "Epoch 5/10\n",
            "13/13 [==============================] - 0s 5ms/step - loss: 35.4510 - val_loss: 45.6390\n",
            "Epoch 6/10\n",
            "13/13 [==============================] - 0s 9ms/step - loss: 35.7843 - val_loss: 43.7221\n",
            "Epoch 7/10\n",
            "13/13 [==============================] - 0s 8ms/step - loss: 34.8781 - val_loss: 42.7876\n",
            "Epoch 8/10\n",
            "13/13 [==============================] - 0s 9ms/step - loss: 33.2281 - val_loss: 43.3130\n",
            "Epoch 9/10\n",
            "13/13 [==============================] - 0s 10ms/step - loss: 35.5693 - val_loss: 50.0669\n",
            "Epoch 10/10\n",
            "13/13 [==============================] - 0s 8ms/step - loss: 35.8918 - val_loss: 42.3112\n",
            "4/4 [==============================] - 0s 5ms/step - loss: 37.8862\n",
            "test loss, test mse: 37.88616180419922\n",
            "Epoch 1/10\n",
            "13/13 [==============================] - 1s 27ms/step - loss: 79.6833 - val_loss: 52.2551\n",
            "Epoch 2/10\n",
            "13/13 [==============================] - 0s 14ms/step - loss: 45.0789 - val_loss: 48.0840\n",
            "Epoch 3/10\n",
            "13/13 [==============================] - 0s 10ms/step - loss: 35.0638 - val_loss: 45.7721\n",
            "Epoch 4/10\n",
            "13/13 [==============================] - 0s 14ms/step - loss: 35.3719 - val_loss: 39.9396\n",
            "Epoch 5/10\n",
            "13/13 [==============================] - 0s 8ms/step - loss: 31.8149 - val_loss: 38.0933\n",
            "Epoch 6/10\n",
            "13/13 [==============================] - 0s 12ms/step - loss: 31.2464 - val_loss: 37.5663\n",
            "Epoch 7/10\n",
            "13/13 [==============================] - 0s 11ms/step - loss: 34.2274 - val_loss: 37.8055\n",
            "Epoch 8/10\n",
            "13/13 [==============================] - 0s 7ms/step - loss: 32.0662 - val_loss: 37.1377\n",
            "Epoch 9/10\n",
            "13/13 [==============================] - 0s 11ms/step - loss: 32.8050 - val_loss: 39.6297\n",
            "Epoch 10/10\n",
            "13/13 [==============================] - 0s 12ms/step - loss: 33.2073 - val_loss: 45.2679\n",
            "4/4 [==============================] - 0s 8ms/step - loss: 38.6793\n",
            "test loss, test mse: 38.679317474365234\n"
          ]
        }
      ]
    },
    {
      "cell_type": "markdown",
      "metadata": {
        "id": "7NhcUL4MAynj"
      },
      "source": [
        "## 2. 하이퍼파라미터 튜닝 방식"
      ]
    },
    {
      "cell_type": "markdown",
      "metadata": {
        "id": "xhk9TZ7kAynk"
      },
      "source": [
        "### [1] Babysitting (육아) or Grad Student Descent (대학원생 갈아넣기)\n",
        "+ 수작업으로 하이퍼파라미터 조정"
      ]
    },
    {
      "cell_type": "markdown",
      "metadata": {
        "id": "i_opan3zAynl"
      },
      "source": [
        "### [2] Grid Search (격자 탐색)\n",
        "+ 하이퍼파라미터마다 탐색 지점을 규칙적으로 지정하여, 모든 지점의 조합을 수행한다(파라미터의 중요도가 모두 동일하다)\n",
        "+ 조합의 수가 많아, 소요 시간이 매우 길다\n",
        "+ 주요 하이퍼파라미터 최대 2개 정도의 최적값을 찾는 용도에 적합하다"
      ]
    },
    {
      "cell_type": "markdown",
      "metadata": {
        "id": "NuSYlVvxAynn"
      },
      "source": [
        "### [3] Random Search (무작위 탐색)\n",
        "+ 지정된 범위 내에서 무작위로 하이퍼파라미터를 조합하여 수행한 뒤 최고 성능의 모델을 반환한다(최적의 조합을 보장하지 않는다)\n",
        "+ 시도 횟수를 지정하여, 소요 시간을 조절할 수 있다\n",
        "+ 탐색과정에서 상대적으로 중요한 파라미터에 대해 집중하여 탐색하도록 최적화되어있다"
      ]
    },
    {
      "cell_type": "markdown",
      "source": [
        "### [4] Bayesian Methods (베이지안 탐색)\n",
        "+ 이전 탐색 결과 정보를 새로운 탐색에 활용하는 방법.\n",
        "+ `bayes_opt`나 `hyperopt`와 같은 패키지로 적용이 가능"
      ],
      "metadata": {
        "id": "tI-PS2FTQK4_"
      }
    },
    {
      "cell_type": "code",
      "source": [
        "if debug_flag in range(1, 3) : debug('Grid Search 예시', __name__)"
      ],
      "metadata": {
        "id": "5t8phZZOQx7l",
        "outputId": "605e01fe-10f0-4ad6-804a-6609b3d0e39f",
        "colab": {
          "base_uri": "https://localhost:8080/"
        }
      },
      "execution_count": 10,
      "outputs": [
        {
          "output_type": "stream",
          "name": "stdout",
          "text": [
            "2022.12.02 19:30:22 __main__ Grid Search 예시\n"
          ]
        }
      ]
    },
    {
      "cell_type": "code",
      "source": [
        "if debug_flag in range(1, 3) : debug('라이브러리 임포트', __name__)\n",
        "import numpy\n",
        "import pandas as pd\n",
        "from sklearn.model_selection import GridSearchCV\n",
        "from tensorflow.keras.models import Sequential\n",
        "from tensorflow.keras.layers import Dense\n",
        "from tensorflow.keras.wrappers.scikit_learn import KerasClassifier"
      ],
      "metadata": {
        "id": "UkDESsBCRjhe",
        "outputId": "3f841a10-dcb4-4e85-ae4d-c9c4becf29d9",
        "colab": {
          "base_uri": "https://localhost:8080/"
        }
      },
      "execution_count": 11,
      "outputs": [
        {
          "output_type": "stream",
          "name": "stdout",
          "text": [
            "2022.12.02 19:30:22 __main__ 라이브러리 임포트\n"
          ]
        }
      ]
    },
    {
      "cell_type": "code",
      "source": [
        "if debug_flag in range(2, 3) : debug('numpy seed 고정', __name__)\n",
        "numpy.random.seed(42)"
      ],
      "metadata": {
        "id": "ubD4WHX6RoyN"
      },
      "execution_count": 12,
      "outputs": []
    },
    {
      "cell_type": "code",
      "source": [
        "if debug_flag in range(1, 3) : debug('데이터 불러오기', __name__)\n",
        "url =\"https://raw.githubusercontent.com/jbrownlee/Datasets/master/pima-indians-diabetes.data.csv\"\n",
        "\n",
        "dataset = pd.read_csv(url, header=None).values"
      ],
      "metadata": {
        "id": "ZUinqaSXRtOi",
        "outputId": "b56af57f-4046-4383-d912-3786a6b3ba24",
        "colab": {
          "base_uri": "https://localhost:8080/"
        }
      },
      "execution_count": 13,
      "outputs": [
        {
          "output_type": "stream",
          "name": "stdout",
          "text": [
            "2022.12.02 19:30:22 __main__ 데이터 불러오기\n"
          ]
        }
      ]
    },
    {
      "cell_type": "code",
      "source": [
        "if debug_flag in range(2, 3) : debug('데이터 분할', __name__)\n",
        "X = dataset[:,0:8]\n",
        "Y = dataset[:,8]"
      ],
      "metadata": {
        "id": "__GdzHqIRwsk"
      },
      "execution_count": 14,
      "outputs": []
    },
    {
      "cell_type": "code",
      "source": [
        "if debug_flag in range(1, 3) : debug('신경망 모델 제작', __name__)\n",
        "def create_model():\n",
        "    model = Sequential()\n",
        "    model.add(Dense(100, input_dim=8, activation='relu'))\n",
        "    model.add(Dense(1, activation='sigmoid'))\n",
        "    \n",
        "    model.compile(loss='binary_crossentropy', optimizer='adam', metrics=['accuracy'])\n",
        "    return model"
      ],
      "metadata": {
        "id": "R2NVqSsXRzqG",
        "outputId": "3508bee4-46a7-47a0-9c46-a6562eedb8f2",
        "colab": {
          "base_uri": "https://localhost:8080/"
        }
      },
      "execution_count": 15,
      "outputs": [
        {
          "output_type": "stream",
          "name": "stdout",
          "text": [
            "2022.12.02 19:30:22 __main__ 신경망 모델 제작\n"
          ]
        }
      ]
    },
    {
      "cell_type": "code",
      "source": [
        "if debug_flag in range(2, 3) : debug('KerasClassifier로 wrapping', __name__)\n",
        "model = KerasClassifier(build_fn=create_model, verbose=0)"
      ],
      "metadata": {
        "id": "QEXOsI6aR38J",
        "outputId": "e00fe842-96d9-40f7-d473-f3b5fab7c062",
        "colab": {
          "base_uri": "https://localhost:8080/"
        }
      },
      "execution_count": 16,
      "outputs": [
        {
          "output_type": "stream",
          "name": "stderr",
          "text": [
            "<ipython-input-16-7c1d537425fb>:2: DeprecationWarning: KerasClassifier is deprecated, use Sci-Keras (https://github.com/adriangb/scikeras) instead. See https://www.adriangb.com/scikeras/stable/migration.html for help migrating.\n",
            "  model = KerasClassifier(build_fn=create_model, verbose=0)\n"
          ]
        }
      ]
    },
    {
      "cell_type": "code",
      "source": [
        "if debug_flag in range(2, 3) : debug('하이퍼파라미터 탐색 범위 설정', __name__)\n",
        "batch_size = [8, 16, 32, 64, 128]\n",
        "param_grid = dict(batch_size=batch_size)"
      ],
      "metadata": {
        "id": "R1MmhbQwR9Jg"
      },
      "execution_count": 17,
      "outputs": []
    },
    {
      "cell_type": "code",
      "source": [
        "if debug_flag in range(1, 3) : debug('GridSearchCV 지정 학습', __name__)\n",
        "grid = GridSearchCV(estimator=model, param_grid=param_grid, n_jobs=1)\n",
        "grid_result = grid.fit(X, Y)"
      ],
      "metadata": {
        "id": "Dc2dkN-FSCPC",
        "outputId": "b089b289-5966-49bf-f44a-151cb6da22d0",
        "colab": {
          "base_uri": "https://localhost:8080/"
        }
      },
      "execution_count": 18,
      "outputs": [
        {
          "output_type": "stream",
          "name": "stdout",
          "text": [
            "2022.12.02 19:30:22 __main__ GridSearchCV 지정 학습\n"
          ]
        },
        {
          "output_type": "stream",
          "name": "stderr",
          "text": [
            "WARNING:tensorflow:5 out of the last 15 calls to <function Model.make_test_function.<locals>.test_function at 0x7f941423d310> triggered tf.function retracing. Tracing is expensive and the excessive number of tracings could be due to (1) creating @tf.function repeatedly in a loop, (2) passing tensors with different shapes, (3) passing Python objects instead of tensors. For (1), please define your @tf.function outside of the loop. For (2), @tf.function has reduce_retracing=True option that can avoid unnecessary retracing. For (3), please refer to https://www.tensorflow.org/guide/function#controlling_retracing and https://www.tensorflow.org/api_docs/python/tf/function for  more details.\n",
            "WARNING:tensorflow:5 out of the last 13 calls to <function Model.make_test_function.<locals>.test_function at 0x7f9412c3d700> triggered tf.function retracing. Tracing is expensive and the excessive number of tracings could be due to (1) creating @tf.function repeatedly in a loop, (2) passing tensors with different shapes, (3) passing Python objects instead of tensors. For (1), please define your @tf.function outside of the loop. For (2), @tf.function has reduce_retracing=True option that can avoid unnecessary retracing. For (3), please refer to https://www.tensorflow.org/guide/function#controlling_retracing and https://www.tensorflow.org/api_docs/python/tf/function for  more details.\n"
          ]
        }
      ]
    },
    {
      "cell_type": "code",
      "source": [
        "if debug_flag in range(1, 3) : debug('최적의 하이퍼파라미터와 결과 출력', __name__)\n",
        "print(f\"Best: {grid_result.best_score_} using {grid_result.best_params_}\")\n",
        "\n",
        "means = grid_result.cv_results_['mean_test_score']\n",
        "stds = grid_result.cv_results_['std_test_score']\n",
        "params = grid_result.cv_results_['params']\n",
        "\n",
        "for mean, stdev, param in zip(means, stds, params):\n",
        "    print(f\"Means: {mean}, Stdev: {stdev} with: {param}\")"
      ],
      "metadata": {
        "id": "LbH2iAvZSJGK",
        "outputId": "7acc85eb-9f25-40a6-f434-1616efacc9b4",
        "colab": {
          "base_uri": "https://localhost:8080/"
        }
      },
      "execution_count": 19,
      "outputs": [
        {
          "output_type": "stream",
          "name": "stdout",
          "text": [
            "2022.12.02 19:30:22 __main__ 최적의 하이퍼파라미터와 결과 출력\n",
            "Best: 0.6145828008651734 using {'batch_size': 8}\n",
            "Means: 0.6145828008651734, Stdev: 0.030726731512724127 with: {'batch_size': 8}\n",
            "Means: 0.6067736268043518, Stdev: 0.06031485296328812 with: {'batch_size': 16}\n",
            "Means: 0.5548510372638702, Stdev: 0.09645475559668859 with: {'batch_size': 32}\n",
            "Means: 0.5103726327419281, Stdev: 0.08884159609645798 with: {'batch_size': 64}\n",
            "Means: 0.41247772574424746, Stdev: 0.13615447657903806 with: {'batch_size': 128}\n"
          ]
        }
      ]
    },
    {
      "cell_type": "markdown",
      "metadata": {
        "id": "9rOyDY3ZAynr"
      },
      "source": [
        "## 3. 라이브러리(Keras Tuner)를 사용한 하이퍼 파라미터 튜닝\n",
        "`Keras Tuner` 는 케라스 프레임워크에서 하이퍼파라미터를 튜닝하는 데 도움이 되는 라이브러리입니다."
      ]
    },
    {
      "cell_type": "markdown",
      "metadata": {
        "id": "fn9CgnShAynv"
      },
      "source": [
        "# Fashion MNIST 예제"
      ]
    },
    {
      "cell_type": "code",
      "source": [
        "if debug_flag in range(1, 3) : debug('keras Tuner 예시', __name__)"
      ],
      "metadata": {
        "id": "WN9kwU5TTW2H",
        "outputId": "9ead9812-ccc3-41a6-813e-674d7c62eb51",
        "colab": {
          "base_uri": "https://localhost:8080/"
        }
      },
      "execution_count": 20,
      "outputs": [
        {
          "output_type": "stream",
          "name": "stdout",
          "text": [
            "2022.12.02 19:30:22 __main__ keras Tuner 예시\n"
          ]
        }
      ]
    },
    {
      "cell_type": "code",
      "source": [
        "if debug_flag in range(2, 3) : debug('keras Tuner 설치', __name__)\n",
        "!pip install -U keras-tuner"
      ],
      "metadata": {
        "id": "12jppRvNSo50",
        "outputId": "b3ecf9b4-771a-44f5-ce3f-3fc82a3317f5",
        "colab": {
          "base_uri": "https://localhost:8080/"
        }
      },
      "execution_count": 21,
      "outputs": [
        {
          "output_type": "stream",
          "name": "stdout",
          "text": [
            "Looking in indexes: https://pypi.org/simple, https://us-python.pkg.dev/colab-wheels/public/simple/\n",
            "Collecting keras-tuner\n",
            "  Downloading keras_tuner-1.1.3-py3-none-any.whl (135 kB)\n",
            "\u001b[K     |████████████████████████████████| 135 kB 5.1 MB/s \n",
            "\u001b[?25hRequirement already satisfied: numpy in /usr/local/lib/python3.8/dist-packages (from keras-tuner) (1.21.6)\n",
            "Requirement already satisfied: packaging in /usr/local/lib/python3.8/dist-packages (from keras-tuner) (21.3)\n",
            "Requirement already satisfied: ipython in /usr/local/lib/python3.8/dist-packages (from keras-tuner) (7.9.0)\n",
            "Requirement already satisfied: requests in /usr/local/lib/python3.8/dist-packages (from keras-tuner) (2.23.0)\n",
            "Collecting kt-legacy\n",
            "  Downloading kt_legacy-1.0.4-py3-none-any.whl (9.6 kB)\n",
            "Requirement already satisfied: tensorboard in /usr/local/lib/python3.8/dist-packages (from keras-tuner) (2.9.1)\n",
            "Requirement already satisfied: traitlets>=4.2 in /usr/local/lib/python3.8/dist-packages (from ipython->keras-tuner) (5.1.1)\n",
            "Requirement already satisfied: setuptools>=18.5 in /usr/local/lib/python3.8/dist-packages (from ipython->keras-tuner) (57.4.0)\n",
            "Requirement already satisfied: pexpect in /usr/local/lib/python3.8/dist-packages (from ipython->keras-tuner) (4.8.0)\n",
            "Requirement already satisfied: prompt-toolkit<2.1.0,>=2.0.0 in /usr/local/lib/python3.8/dist-packages (from ipython->keras-tuner) (2.0.10)\n",
            "Requirement already satisfied: pygments in /usr/local/lib/python3.8/dist-packages (from ipython->keras-tuner) (2.6.1)\n",
            "Requirement already satisfied: decorator in /usr/local/lib/python3.8/dist-packages (from ipython->keras-tuner) (4.4.2)\n",
            "Requirement already satisfied: backcall in /usr/local/lib/python3.8/dist-packages (from ipython->keras-tuner) (0.2.0)\n",
            "Requirement already satisfied: pickleshare in /usr/local/lib/python3.8/dist-packages (from ipython->keras-tuner) (0.7.5)\n",
            "Collecting jedi>=0.10\n",
            "  Downloading jedi-0.18.2-py2.py3-none-any.whl (1.6 MB)\n",
            "\u001b[K     |████████████████████████████████| 1.6 MB 47.0 MB/s \n",
            "\u001b[?25hRequirement already satisfied: parso<0.9.0,>=0.8.0 in /usr/local/lib/python3.8/dist-packages (from jedi>=0.10->ipython->keras-tuner) (0.8.3)\n",
            "Requirement already satisfied: wcwidth in /usr/local/lib/python3.8/dist-packages (from prompt-toolkit<2.1.0,>=2.0.0->ipython->keras-tuner) (0.2.5)\n",
            "Requirement already satisfied: six>=1.9.0 in /usr/local/lib/python3.8/dist-packages (from prompt-toolkit<2.1.0,>=2.0.0->ipython->keras-tuner) (1.15.0)\n",
            "Requirement already satisfied: pyparsing!=3.0.5,>=2.0.2 in /usr/local/lib/python3.8/dist-packages (from packaging->keras-tuner) (3.0.9)\n",
            "Requirement already satisfied: ptyprocess>=0.5 in /usr/local/lib/python3.8/dist-packages (from pexpect->ipython->keras-tuner) (0.7.0)\n",
            "Requirement already satisfied: certifi>=2017.4.17 in /usr/local/lib/python3.8/dist-packages (from requests->keras-tuner) (2022.9.24)\n",
            "Requirement already satisfied: idna<3,>=2.5 in /usr/local/lib/python3.8/dist-packages (from requests->keras-tuner) (2.10)\n",
            "Requirement already satisfied: chardet<4,>=3.0.2 in /usr/local/lib/python3.8/dist-packages (from requests->keras-tuner) (3.0.4)\n",
            "Requirement already satisfied: urllib3!=1.25.0,!=1.25.1,<1.26,>=1.21.1 in /usr/local/lib/python3.8/dist-packages (from requests->keras-tuner) (1.24.3)\n",
            "Requirement already satisfied: google-auth<3,>=1.6.3 in /usr/local/lib/python3.8/dist-packages (from tensorboard->keras-tuner) (2.14.1)\n",
            "Requirement already satisfied: markdown>=2.6.8 in /usr/local/lib/python3.8/dist-packages (from tensorboard->keras-tuner) (3.4.1)\n",
            "Requirement already satisfied: tensorboard-data-server<0.7.0,>=0.6.0 in /usr/local/lib/python3.8/dist-packages (from tensorboard->keras-tuner) (0.6.1)\n",
            "Requirement already satisfied: werkzeug>=1.0.1 in /usr/local/lib/python3.8/dist-packages (from tensorboard->keras-tuner) (1.0.1)\n",
            "Requirement already satisfied: absl-py>=0.4 in /usr/local/lib/python3.8/dist-packages (from tensorboard->keras-tuner) (1.3.0)\n",
            "Requirement already satisfied: google-auth-oauthlib<0.5,>=0.4.1 in /usr/local/lib/python3.8/dist-packages (from tensorboard->keras-tuner) (0.4.6)\n",
            "Requirement already satisfied: protobuf<3.20,>=3.9.2 in /usr/local/lib/python3.8/dist-packages (from tensorboard->keras-tuner) (3.19.6)\n",
            "Requirement already satisfied: tensorboard-plugin-wit>=1.6.0 in /usr/local/lib/python3.8/dist-packages (from tensorboard->keras-tuner) (1.8.1)\n",
            "Requirement already satisfied: wheel>=0.26 in /usr/local/lib/python3.8/dist-packages (from tensorboard->keras-tuner) (0.38.4)\n",
            "Requirement already satisfied: grpcio>=1.24.3 in /usr/local/lib/python3.8/dist-packages (from tensorboard->keras-tuner) (1.50.0)\n",
            "Requirement already satisfied: rsa<5,>=3.1.4 in /usr/local/lib/python3.8/dist-packages (from google-auth<3,>=1.6.3->tensorboard->keras-tuner) (4.9)\n",
            "Requirement already satisfied: pyasn1-modules>=0.2.1 in /usr/local/lib/python3.8/dist-packages (from google-auth<3,>=1.6.3->tensorboard->keras-tuner) (0.2.8)\n",
            "Requirement already satisfied: cachetools<6.0,>=2.0.0 in /usr/local/lib/python3.8/dist-packages (from google-auth<3,>=1.6.3->tensorboard->keras-tuner) (5.2.0)\n",
            "Requirement already satisfied: requests-oauthlib>=0.7.0 in /usr/local/lib/python3.8/dist-packages (from google-auth-oauthlib<0.5,>=0.4.1->tensorboard->keras-tuner) (1.3.1)\n",
            "Requirement already satisfied: importlib-metadata>=4.4 in /usr/local/lib/python3.8/dist-packages (from markdown>=2.6.8->tensorboard->keras-tuner) (4.13.0)\n",
            "Requirement already satisfied: zipp>=0.5 in /usr/local/lib/python3.8/dist-packages (from importlib-metadata>=4.4->markdown>=2.6.8->tensorboard->keras-tuner) (3.10.0)\n",
            "Requirement already satisfied: pyasn1<0.5.0,>=0.4.6 in /usr/local/lib/python3.8/dist-packages (from pyasn1-modules>=0.2.1->google-auth<3,>=1.6.3->tensorboard->keras-tuner) (0.4.8)\n",
            "Requirement already satisfied: oauthlib>=3.0.0 in /usr/local/lib/python3.8/dist-packages (from requests-oauthlib>=0.7.0->google-auth-oauthlib<0.5,>=0.4.1->tensorboard->keras-tuner) (3.2.2)\n",
            "Installing collected packages: jedi, kt-legacy, keras-tuner\n",
            "Successfully installed jedi-0.18.2 keras-tuner-1.1.3 kt-legacy-1.0.4\n"
          ]
        }
      ]
    },
    {
      "cell_type": "code",
      "execution_count": 22,
      "metadata": {
        "id": "Ua_X6oGoAyny",
        "colab": {
          "base_uri": "https://localhost:8080/"
        },
        "outputId": "d0557a8f-1ff9-45d2-823e-5500d8a27c9a"
      },
      "outputs": [
        {
          "output_type": "stream",
          "name": "stdout",
          "text": [
            "2022.12.02 19:30:22 __main__ 라이브러리 임포트\n"
          ]
        },
        {
          "output_type": "stream",
          "name": "stderr",
          "text": [
            "<ipython-input-22-076806c1e529>:8: DeprecationWarning: `import kerastuner` is deprecated, please use `import keras_tuner`.\n",
            "  import kerastuner as kt\n"
          ]
        }
      ],
      "source": [
        "if debug_flag in range(1, 3) : debug('라이브러리 임포트', __name__)\n",
        "from tensorflow import keras\n",
        "from tensorflow.keras.layers import Dense, Flatten\n",
        "\n",
        "import tensorflow as tf\n",
        "import IPython\n",
        "\n",
        "import kerastuner as kt"
      ]
    },
    {
      "cell_type": "code",
      "source": [
        "if debug_flag in range(1, 3) : debug('데이터 불러오기', __name__)\n",
        "(X_train, y_train), (X_test, y_test) = keras.datasets.fashion_mnist.load_data()"
      ],
      "metadata": {
        "id": "B_DCGv2VSlgu",
        "outputId": "32a09d3c-40ec-4c65-f3ef-1fc5203c9370",
        "colab": {
          "base_uri": "https://localhost:8080/"
        }
      },
      "execution_count": 23,
      "outputs": [
        {
          "output_type": "stream",
          "name": "stdout",
          "text": [
            "2022.12.02 19:30:22 __main__ 데이터 불러오기\n",
            "Downloading data from https://storage.googleapis.com/tensorflow/tf-keras-datasets/train-labels-idx1-ubyte.gz\n",
            "29515/29515 [==============================] - 0s 0us/step\n",
            "Downloading data from https://storage.googleapis.com/tensorflow/tf-keras-datasets/train-images-idx3-ubyte.gz\n",
            "26421880/26421880 [==============================] - 0s 0us/step\n",
            "Downloading data from https://storage.googleapis.com/tensorflow/tf-keras-datasets/t10k-labels-idx1-ubyte.gz\n",
            "5148/5148 [==============================] - 0s 0us/step\n",
            "Downloading data from https://storage.googleapis.com/tensorflow/tf-keras-datasets/t10k-images-idx3-ubyte.gz\n",
            "4422102/4422102 [==============================] - 0s 0us/step\n"
          ]
        }
      ]
    },
    {
      "cell_type": "code",
      "source": [
        "if debug_flag in range(2, 3) : debug('이미지 정규화', __name__)\n",
        "X_train = X_train.astype('float32') / 255.0\n",
        "X_test = X_test.astype('float32') / 255.0"
      ],
      "metadata": {
        "id": "nsY1ZcmqS8BO"
      },
      "execution_count": 24,
      "outputs": []
    },
    {
      "cell_type": "code",
      "source": [
        "if debug_flag in range(1, 3) : debug('신경망 모델 제작', __name__)\n",
        "def model_builder(hp):\n",
        "  model = keras.Sequential()\n",
        "  model.add(Flatten(input_shape=(28, 28)))\n",
        "  \n",
        "  hp_units = hp.Int('units', min_value = 32, max_value = 512, step = 32)\n",
        "  model.add(Dense(units = hp_units, activation = 'relu'))\n",
        "  model.add(Dense(10, activation='softmax'))\n",
        "\n",
        "  hp_learning_rate = hp.Choice('learning_rate', values = [1e-2, 1e-3, 1e-4]) \n",
        "  \n",
        "  model.compile(optimizer = keras.optimizers.Adam(learning_rate = hp_learning_rate),\n",
        "                loss = keras.losses.SparseCategoricalCrossentropy(from_logits = True), \n",
        "                metrics = ['accuracy'])\n",
        "  \n",
        "  return model"
      ],
      "metadata": {
        "id": "JWlMDs3ZTAFd",
        "outputId": "934a9a40-3a21-4f34-ea9e-e52d2a376221",
        "colab": {
          "base_uri": "https://localhost:8080/"
        }
      },
      "execution_count": 25,
      "outputs": [
        {
          "output_type": "stream",
          "name": "stdout",
          "text": [
            "2022.12.02 19:30:22 __main__ 신경망 모델 제작\n"
          ]
        }
      ]
    },
    {
      "cell_type": "code",
      "source": [
        "if debug_flag in range(1, 3) : debug('keras Tuner 지정', __name__)\n",
        "tuner = kt.Hyperband(model_builder,\n",
        "                     objective = 'val_accuracy', \n",
        "                     max_epochs = 10,\n",
        "                     factor = 3,\n",
        "                     directory = 'my_dir',\n",
        "                     project_name = 'intro_to_kt')"
      ],
      "metadata": {
        "id": "wD4-bp1ETCaD",
        "outputId": "d9cedf88-5777-42fe-ab44-f030f08ef778",
        "colab": {
          "base_uri": "https://localhost:8080/"
        }
      },
      "execution_count": 26,
      "outputs": [
        {
          "output_type": "stream",
          "name": "stdout",
          "text": [
            "2022.12.02 19:30:22 __main__ keras Tuner 지정\n"
          ]
        }
      ]
    },
    {
      "cell_type": "code",
      "source": [
        "if debug_flag in range(1, 3) : debug('Callback 함수 지정', __name__)\n",
        "class ClearTrainingOutput(tf.keras.callbacks.Callback):\n",
        "  def on_train_end(*args, **kwargs):\n",
        "    IPython.display.clear_output(wait = True)"
      ],
      "metadata": {
        "id": "c6I1eVH-TGKW",
        "outputId": "3ab11d05-e53b-46d8-9de5-e084d7857402",
        "colab": {
          "base_uri": "https://localhost:8080/"
        }
      },
      "execution_count": 27,
      "outputs": [
        {
          "output_type": "stream",
          "name": "stdout",
          "text": [
            "2022.12.02 19:30:22 __main__ Callback 함수 지정\n"
          ]
        }
      ]
    },
    {
      "cell_type": "code",
      "source": [
        "if debug_flag in range(1, 3) : debug('하이퍼파라미터 탐색', __name__)\n",
        "tuner.search(X_train, y_train, epochs = 10, validation_data = (X_test, y_test), callbacks = [ClearTrainingOutput()])\n",
        "\n",
        "best_hps = tuner.get_best_hyperparameters(num_trials = 1)[0]\n",
        "\n",
        "print(f\"\"\"\n",
        "하이퍼 파라미터 검색이 완료되었습니다. \n",
        "최적화된 첫 번째 Dense 노드 수는 {best_hps.get('units')} 입니다.\n",
        "최적의 학습 속도는 {best_hps.get('learning_rate')} 입니다.\n",
        "\"\"\")"
      ],
      "metadata": {
        "id": "xMCZFm7YTI6n",
        "outputId": "3a1900fe-1f97-4cf5-f71d-36321fe982f5",
        "colab": {
          "base_uri": "https://localhost:8080/"
        }
      },
      "execution_count": 28,
      "outputs": [
        {
          "output_type": "stream",
          "name": "stdout",
          "text": [
            "Trial 30 Complete [00h 02m 23s]\n",
            "val_accuracy: 0.8737000226974487\n",
            "\n",
            "Best val_accuracy So Far: 0.8889999985694885\n",
            "Total elapsed time: 00h 26m 53s\n",
            "\n",
            "하이퍼 파라미터 검색이 완료되었습니다. \n",
            "최적화된 첫 번째 Dense 노드 수는 224 입니다.\n",
            "최적의 학습 속도는 0.001 입니다.\n",
            "\n"
          ]
        }
      ]
    },
    {
      "cell_type": "code",
      "source": [
        "if debug_flag in range(2, 3) : debug('최적 파라미터로 재학습', __name__)\n",
        "model = tuner.hypermodel.build(best_hps)\n",
        "model.summary()\n",
        "model.fit(X_train, y_train, epochs = 10, validation_data = (X_test, y_test))\n"
      ],
      "metadata": {
        "id": "zmmLO_COTM5h",
        "outputId": "4d565b35-9cbd-4cba-ce85-bfc4229cda72",
        "colab": {
          "base_uri": "https://localhost:8080/"
        }
      },
      "execution_count": 30,
      "outputs": [
        {
          "output_type": "stream",
          "name": "stdout",
          "text": [
            "Model: \"sequential_2\"\n",
            "_________________________________________________________________\n",
            " Layer (type)                Output Shape              Param #   \n",
            "=================================================================\n",
            " flatten_2 (Flatten)         (None, 784)               0         \n",
            "                                                                 \n",
            " dense_4 (Dense)             (None, 224)               175840    \n",
            "                                                                 \n",
            " dense_5 (Dense)             (None, 10)                2250      \n",
            "                                                                 \n",
            "=================================================================\n",
            "Total params: 178,090\n",
            "Trainable params: 178,090\n",
            "Non-trainable params: 0\n",
            "_________________________________________________________________\n",
            "Epoch 1/10\n",
            "1875/1875 [==============================] - 9s 5ms/step - loss: 0.4817 - accuracy: 0.8282 - val_loss: 0.4307 - val_accuracy: 0.8464\n",
            "Epoch 2/10\n",
            "1875/1875 [==============================] - 8s 4ms/step - loss: 0.3635 - accuracy: 0.8667 - val_loss: 0.3671 - val_accuracy: 0.8635\n",
            "Epoch 3/10\n",
            "1875/1875 [==============================] - 7s 4ms/step - loss: 0.3265 - accuracy: 0.8802 - val_loss: 0.3573 - val_accuracy: 0.8693\n",
            "Epoch 4/10\n",
            "1875/1875 [==============================] - 8s 4ms/step - loss: 0.3032 - accuracy: 0.8874 - val_loss: 0.3753 - val_accuracy: 0.8649\n",
            "Epoch 5/10\n",
            "1875/1875 [==============================] - 8s 4ms/step - loss: 0.2840 - accuracy: 0.8939 - val_loss: 0.3392 - val_accuracy: 0.8800\n",
            "Epoch 6/10\n",
            "1875/1875 [==============================] - 8s 4ms/step - loss: 0.2715 - accuracy: 0.8980 - val_loss: 0.3309 - val_accuracy: 0.8815\n",
            "Epoch 7/10\n",
            "1875/1875 [==============================] - 8s 4ms/step - loss: 0.2591 - accuracy: 0.9032 - val_loss: 0.3546 - val_accuracy: 0.8683\n",
            "Epoch 8/10\n",
            "1875/1875 [==============================] - 8s 4ms/step - loss: 0.2453 - accuracy: 0.9073 - val_loss: 0.3349 - val_accuracy: 0.8828\n",
            "Epoch 9/10\n",
            "1875/1875 [==============================] - 8s 4ms/step - loss: 0.2359 - accuracy: 0.9123 - val_loss: 0.3339 - val_accuracy: 0.8856\n",
            "Epoch 10/10\n",
            "1875/1875 [==============================] - 8s 4ms/step - loss: 0.2277 - accuracy: 0.9151 - val_loss: 0.3341 - val_accuracy: 0.8822\n"
          ]
        },
        {
          "output_type": "execute_result",
          "data": {
            "text/plain": [
              "<keras.callbacks.History at 0x7f941cac3430>"
            ]
          },
          "metadata": {},
          "execution_count": 30
        }
      ]
    }
  ],
  "metadata": {
    "kernelspec": {
      "display_name": "Python 3.8.15 ('myCodes')",
      "language": "python",
      "name": "python3"
    },
    "language_info": {
      "name": "python",
      "version": "3.8.15"
    },
    "orig_nbformat": 4,
    "vscode": {
      "interpreter": {
        "hash": "be9c8c09f02aff164ff9b08fdc7e0d6a8d8e8fe95a6cb9e2cbfc007f36c1c7da"
      }
    },
    "colab": {
      "provenance": []
    }
  },
  "nbformat": 4,
  "nbformat_minor": 0
}