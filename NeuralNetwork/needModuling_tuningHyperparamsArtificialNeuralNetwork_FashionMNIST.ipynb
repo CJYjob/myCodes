{
  "cells": [
    {
      "cell_type": "markdown",
      "metadata": {
        "id": "zjqpMlT8AynR"
      },
      "source": [
        "# 신경망 하이퍼파라미터 튜닝 방법\n",
        "`하이퍼파라미터`란, 개발자가 직접 조절해주는 변수로, 모델 성능에 큰 영향을 미친다."
      ]
    },
    {
      "cell_type": "code",
      "execution_count": null,
      "metadata": {
        "id": "gdr-xawnAynw",
        "outputId": "2fc61423-49be-49e7-84d3-376acbac7d47",
        "colab": {
          "base_uri": "https://localhost:8080/"
        }
      },
      "outputs": [
        {
          "output_type": "stream",
          "name": "stdout",
          "text": [
            "Drive already mounted at /content/drive; to attempt to forcibly remount, call drive.mount(\"/content/drive\", force_remount=True).\n"
          ]
        }
      ],
      "source": [
        "# 구글 드라이브 마운트(cjyjob1993@gmail.com)\n",
        "from google.colab import drive\n",
        "drive.mount('/content/drive')\n",
        "\n",
        "# lib 디렉토리를을 환경 변수에 추가\n",
        "import sys\n",
        "sys.path.append('/content/drive/MyDrive/Colab Notebooks/myCode/lib')"
      ]
    },
    {
      "cell_type": "code",
      "source": [
        "# 커스텀 라이브러리 임포트\n",
        "from func_debug_log import debug"
      ],
      "metadata": {
        "id": "H3f05drFICca"
      },
      "execution_count": null,
      "outputs": []
    },
    {
      "cell_type": "code",
      "execution_count": null,
      "metadata": {
        "id": "TttiehrFAyn0"
      },
      "outputs": [],
      "source": [
        "# debug_log (0 : 미출력, 1 : 함수 실행 로그 출력, 2 : 함수 내부)\n",
        "debug_flag = 1"
      ]
    },
    {
      "cell_type": "markdown",
      "metadata": {
        "id": "IvawLE71AynW"
      },
      "source": [
        "## 1. 교차 검증 적용하기"
      ]
    },
    {
      "cell_type": "code",
      "source": [
        "if debug_flag in range(1, 3) : debug('신경망에 교차 검증 적용하기', __name__)"
      ],
      "metadata": {
        "id": "CrpdKEieIKYx"
      },
      "execution_count": null,
      "outputs": []
    },
    {
      "cell_type": "code",
      "source": [
        "if debug_flag in range(1, 3) : debug('라이브러리 임포트', __name__)"
      ],
      "metadata": {
        "id": "eYWdUv6qIgMh"
      },
      "execution_count": null,
      "outputs": []
    },
    {
      "cell_type": "code",
      "source": [
        "if debug_flag in range(1, 3) : debug('데이터 불러오기', __name__)"
      ],
      "metadata": {
        "id": "1MgpbYF4H5A-"
      },
      "execution_count": null,
      "outputs": []
    },
    {
      "cell_type": "code",
      "source": [
        "if debug_flag in range(1, 3) : debug('Kfold 설정', __name__)"
      ],
      "metadata": {
        "id": "xcRD6xh8Ika_"
      },
      "execution_count": null,
      "outputs": []
    },
    {
      "cell_type": "markdown",
      "metadata": {
        "id": "7NhcUL4MAynj"
      },
      "source": [
        "## 2. 가중치 초기화 (Weight Initialization)"
      ]
    },
    {
      "cell_type": "markdown",
      "metadata": {
        "id": "xhk9TZ7kAynk"
      },
      "source": [
        "### [1] 가중치 초기화란?\n",
        "초기 가중치를 최적점에 가깝게 설정하는 방법"
      ]
    },
    {
      "cell_type": "markdown",
      "metadata": {
        "id": "i_opan3zAynl"
      },
      "source": [
        "### [2] 가중치 초기화의 종류"
      ]
    },
    {
      "cell_type": "markdown",
      "metadata": {
        "id": "tTThalqnAynm"
      },
      "source": [
        "#### <1> 표준편차가 1인 정규분포\n",
        "+ 대부분의 활성화 값이 0 or 1 -> 학습이 정상적으로 이루어 지지 않음"
      ]
    },
    {
      "cell_type": "markdown",
      "metadata": {
        "id": "BDCJF1sMAynm"
      },
      "source": [
        "#### <2> Xavier-Glorot 초기화\n",
        "+ 이전층의 노드 수가 $n$ 일 때, 현재층의 가중치를 표준편차가 ${1 \\over \\sqrt{n}}$인 정규분포로 초기화\n",
        "+ 표준편차가 고정된 경우 학습이 정상적으로 이루어지지 않는 점을 해결.(n은 이전과 현재 층의 노드를 같이 쓰는 등 변화 가능)\n",
        "+ Sigmoid 활성화 함수에서는 잘 작동하나, ReLU 활성화 함수에서는 층이 지날수록, 활성화 값이 편중됨. -> 학습이 정상적으로 이루어 지지 않음"
      ]
    },
    {
      "cell_type": "markdown",
      "metadata": {
        "id": "-NrJMKZFAynn"
      },
      "source": [
        "#### <3> He 초기화\n",
        "+ 이전층의 노드 수가 $n$ 일 때, 현재층의 가중치를 표준편차가 ${2 \\over \\sqrt{n}}$인 정규분포로 초기화\n",
        "+ ReLU를 사용할 경우 층이 깊어질수록 학습이 정상적으로 이루어지지 않는 점을 해결."
      ]
    },
    {
      "cell_type": "markdown",
      "metadata": {
        "id": "NuSYlVvxAynn"
      },
      "source": [
        "### [3] 초기화 방법\n",
        "```\n",
        "init_mode = ['uniform', 'lecun_uniform', 'normal', 'zero', 'glorot_normal', 'glorot_uniform', 'he_normal', 'he_uniform']\n",
        "```"
      ]
    },
    {
      "cell_type": "markdown",
      "metadata": {
        "id": "9rOyDY3ZAynr"
      },
      "source": [
        "## 3. 과적합 (Overfitting)\n",
        "train 데이터에 과하게 최적화되어, 일반적인 성능이 떨어지는 현상을 말하며, 층이 증가함에 따라 매개 변수가 기하급수적으로 증가하는 인공지능에서는 더 쉽게 발생함."
      ]
    },
    {
      "cell_type": "markdown",
      "metadata": {
        "id": "FA8afArRAynt"
      },
      "source": [
        "### [1] 가중치 감소 (Weight Decay)\n",
        "+ 손실 함수에 가중치 관련항을 넣어, 가중치가 너무 커지는 것을 방지.\n",
        "+ L1 Regularization(LASSO) : $L_1(\\theta_w) = {1 \\over 2}\\sum_i(output_i - target_i)^2 + \\lambda \\cdot ||\\theta_w||_1$\n",
        "+ L2 Regularization(Ridge) : $L_2(\\theta_w) = {1 \\over 2}\\sum_i(output_i - target_i)^2 + \\lambda \\cdot ||\\theta_w||_2$\n",
        "```\n",
        "Dense(64,\n",
        "      kernel_regularizer=regularizers.l2(0.01),\n",
        "      activity_regularizer=regularizers.l1(0.01))\n",
        "```"
      ]
    },
    {
      "cell_type": "markdown",
      "metadata": {
        "id": "GIQZkNd7Aynu"
      },
      "source": [
        "### [2] Dropout \n",
        "+ Iteration 마다 각 노드가 일정 확률로 사용되지 않도록 한다.\n",
        "```\n",
        "Dense(64,\n",
        "      kernel_regularizer=regularizers.l2(0.01),\n",
        "      activity_regularizer=regularizers.l1(0.01))\n",
        "Dropout(0.5)\n",
        "```"
      ]
    },
    {
      "cell_type": "markdown",
      "metadata": {
        "id": "85Cl5wVFAynu"
      },
      "source": [
        "### [3] 조기 종료 (Early Stopping)\n",
        "+ 학습이 계속되면서, Train 데이터에 대한 손실은 줄어드는데, Validation 데이터에 대한 손실이 증가하면(과적합이 발생하기 시작하면) 학습을 종료하는 방법"
      ]
    },
    {
      "cell_type": "markdown",
      "metadata": {
        "id": "fn9CgnShAynv"
      },
      "source": [
        "# Fashion MNIST 예제"
      ]
    },
    {
      "cell_type": "code",
      "execution_count": null,
      "metadata": {
        "id": "Ua_X6oGoAyny"
      },
      "outputs": [],
      "source": [
        "# 라이브러리 임포트\n",
        "from tensorflow.keras.datasets import fashion_mnist\n",
        "import numpy as np\n",
        "import tensorflow as tf\n",
        "import keras\n",
        "from tensorflow.keras.models import Sequential\n",
        "from tensorflow.keras.layers import Dense, Flatten, Dropout\n",
        "from tensorflow.keras import regularizers"
      ]
    },
    {
      "cell_type": "code",
      "execution_count": null,
      "metadata": {
        "id": "69z-1LCOAyn1",
        "outputId": "017ccdf0-5a70-4a30-e518-44184ae3973b",
        "colab": {
          "base_uri": "https://localhost:8080/"
        }
      },
      "outputs": [
        {
          "output_type": "stream",
          "name": "stdout",
          "text": [
            "2022.12.02 18:11:39 __main__ seed 설정\n"
          ]
        }
      ],
      "source": [
        "if debug_flag in range(1, 3) : debug('seed 설정', __name__)\n",
        "np.random.seed(42)\n",
        "tf.random.set_seed(42)"
      ]
    },
    {
      "cell_type": "code",
      "execution_count": null,
      "metadata": {
        "id": "-0iSJirTAyn1",
        "outputId": "742c34a0-7f98-453f-d9ef-026820fb7fbc",
        "colab": {
          "base_uri": "https://localhost:8080/"
        }
      },
      "outputs": [
        {
          "output_type": "stream",
          "name": "stdout",
          "text": [
            "2022.12.02 18:11:39 __main__ 데이터 불러오기\n"
          ]
        }
      ],
      "source": [
        "if debug_flag in range(1, 3) : debug('데이터 불러오기', __name__)\n",
        "(X_train, y_train), (X_test, y_test) = fashion_mnist.load_data()"
      ]
    },
    {
      "cell_type": "code",
      "execution_count": null,
      "metadata": {
        "id": "xbF-MpK7Ayn2",
        "outputId": "95465c13-e28a-4c3c-95da-4c2864bb42bc",
        "colab": {
          "base_uri": "https://localhost:8080/"
        }
      },
      "outputs": [
        {
          "output_type": "stream",
          "name": "stdout",
          "text": [
            "2022.12.02 18:11:39 __main__ 데이터 정규화\n"
          ]
        }
      ],
      "source": [
        "if debug_flag in range(1, 3) : debug('데이터 정규화', __name__)\n",
        "X_train = X_train / 255.\n",
        "X_test = X_test / 255."
      ]
    },
    {
      "cell_type": "code",
      "source": [
        "if debug_flag in range(2, 3) : debug('레이블 개수와 형태 확인', __name__)\n",
        "np.unique(y_train)"
      ],
      "metadata": {
        "id": "rsAKBwLdCKph",
        "outputId": "d7fb91fc-ae7f-48ef-8688-8338d689bace",
        "colab": {
          "base_uri": "https://localhost:8080/"
        }
      },
      "execution_count": null,
      "outputs": [
        {
          "output_type": "execute_result",
          "data": {
            "text/plain": [
              "array([0, 1, 2, 3, 4, 5, 6, 7, 8, 9], dtype=uint8)"
            ]
          },
          "metadata": {},
          "execution_count": 48
        }
      ]
    },
    {
      "cell_type": "code",
      "source": [
        "if debug_flag in range(1, 3) : debug('신경망 구축', __name__)\n",
        "model = Sequential([\n",
        "    Flatten(input_shape=(28, 28)),\n",
        "    Dense(64,\n",
        "          kernel_regularizer=regularizers.l2(0.01),\n",
        "          activity_regularizer=regularizers.l1(0.01)),\n",
        "    Dropout(0.5),\n",
        "    Dense(10, activation='softmax')\n",
        "])"
      ],
      "metadata": {
        "id": "qRFWt6MpCWQ1",
        "outputId": "43a7c636-11a5-47ff-c8a3-6ad9e90119ce",
        "colab": {
          "base_uri": "https://localhost:8080/"
        }
      },
      "execution_count": null,
      "outputs": [
        {
          "output_type": "stream",
          "name": "stdout",
          "text": [
            "2022.12.02 18:11:39 __main__ 신경망 구축\n"
          ]
        }
      ]
    },
    {
      "cell_type": "code",
      "source": [
        "if debug_flag in range(1, 3) : debug('신경망 컴파일', __name__)\n",
        "model.compile(optimizer=tf.keras.optimizers.Adam(learning_rate=0.001, beta_1 = 0.89)\n",
        "             , loss='sparse_categorical_crossentropy'\n",
        "             , metrics=['accuracy'])"
      ],
      "metadata": {
        "id": "tbXna2j4CcGy",
        "outputId": "eeb55ab4-56b6-4616-d330-b0a042fd524f",
        "colab": {
          "base_uri": "https://localhost:8080/"
        }
      },
      "execution_count": null,
      "outputs": [
        {
          "output_type": "stream",
          "name": "stdout",
          "text": [
            "2022.12.02 18:11:39 __main__ 신경망 컴파일\n"
          ]
        }
      ]
    },
    {
      "cell_type": "code",
      "source": [
        "if debug_flag in range(2, 3) : debug('신경망 요약 출력', __name__)\n",
        "model.summary()"
      ],
      "metadata": {
        "id": "4rObgjY_DUc4",
        "outputId": "55ee18db-1fd4-40bd-cd75-30b93450447f",
        "colab": {
          "base_uri": "https://localhost:8080/"
        }
      },
      "execution_count": null,
      "outputs": [
        {
          "output_type": "stream",
          "name": "stdout",
          "text": [
            "Model: \"sequential\"\n",
            "_________________________________________________________________\n",
            " Layer (type)                Output Shape              Param #   \n",
            "=================================================================\n",
            " flatten_1 (Flatten)         (None, 784)               0         \n",
            "                                                                 \n",
            " dense (Dense)               (None, 64)                50240     \n",
            "                                                                 \n",
            " dropout (Dropout)           (None, 64)                0         \n",
            "                                                                 \n",
            " dense_1 (Dense)             (None, 10)                650       \n",
            "                                                                 \n",
            "=================================================================\n",
            "Total params: 50,890\n",
            "Trainable params: 50,890\n",
            "Non-trainable params: 0\n",
            "_________________________________________________________________\n"
          ]
        }
      ]
    },
    {
      "cell_type": "code",
      "source": [
        "if debug_flag in range(2, 3) : debug('파라미터 저장 경로 설정', __name__)\n",
        "checkpoint_filepath = \"FMbest.hdf5\"\n",
        "\n",
        "early_stop = keras.callbacks.EarlyStopping(monitor='val_loss', min_delta=0, patience=10, verbose=1)\n"
      ],
      "metadata": {
        "id": "aUcXpQNRDbYY"
      },
      "execution_count": null,
      "outputs": []
    },
    {
      "cell_type": "code",
      "source": [
        "if debug_flag in range(2, 3) : debug('Callback 함수 설정', __name__)\n",
        "save_best = tf.keras.callbacks.ModelCheckpoint(\n",
        "    filepath=checkpoint_filepath, monitor='val_loss', verbose=1, save_best_only=True,\n",
        "    save_weights_only=True, mode='auto', save_freq='epoch', options=None)\n"
      ],
      "metadata": {
        "id": "RMi53jSfDgKl"
      },
      "execution_count": null,
      "outputs": []
    },
    {
      "cell_type": "code",
      "source": [
        "if debug_flag in range(1, 3) : debug('신경망 학습', __name__)\n",
        "model.fit(X_train, y_train, batch_size=32, epochs=30, verbose=1, \n",
        "          validation_data=(X_test,y_test), \n",
        "          callbacks=[early_stop, save_best])"
      ],
      "metadata": {
        "id": "67NNvhnjCd3d",
        "outputId": "fbeb5455-a0c1-48ab-ce15-b44e281bbec3",
        "colab": {
          "base_uri": "https://localhost:8080/"
        }
      },
      "execution_count": null,
      "outputs": [
        {
          "output_type": "stream",
          "name": "stdout",
          "text": [
            "2022.12.02 18:11:39 __main__ 신경망 학습\n",
            "Epoch 1/30\n",
            "1870/1875 [============================>.] - ETA: 0s - loss: 1.2128 - accuracy: 0.7681\n",
            "Epoch 1: val_loss improved from inf to 0.86062, saving model to FMbest.hdf5\n",
            "1875/1875 [==============================] - 10s 5ms/step - loss: 1.2121 - accuracy: 0.7682 - val_loss: 0.8606 - val_accuracy: 0.8135\n",
            "Epoch 2/30\n",
            "1866/1875 [============================>.] - ETA: 0s - loss: 0.9309 - accuracy: 0.7882\n",
            "Epoch 2: val_loss did not improve from 0.86062\n",
            "1875/1875 [==============================] - 9s 5ms/step - loss: 0.9306 - accuracy: 0.7884 - val_loss: 0.8890 - val_accuracy: 0.7957\n",
            "Epoch 3/30\n",
            "1871/1875 [============================>.] - ETA: 0s - loss: 0.9075 - accuracy: 0.7917\n",
            "Epoch 3: val_loss improved from 0.86062 to 0.85530, saving model to FMbest.hdf5\n",
            "1875/1875 [==============================] - 9s 5ms/step - loss: 0.9084 - accuracy: 0.7915 - val_loss: 0.8553 - val_accuracy: 0.7967\n",
            "Epoch 4/30\n",
            "1872/1875 [============================>.] - ETA: 0s - loss: 0.8965 - accuracy: 0.7915\n",
            "Epoch 4: val_loss improved from 0.85530 to 0.85234, saving model to FMbest.hdf5\n",
            "1875/1875 [==============================] - 8s 4ms/step - loss: 0.8966 - accuracy: 0.7915 - val_loss: 0.8523 - val_accuracy: 0.8047\n",
            "Epoch 5/30\n",
            "1865/1875 [============================>.] - ETA: 0s - loss: 0.8914 - accuracy: 0.7941\n",
            "Epoch 5: val_loss improved from 0.85234 to 0.81777, saving model to FMbest.hdf5\n",
            "1875/1875 [==============================] - 9s 5ms/step - loss: 0.8916 - accuracy: 0.7940 - val_loss: 0.8178 - val_accuracy: 0.8071\n",
            "Epoch 6/30\n",
            "1868/1875 [============================>.] - ETA: 0s - loss: 0.8905 - accuracy: 0.7917\n",
            "Epoch 6: val_loss improved from 0.81777 to 0.80990, saving model to FMbest.hdf5\n",
            "1875/1875 [==============================] - 8s 4ms/step - loss: 0.8903 - accuracy: 0.7917 - val_loss: 0.8099 - val_accuracy: 0.8101\n",
            "Epoch 7/30\n",
            "1870/1875 [============================>.] - ETA: 0s - loss: 0.8901 - accuracy: 0.7906\n",
            "Epoch 7: val_loss did not improve from 0.80990\n",
            "1875/1875 [==============================] - 9s 5ms/step - loss: 0.8900 - accuracy: 0.7907 - val_loss: 0.8832 - val_accuracy: 0.7918\n",
            "Epoch 8/30\n",
            "1867/1875 [============================>.] - ETA: 0s - loss: 0.8868 - accuracy: 0.7926\n",
            "Epoch 8: val_loss did not improve from 0.80990\n",
            "1875/1875 [==============================] - 8s 4ms/step - loss: 0.8867 - accuracy: 0.7926 - val_loss: 0.8359 - val_accuracy: 0.8090\n",
            "Epoch 9/30\n",
            "1868/1875 [============================>.] - ETA: 0s - loss: 0.8825 - accuracy: 0.7923\n",
            "Epoch 9: val_loss did not improve from 0.80990\n",
            "1875/1875 [==============================] - 8s 4ms/step - loss: 0.8825 - accuracy: 0.7922 - val_loss: 0.8158 - val_accuracy: 0.8080\n",
            "Epoch 10/30\n",
            "1864/1875 [============================>.] - ETA: 0s - loss: 0.8822 - accuracy: 0.7937\n",
            "Epoch 10: val_loss did not improve from 0.80990\n",
            "1875/1875 [==============================] - 8s 4ms/step - loss: 0.8828 - accuracy: 0.7936 - val_loss: 0.8914 - val_accuracy: 0.7906\n",
            "Epoch 11/30\n",
            "1862/1875 [============================>.] - ETA: 0s - loss: 0.8817 - accuracy: 0.7931\n",
            "Epoch 11: val_loss did not improve from 0.80990\n",
            "1875/1875 [==============================] - 9s 5ms/step - loss: 0.8815 - accuracy: 0.7931 - val_loss: 0.8483 - val_accuracy: 0.7907\n",
            "Epoch 12/30\n",
            "1870/1875 [============================>.] - ETA: 0s - loss: 0.8828 - accuracy: 0.7946\n",
            "Epoch 12: val_loss improved from 0.80990 to 0.80217, saving model to FMbest.hdf5\n",
            "1875/1875 [==============================] - 9s 5ms/step - loss: 0.8826 - accuracy: 0.7946 - val_loss: 0.8022 - val_accuracy: 0.8126\n",
            "Epoch 13/30\n",
            "1875/1875 [==============================] - ETA: 0s - loss: 0.8827 - accuracy: 0.7926\n",
            "Epoch 13: val_loss did not improve from 0.80217\n",
            "1875/1875 [==============================] - 8s 5ms/step - loss: 0.8827 - accuracy: 0.7926 - val_loss: 0.8036 - val_accuracy: 0.8178\n",
            "Epoch 14/30\n",
            "1875/1875 [==============================] - ETA: 0s - loss: 0.8778 - accuracy: 0.7920\n",
            "Epoch 14: val_loss improved from 0.80217 to 0.79869, saving model to FMbest.hdf5\n",
            "1875/1875 [==============================] - 8s 4ms/step - loss: 0.8778 - accuracy: 0.7920 - val_loss: 0.7987 - val_accuracy: 0.8091\n",
            "Epoch 15/30\n",
            "1872/1875 [============================>.] - ETA: 0s - loss: 0.8854 - accuracy: 0.7913\n",
            "Epoch 15: val_loss did not improve from 0.79869\n",
            "1875/1875 [==============================] - 8s 4ms/step - loss: 0.8856 - accuracy: 0.7913 - val_loss: 0.8158 - val_accuracy: 0.8184\n",
            "Epoch 16/30\n",
            "1869/1875 [============================>.] - ETA: 0s - loss: 0.8902 - accuracy: 0.7908\n",
            "Epoch 16: val_loss improved from 0.79869 to 0.78960, saving model to FMbest.hdf5\n",
            "1875/1875 [==============================] - 8s 4ms/step - loss: 0.8899 - accuracy: 0.7908 - val_loss: 0.7896 - val_accuracy: 0.8198\n",
            "Epoch 17/30\n",
            "1871/1875 [============================>.] - ETA: 0s - loss: 0.8819 - accuracy: 0.7921\n",
            "Epoch 17: val_loss did not improve from 0.78960\n",
            "1875/1875 [==============================] - 8s 4ms/step - loss: 0.8818 - accuracy: 0.7921 - val_loss: 0.8027 - val_accuracy: 0.8105\n",
            "Epoch 18/30\n",
            "1870/1875 [============================>.] - ETA: 0s - loss: 0.8833 - accuracy: 0.7912\n",
            "Epoch 18: val_loss did not improve from 0.78960\n",
            "1875/1875 [==============================] - 12s 6ms/step - loss: 0.8833 - accuracy: 0.7911 - val_loss: 0.7942 - val_accuracy: 0.8180\n",
            "Epoch 19/30\n",
            "1868/1875 [============================>.] - ETA: 0s - loss: 0.8791 - accuracy: 0.7930\n",
            "Epoch 19: val_loss did not improve from 0.78960\n",
            "1875/1875 [==============================] - 8s 4ms/step - loss: 0.8794 - accuracy: 0.7929 - val_loss: 0.8445 - val_accuracy: 0.8132\n",
            "Epoch 20/30\n",
            "1867/1875 [============================>.] - ETA: 0s - loss: 0.8757 - accuracy: 0.7931\n",
            "Epoch 20: val_loss did not improve from 0.78960\n",
            "1875/1875 [==============================] - 9s 5ms/step - loss: 0.8756 - accuracy: 0.7932 - val_loss: 0.7933 - val_accuracy: 0.8226\n",
            "Epoch 21/30\n",
            "1869/1875 [============================>.] - ETA: 0s - loss: 0.8842 - accuracy: 0.7906\n",
            "Epoch 21: val_loss did not improve from 0.78960\n",
            "1875/1875 [==============================] - 10s 5ms/step - loss: 0.8842 - accuracy: 0.7907 - val_loss: 0.8463 - val_accuracy: 0.8005\n",
            "Epoch 22/30\n",
            "1870/1875 [============================>.] - ETA: 0s - loss: 0.8770 - accuracy: 0.7944\n",
            "Epoch 22: val_loss did not improve from 0.78960\n",
            "1875/1875 [==============================] - 9s 5ms/step - loss: 0.8777 - accuracy: 0.7943 - val_loss: 0.8780 - val_accuracy: 0.7987\n",
            "Epoch 23/30\n",
            "1873/1875 [============================>.] - ETA: 0s - loss: 0.8775 - accuracy: 0.7935\n",
            "Epoch 23: val_loss did not improve from 0.78960\n",
            "1875/1875 [==============================] - 8s 4ms/step - loss: 0.8771 - accuracy: 0.7936 - val_loss: 0.8190 - val_accuracy: 0.8190\n",
            "Epoch 24/30\n",
            "1866/1875 [============================>.] - ETA: 0s - loss: 0.8770 - accuracy: 0.7943\n",
            "Epoch 24: val_loss did not improve from 0.78960\n",
            "1875/1875 [==============================] - 9s 5ms/step - loss: 0.8769 - accuracy: 0.7943 - val_loss: 0.7953 - val_accuracy: 0.8164\n",
            "Epoch 25/30\n",
            "1868/1875 [============================>.] - ETA: 0s - loss: 0.8777 - accuracy: 0.7925\n",
            "Epoch 25: val_loss did not improve from 0.78960\n",
            "1875/1875 [==============================] - 9s 5ms/step - loss: 0.8780 - accuracy: 0.7924 - val_loss: 0.8523 - val_accuracy: 0.8033\n",
            "Epoch 26/30\n",
            "1866/1875 [============================>.] - ETA: 0s - loss: 0.8779 - accuracy: 0.7952\n",
            "Epoch 26: val_loss did not improve from 0.78960\n",
            "1875/1875 [==============================] - 8s 4ms/step - loss: 0.8777 - accuracy: 0.7954 - val_loss: 0.8543 - val_accuracy: 0.8051\n",
            "Epoch 26: early stopping\n"
          ]
        },
        {
          "output_type": "execute_result",
          "data": {
            "text/plain": [
              "<keras.callbacks.History at 0x7f5d86819cd0>"
            ]
          },
          "metadata": {},
          "execution_count": 54
        }
      ]
    },
    {
      "cell_type": "code",
      "source": [
        "if debug_flag in range(1, 3) : debug('조기 종료 직전 모델 평가', __name__)"
      ],
      "metadata": {
        "id": "pD7qnlo2CzGt",
        "outputId": "6ecec703-be29-4fc6-e1fb-d7e463188082",
        "colab": {
          "base_uri": "https://localhost:8080/"
        }
      },
      "execution_count": null,
      "outputs": [
        {
          "output_type": "stream",
          "name": "stdout",
          "text": [
            "2022.12.02 18:11:39 __main__ 조기 종료 직전 모델 평가\n"
          ]
        }
      ]
    },
    {
      "cell_type": "code",
      "source": [
        "if debug_flag in range(2, 3) : debug('모델 예측 수행', __name__)\n",
        "model.predict(X_test[0:1])"
      ],
      "metadata": {
        "id": "KUeSa_diDqlT",
        "outputId": "28314335-5763-4471-9ce6-c366c1eaaf1e",
        "colab": {
          "base_uri": "https://localhost:8080/"
        }
      },
      "execution_count": null,
      "outputs": [
        {
          "output_type": "stream",
          "name": "stdout",
          "text": [
            "1/1 [==============================] - 0s 104ms/step\n"
          ]
        },
        {
          "output_type": "execute_result",
          "data": {
            "text/plain": [
              "array([[2.2530679e-05, 1.4091254e-06, 5.0333696e-05, 4.7060814e-05,\n",
              "        8.4856219e-05, 1.5336972e-01, 9.2422488e-05, 2.5663882e-01,\n",
              "        3.0773242e-03, 5.8661544e-01]], dtype=float32)"
            ]
          },
          "metadata": {},
          "execution_count": 56
        }
      ]
    },
    {
      "cell_type": "code",
      "source": [
        "if debug_flag in range(2, 3) : debug('모델 평가', __name__)\n",
        "test_loss, test_acc = model.evaluate(X_test,  y_test, verbose=2)"
      ],
      "metadata": {
        "id": "YYJBpEj8Dt03",
        "outputId": "95a8b857-711a-47ac-ac40-d2a9b5084a38",
        "colab": {
          "base_uri": "https://localhost:8080/"
        }
      },
      "execution_count": null,
      "outputs": [
        {
          "output_type": "stream",
          "name": "stdout",
          "text": [
            "313/313 - 1s - loss: 0.8543 - accuracy: 0.8051 - 684ms/epoch - 2ms/step\n"
          ]
        }
      ]
    },
    {
      "cell_type": "code",
      "source": [
        "if debug_flag in range(1, 3) : debug('Callback 모델 확인 및 평가', __name__)"
      ],
      "metadata": {
        "id": "yDQEGPsMDB7O",
        "outputId": "ecd7320a-33f4-48b2-d40c-608ba4f19ab5",
        "colab": {
          "base_uri": "https://localhost:8080/"
        }
      },
      "execution_count": null,
      "outputs": [
        {
          "output_type": "stream",
          "name": "stdout",
          "text": [
            "2022.12.02 18:11:39 __main__ Callback 모델 확인 및 평가\n"
          ]
        }
      ]
    },
    {
      "cell_type": "code",
      "source": [
        "if debug_flag in range(2, 3) : debug('모델 불러오기', __name__)\n",
        "model.load_weights(checkpoint_filepath)"
      ],
      "metadata": {
        "id": "_PitpRP6Dylq"
      },
      "execution_count": null,
      "outputs": []
    },
    {
      "cell_type": "code",
      "source": [
        "if debug_flag in range(2, 3) : debug('모델 예측 수행', __name__)\n",
        "model.predict(X_test[0:1])"
      ],
      "metadata": {
        "id": "EaYgpmV2D2Eq",
        "outputId": "db7ed7db-8b47-457d-84de-6c3e7d9ff1db",
        "colab": {
          "base_uri": "https://localhost:8080/"
        }
      },
      "execution_count": null,
      "outputs": [
        {
          "output_type": "stream",
          "name": "stdout",
          "text": [
            "1/1 [==============================] - 0s 23ms/step\n"
          ]
        },
        {
          "output_type": "execute_result",
          "data": {
            "text/plain": [
              "array([[3.4490717e-05, 4.8838134e-05, 6.7998852e-05, 1.3713697e-04,\n",
              "        6.0494600e-05, 2.1046488e-01, 8.1299098e-05, 1.3274866e-01,\n",
              "        2.1887003e-03, 6.5416753e-01]], dtype=float32)"
            ]
          },
          "metadata": {},
          "execution_count": 60
        }
      ]
    },
    {
      "cell_type": "code",
      "source": [
        "if debug_flag in range(2, 3) : debug('모델 평가', __name__)\n",
        "test_loss, test_acc = model.evaluate(X_test,  y_test, verbose=1)"
      ],
      "metadata": {
        "id": "Z01BV2mUD42y",
        "outputId": "67decb1c-9ef8-42ca-c947-1e38de281b71",
        "colab": {
          "base_uri": "https://localhost:8080/"
        }
      },
      "execution_count": null,
      "outputs": [
        {
          "output_type": "stream",
          "name": "stdout",
          "text": [
            "313/313 [==============================] - 1s 3ms/step - loss: 0.7896 - accuracy: 0.8198\n"
          ]
        }
      ]
    }
  ],
  "metadata": {
    "kernelspec": {
      "display_name": "Python 3.8.15 ('myCodes')",
      "language": "python",
      "name": "python3"
    },
    "language_info": {
      "name": "python",
      "version": "3.8.15"
    },
    "orig_nbformat": 4,
    "vscode": {
      "interpreter": {
        "hash": "be9c8c09f02aff164ff9b08fdc7e0d6a8d8e8fe95a6cb9e2cbfc007f36c1c7da"
      }
    },
    "colab": {
      "provenance": []
    }
  },
  "nbformat": 4,
  "nbformat_minor": 0
}