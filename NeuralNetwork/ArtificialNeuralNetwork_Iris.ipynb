{
  "cells": [
    {
      "cell_type": "code",
      "execution_count": 1,
      "metadata": {
        "colab": {
          "base_uri": "https://localhost:8080/"
        },
        "id": "_03ENK0f-zbW",
        "outputId": "7629aee5-7dca-4ebd-bab3-bcce25aa607f"
      },
      "outputs": [
        {
          "name": "stdout",
          "output_type": "stream",
          "text": [
            "Mounted at /content/drive\n"
          ]
        }
      ],
      "source": [
        "# 구글 드라이브 마운트(cjyjob1993@gmail.com)\n",
        "from google.colab import drive\n",
        "drive.mount('/content/drive')\n",
        "\n",
        "# lib 디렉토리를을 환경 변수에 추가\n",
        "import sys\n",
        "sys.path.append('/content/drive/MyDrive/Colab Notebooks/myCode/lib')"
      ]
    },
    {
      "cell_type": "code",
      "execution_count": 2,
      "metadata": {
        "id": "sz6yIVYYS8hM"
      },
      "outputs": [],
      "source": [
        "# 라이브러리 임포트\n",
        "import pandas as pd\n",
        "import numpy as np\n",
        "import matplotlib.pyplot as plt\n",
        "import tensorflow as tf\n",
        "# 커스텀 라이브러리 임포트\n",
        "from func_pandas_exploreDataFrame import exploreDataFrame\n",
        "from func_debug_log import debug"
      ]
    },
    {
      "cell_type": "code",
      "execution_count": 3,
      "metadata": {
        "id": "fiNOi1LB-zbb"
      },
      "outputs": [],
      "source": [
        "# debug_log (0 : 미출력, 1 : 출력)\n",
        "debug_flag = 1"
      ]
    },
    {
      "cell_type": "code",
      "execution_count": 4,
      "metadata": {
        "colab": {
          "base_uri": "https://localhost:8080/"
        },
        "id": "EZt2zQoIS_PN",
        "outputId": "f3a38a9e-5bd4-47cb-9245-f2b2ebd8360a"
      },
      "outputs": [
        {
          "name": "stdout",
          "output_type": "stream",
          "text": [
            "2022.12.01 18:38:56 __main__ 시드 고정\n"
          ]
        }
      ],
      "source": [
        "if debug_flag == 1 : debug('시드 고정', __name__)\n",
        "np.random.seed(42)\n",
        "tf.random.set_seed(42)"
      ]
    },
    {
      "cell_type": "code",
      "execution_count": 5,
      "metadata": {
        "colab": {
          "base_uri": "https://localhost:8080/"
        },
        "id": "UpO1JbC1S_pv",
        "outputId": "4e73f50f-08c4-4121-d9c0-2c91bacfad18"
      },
      "outputs": [
        {
          "name": "stdout",
          "output_type": "stream",
          "text": [
            "2022.12.01 18:38:56 __main__ 데이터 로드\n"
          ]
        }
      ],
      "source": [
        "if debug_flag == 1 : debug('데이터 로드', __name__)\n",
        "df = pd.read_csv('https://archive.ics.uci.edu/ml/machine-learning-databases/iris/iris.data', header=None)"
      ]
    },
    {
      "cell_type": "code",
      "execution_count": 6,
      "metadata": {
        "colab": {
          "base_uri": "https://localhost:8080/"
        },
        "id": "QsZy287bTBDq",
        "outputId": "d7a79e1b-331e-400c-a8ea-ea6514f2e301"
      },
      "outputs": [
        {
          "name": "stdout",
          "output_type": "stream",
          "text": [
            "2022.12.01 18:38:56 __main__ 데이터 시각화\n",
            "(150, 5) \n",
            "\n",
            "     0    1    2    3            4\n",
            "0  5.1  3.5  1.4  0.2  Iris-setosa\n",
            "1  4.9  3.0  1.4  0.2  Iris-setosa\n",
            "2  4.7  3.2  1.3  0.2  Iris-setosa \n",
            "\n",
            "<class 'pandas.core.frame.DataFrame'>\n",
            "RangeIndex: 150 entries, 0 to 149\n",
            "Data columns (total 5 columns):\n",
            " #   Column  Non-Null Count  Dtype  \n",
            "---  ------  --------------  -----  \n",
            " 0   0       150 non-null    float64\n",
            " 1   1       150 non-null    float64\n",
            " 2   2       150 non-null    float64\n",
            " 3   3       150 non-null    float64\n",
            " 4   4       150 non-null    object \n",
            "dtypes: float64(4), object(1)\n",
            "memory usage: 6.0+ KB\n",
            "None \n",
            "\n",
            "                0           1           2           3\n",
            "count  150.000000  150.000000  150.000000  150.000000\n",
            "mean     5.843333    3.054000    3.758667    1.198667\n",
            "std      0.828066    0.433594    1.764420    0.763161\n",
            "min      4.300000    2.000000    1.000000    0.100000\n",
            "25%      5.100000    2.800000    1.600000    0.300000\n",
            "50%      5.800000    3.000000    4.350000    1.300000\n",
            "75%      6.400000    3.300000    5.100000    1.800000\n",
            "max      7.900000    4.400000    6.900000    2.500000 \n",
            "\n"
          ]
        }
      ],
      "source": [
        "if debug_flag == 1 : debug('데이터 시각화', __name__)\n",
        "exploreDataFrame(df)"
      ]
    },
    {
      "cell_type": "code",
      "execution_count": 7,
      "metadata": {
        "colab": {
          "base_uri": "https://localhost:8080/"
        },
        "id": "B-5RnyMV-zbd",
        "outputId": "99056769-eeaf-4914-9245-cac4b6b7d2dc"
      },
      "outputs": [
        {
          "name": "stdout",
          "output_type": "stream",
          "text": [
            "2022.12.01 18:38:56 __main__ label column 추출\n"
          ]
        }
      ],
      "source": [
        "if debug_flag == 1 : debug('label column 추출', __name__)\n",
        "label = df.iloc[0:100, 4].values"
      ]
    },
    {
      "cell_type": "code",
      "execution_count": 8,
      "metadata": {
        "colab": {
          "base_uri": "https://localhost:8080/"
        },
        "id": "klrHWxqv-zbe",
        "outputId": "f16fd525-a46b-4024-a514-9b8db55aba8f"
      },
      "outputs": [
        {
          "name": "stdout",
          "output_type": "stream",
          "text": [
            "2022.12.01 18:38:56 __main__ label을 0,1 의 binary로 전처리\n"
          ]
        },
        {
          "data": {
            "text/plain": [
              "array([0, 0, 0, 0, 0, 0, 0, 0, 0, 0, 0, 0, 0, 0, 0, 0, 0, 0, 0, 0, 0, 0,\n",
              "       0, 0, 0, 0, 0, 0, 0, 0, 0, 0, 0, 0, 0, 0, 0, 0, 0, 0, 0, 0, 0, 0,\n",
              "       0, 0, 0, 0, 0, 0, 1, 1, 1, 1, 1, 1, 1, 1, 1, 1, 1, 1, 1, 1, 1, 1,\n",
              "       1, 1, 1, 1, 1, 1, 1, 1, 1, 1, 1, 1, 1, 1, 1, 1, 1, 1, 1, 1, 1, 1,\n",
              "       1, 1, 1, 1, 1, 1, 1, 1, 1, 1, 1, 1], dtype=object)"
            ]
          },
          "execution_count": 8,
          "metadata": {},
          "output_type": "execute_result"
        }
      ],
      "source": [
        "if debug_flag == 1 : debug('label을 0,1 의 binary로 전처리', __name__)\n",
        "label = np.where(label == 'Iris-setosa', 0, 1)\n",
        "label.astype(object)"
      ]
    },
    {
      "cell_type": "code",
      "execution_count": 9,
      "metadata": {
        "colab": {
          "base_uri": "https://localhost:8080/"
        },
        "id": "wGEpLQlE-zbf",
        "outputId": "4f73bd02-ec4b-4ca4-a096-0bea8e0ccbf2"
      },
      "outputs": [
        {
          "name": "stdout",
          "output_type": "stream",
          "text": [
            "2022.12.01 18:38:56 __main__ feature data 추출\n"
          ]
        }
      ],
      "source": [
        "if debug_flag == 1 : debug('feature data 추출', __name__)\n",
        "features = df.iloc[0:100, [0, 2]].values"
      ]
    },
    {
      "cell_type": "code",
      "execution_count": 10,
      "metadata": {
        "colab": {
          "base_uri": "https://localhost:8080/",
          "height": 297
        },
        "id": "6r-zGQ4L-zbf",
        "outputId": "f0c3b78e-7179-47c8-b238-ffa2a5744837"
      },
      "outputs": [
        {
          "name": "stdout",
          "output_type": "stream",
          "text": [
            "2022.12.01 18:38:56 __main__ 데이터 시각화\n"
          ]
        },
        {
          "data": {
            "image/png": "[encoded data removed]",
            "text/plain": [
              "<Figure size 432x288 with 1 Axes>"
            ]
          },
          "metadata": {
            "needs_background": "light"
          },
          "output_type": "display_data"
        }
      ],
      "source": [
        "if debug_flag == 1 : debug('데이터 시각화', __name__)\n",
        "plt.scatter(features[:50, 0], features[:50, 1], color='red', marker='o', label='setosa')\n",
        "plt.scatter(features[50:100, 0], features[50:100, 1], color='blue', marker='x', label='versicolor')\n",
        "plt.xlabel('sepal length')\n",
        "plt.ylabel('petal length')\n",
        "plt.legend(loc='upper left')\n",
        "plt.show()"
      ]
    },
    {
      "cell_type": "code",
      "execution_count": 11,
      "metadata": {
        "colab": {
          "base_uri": "https://localhost:8080/"
        },
        "id": "9Khz_PPP-zbg",
        "outputId": "7cd3a8ce-571d-4ba1-b2da-b8ce2df9bc29"
      },
      "outputs": [
        {
          "name": "stdout",
          "output_type": "stream",
          "text": [
            "2022.12.01 18:38:56 __main__ test, train 데이터 분할\n"
          ]
        }
      ],
      "source": [
        "if debug_flag == 1 : debug('test, train 데이터 분할', __name__)\n",
        "from sklearn.model_selection import train_test_split\n",
        "\n",
        "X_train, X_test, y_train, y_test = train_test_split(features, label, test_size=0.2, random_state=42)"
      ]
    },
    {
      "cell_type": "code",
      "execution_count": 12,
      "metadata": {
        "colab": {
          "base_uri": "https://localhost:8080/"
        },
        "id": "fQE79iwQ-zbg",
        "outputId": "11994e1f-6507-48ea-bebd-f6b00e83d520"
      },
      "outputs": [
        {
          "name": "stdout",
          "output_type": "stream",
          "text": [
            "2022.12.01 18:38:56 __main__ 출력층만 있는 단층 신경망 구축\n"
          ]
        }
      ],
      "source": [
        "if debug_flag == 1 : debug('출력층만 있는 단층 신경망 구축', __name__)\n",
        "model = tf.keras.models.Sequential(\n",
        "    [\n",
        "        tf.keras.layers.Dense(1, activation='sigmoid') # 출력층 노드 1개, 활성화 함수 sigmoid\n",
        "    ]\n",
        ")\n",
        "\n",
        "# 동일한 모델 구축의 다른 표현\n",
        "# model = tf.keras.models.Sequential()\n",
        "# model.add(tf.keras.layers.Dense(1, activation='sigmoid'))"
      ]
    },
    {
      "cell_type": "code",
      "execution_count": 13,
      "metadata": {
        "colab": {
          "base_uri": "https://localhost:8080/"
        },
        "id": "p0NSVLFi-zbh",
        "outputId": "853a6e7d-a2e7-47c8-fc36-ab3f8019cb70"
      },
      "outputs": [
        {
          "name": "stdout",
          "output_type": "stream",
          "text": [
            "2022.12.01 18:38:56 __main__ 구축한 모델 컴파일\n"
          ]
        }
      ],
      "source": [
        "if debug_flag == 1 : debug('구축한 모델 컴파일', __name__)\n",
        "model.compile(optimizer='sgd', # 옵티마이저\n",
        "    loss = 'binary_crossentropy', # 손실 함수\n",
        "    metrics=['accuracy']) # 지표"
      ]
    },
    {
      "cell_type": "code",
      "execution_count": 14,
      "metadata": {
        "colab": {
          "base_uri": "https://localhost:8080/"
        },
        "id": "UPMrOhGh-zbi",
        "outputId": "cce5d6d2-3edb-4db3-942f-6c525335875f"
      },
      "outputs": [
        {
          "name": "stdout",
          "output_type": "stream",
          "text": [
            "2022.12.01 18:38:56 __main__ 모델 훈련\n",
            "Epoch 1/30\n",
            "3/3 [==============================] - 3s 7ms/step - loss: 1.0814 - accuracy: 0.5250\n",
            "Epoch 2/30\n",
            "3/3 [==============================] - 0s 4ms/step - loss: 1.0017 - accuracy: 0.5250\n",
            "Epoch 3/30\n",
            "3/3 [==============================] - 0s 4ms/step - loss: 0.9433 - accuracy: 0.5250\n",
            "Epoch 4/30\n",
            "3/3 [==============================] - 0s 4ms/step - loss: 0.8986 - accuracy: 0.5250\n",
            "Epoch 5/30\n",
            "3/3 [==============================] - 0s 5ms/step - loss: 0.8627 - accuracy: 0.5250\n",
            "Epoch 6/30\n",
            "3/3 [==============================] - 0s 4ms/step - loss: 0.8413 - accuracy: 0.5250\n",
            "Epoch 7/30\n",
            "3/3 [==============================] - 0s 4ms/step - loss: 0.8181 - accuracy: 0.5250\n",
            "Epoch 8/30\n",
            "3/3 [==============================] - 0s 4ms/step - loss: 0.8036 - accuracy: 0.5250\n",
            "Epoch 9/30\n",
            "3/3 [==============================] - 0s 4ms/step - loss: 0.7901 - accuracy: 0.5250\n",
            "Epoch 10/30\n",
            "3/3 [==============================] - 0s 4ms/step - loss: 0.7797 - accuracy: 0.5250\n",
            "Epoch 11/30\n",
            "3/3 [==============================] - 0s 4ms/step - loss: 0.7695 - accuracy: 0.5250\n",
            "Epoch 12/30\n",
            "3/3 [==============================] - 0s 4ms/step - loss: 0.7611 - accuracy: 0.5250\n",
            "Epoch 13/30\n",
            "3/3 [==============================] - 0s 5ms/step - loss: 0.7554 - accuracy: 0.5250\n",
            "Epoch 14/30\n",
            "3/3 [==============================] - 0s 4ms/step - loss: 0.7450 - accuracy: 0.5250\n",
            "Epoch 15/30\n",
            "3/3 [==============================] - 0s 4ms/step - loss: 0.7369 - accuracy: 0.5250\n",
            "Epoch 16/30\n",
            "3/3 [==============================] - 0s 6ms/step - loss: 0.7281 - accuracy: 0.5250\n",
            "Epoch 17/30\n",
            "3/3 [==============================] - 0s 4ms/step - loss: 0.7241 - accuracy: 0.5250\n",
            "Epoch 18/30\n",
            "3/3 [==============================] - 0s 4ms/step - loss: 0.7130 - accuracy: 0.5250\n",
            "Epoch 19/30\n",
            "3/3 [==============================] - 0s 4ms/step - loss: 0.7049 - accuracy: 0.5250\n",
            "Epoch 20/30\n",
            "3/3 [==============================] - 0s 4ms/step - loss: 0.6979 - accuracy: 0.5250\n",
            "Epoch 21/30\n",
            "3/3 [==============================] - 0s 4ms/step - loss: 0.6894 - accuracy: 0.5250\n",
            "Epoch 22/30\n",
            "3/3 [==============================] - 0s 4ms/step - loss: 0.6852 - accuracy: 0.5250\n",
            "Epoch 23/30\n",
            "3/3 [==============================] - 0s 4ms/step - loss: 0.6755 - accuracy: 0.5250\n",
            "Epoch 24/30\n",
            "3/3 [==============================] - 0s 4ms/step - loss: 0.6706 - accuracy: 0.5250\n",
            "Epoch 25/30\n",
            "3/3 [==============================] - 0s 4ms/step - loss: 0.6619 - accuracy: 0.5250\n",
            "Epoch 26/30\n",
            "3/3 [==============================] - 0s 4ms/step - loss: 0.6544 - accuracy: 0.5250\n",
            "Epoch 27/30\n",
            "3/3 [==============================] - 0s 4ms/step - loss: 0.6483 - accuracy: 0.5250\n",
            "Epoch 28/30\n",
            "3/3 [==============================] - 0s 7ms/step - loss: 0.6419 - accuracy: 0.5250\n",
            "Epoch 29/30\n",
            "3/3 [==============================] - 0s 5ms/step - loss: 0.6353 - accuracy: 0.5250\n",
            "Epoch 30/30\n",
            "3/3 [==============================] - 0s 4ms/step - loss: 0.6285 - accuracy: 0.5250\n"
          ]
        },
        {
          "data": {
            "text/plain": [
              "<keras.callbacks.History at 0x7f9d3e447280>"
            ]
          },
          "execution_count": 14,
          "metadata": {},
          "output_type": "execute_result"
        }
      ],
      "source": [
        "if debug_flag == 1 : debug('모델 훈련', __name__)\n",
        "model.fit(X_train, y_train, epochs=30)"
      ]
    },
    {
      "cell_type": "code",
      "execution_count": 15,
      "metadata": {
        "colab": {
          "base_uri": "https://localhost:8080/"
        },
        "id": "65xpVtYm-zbk",
        "outputId": "125ebca2-df50-42f8-8058-4cbdb20ce701"
      },
      "outputs": [
        {
          "name": "stdout",
          "output_type": "stream",
          "text": [
            "2022.12.01 18:38:56 __main__ 학습된 모델 평가\n",
            "1/1 - 0s - loss: 0.6629 - accuracy: 0.4000 - 107ms/epoch - 107ms/step\n"
          ]
        },
        {
          "data": {
            "text/plain": [
              "[0.6628996133804321, 0.4000000059604645]"
            ]
          },
          "execution_count": 15,
          "metadata": {},
          "output_type": "execute_result"
        }
      ],
      "source": [
        "if debug_flag == 1 : debug('학습된 모델 평가', __name__)\n",
        "model.evaluate(X_test, y_test, verbose=2)"
      ]
    }
  ],
  "metadata": {
    "accelerator": "GPU",
    "colab": {
      "name": "N411_Artificial_Neural_Network.ipynb",
      "provenance": []
    },
    "kernelspec": {
      "display_name": "Python 3.8.15 ('myCodes')",
      "language": "python",
      "name": "python3"
    },
    "language_info": {
      "name": "python",
      "version": "3.8.15"
    },
    "vscode": {
      "interpreter": {
        "hash": "be9c8c09f02aff164ff9b08fdc7e0d6a8d8e8fe95a6cb9e2cbfc007f36c1c7da"
      }
    }
  },
  "nbformat": 4,
  "nbformat_minor": 0
}
