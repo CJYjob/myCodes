{
  "cells": [
    {
      "cell_type": "code",
      "execution_count": 13,
      "metadata": {
        "colab": {
          "base_uri": "https://localhost:8080/"
        },
        "id": "ttBMNh_0NsTj",
        "outputId": "b664471d-c786-4289-f3ef-497d969630dc"
      },
      "outputs": [
        {
          "output_type": "stream",
          "name": "stdout",
          "text": [
            "Drive already mounted at /content/drive; to attempt to forcibly remount, call drive.mount(\"/content/drive\", force_remount=True).\n"
          ]
        }
      ],
      "source": [
        "# 구글 드라이브 마운트(cjyjob1993@gmail.com)\n",
        "from google.colab import drive\n",
        "drive.mount('/content/drive')\n",
        "\n",
        "# lib 디렉토리를을 환경 변수에 추가\n",
        "import sys\n",
        "sys.path.append('/content/drive/MyDrive/Colab Notebooks/myCode/lib')"
      ]
    },
    {
      "cell_type": "code",
      "execution_count": 14,
      "metadata": {
        "id": "W8lIuAWTNsTp"
      },
      "outputs": [],
      "source": [
        "# 라이브러리 임포트\n",
        "import pandas as pd\n",
        "from sklearn.model_selection import train_test_split\n",
        "import tensorflow as tf\n",
        "from tensorflow import keras\n",
        "from tensorflow.keras import layers, optimizers, losses\n",
        "from tensorflow.keras.metrics import Precision, Recall\n",
        "from keras.callbacks import Callback, ModelCheckpoint\n",
        "from keras.models import Sequential, load_model\n",
        "from keras.layers import Dense, Dropout\n",
        "from keras.wrappers.scikit_learn import KerasClassifier\n",
        "# 커스텀 라이브러리 임포트\n",
        "import tensorflow_fixSeed\n",
        "from pandas_readDataFrame import df2, df2_label\n",
        "from func_debug_log import debug\n",
        "from func_pandas_exploreDataFrame import exploreDataFrame\n",
        "from keras_getF1scoreInNeuralNetwork import get_f1"
      ]
    },
    {
      "cell_type": "code",
      "execution_count": 15,
      "metadata": {
        "id": "-KBEXy_wNsTr"
      },
      "outputs": [],
      "source": [
        "# debug_log (0 : 미출력, 1 : 출력)\n",
        "debug_flag = 1"
      ]
    },
    {
      "cell_type": "code",
      "execution_count": 16,
      "metadata": {
        "colab": {
          "base_uri": "https://localhost:8080/"
        },
        "id": "iFfsJBk9NsTr",
        "outputId": "1b1981a8-63e3-4923-c6de-00caf9c24c69"
      },
      "outputs": [
        {
          "output_type": "stream",
          "name": "stdout",
          "text": [
            "2022.12.02 02:13:21 __main__ DataFrame 탐색\n",
            "(1077, 69) \n",
            "\n",
            "        0        1        2       3       4        5        6       7   \\\n",
            "0  0.50364  0.74719  0.43018  2.8163  5.9902  0.21883  0.17757  2.3737   \n",
            "1  0.51462  0.68906  0.41177  2.7895  5.6850  0.21164  0.17282  2.2921   \n",
            "2  0.50918  0.73025  0.41831  2.6872  5.6221  0.20901  0.17572  2.2833   \n",
            "\n",
            "        8       9   ...       59       60       61      62      63       64  \\\n",
            "0  0.23222  1.7509  ...  0.14276  0.43096  0.24754  1.6033  2.0149  0.10823   \n",
            "1  0.22697  1.5964  ...  0.14204  0.45716  0.25763  1.6717  2.0046  0.10975   \n",
            "2  0.23025  1.5613  ...  0.14244  0.51047  0.25534  1.6635  2.0168  0.10820   \n",
            "\n",
            "        65       66       67      68  \n",
            "0  1.04500  0.83156  0.18885  1.6757  \n",
            "1  1.00990  0.84927  0.20040  1.7436  \n",
            "2  0.99685  0.84671  0.19368  1.9264  \n",
            "\n",
            "[3 rows x 69 columns] \n",
            "\n",
            "<class 'pandas.core.frame.DataFrame'>\n",
            "RangeIndex: 1077 entries, 0 to 1076\n",
            "Data columns (total 69 columns):\n",
            " #   Column  Non-Null Count  Dtype  \n",
            "---  ------  --------------  -----  \n",
            " 0   0       1077 non-null   float64\n",
            " 1   1       1077 non-null   float64\n",
            " 2   2       1077 non-null   float64\n",
            " 3   3       1077 non-null   float64\n",
            " 4   4       1077 non-null   float64\n",
            " 5   5       1077 non-null   float64\n",
            " 6   6       1077 non-null   float64\n",
            " 7   7       1077 non-null   float64\n",
            " 8   8       1077 non-null   float64\n",
            " 9   9       1077 non-null   float64\n",
            " 10  10      1077 non-null   float64\n",
            " 11  11      1077 non-null   float64\n",
            " 12  12      1077 non-null   float64\n",
            " 13  13      1077 non-null   float64\n",
            " 14  14      1077 non-null   float64\n",
            " 15  15      1077 non-null   float64\n",
            " 16  16      1077 non-null   float64\n",
            " 17  17      1077 non-null   float64\n",
            " 18  18      1077 non-null   float64\n",
            " 19  19      1077 non-null   float64\n",
            " 20  20      1077 non-null   float64\n",
            " 21  21      1077 non-null   float64\n",
            " 22  22      1077 non-null   float64\n",
            " 23  23      1077 non-null   float64\n",
            " 24  24      1077 non-null   float64\n",
            " 25  25      1077 non-null   float64\n",
            " 26  26      1077 non-null   float64\n",
            " 27  27      1077 non-null   float64\n",
            " 28  28      1077 non-null   float64\n",
            " 29  29      1077 non-null   float64\n",
            " 30  30      1077 non-null   float64\n",
            " 31  31      1077 non-null   float64\n",
            " 32  32      1077 non-null   float64\n",
            " 33  33      1077 non-null   float64\n",
            " 34  34      1077 non-null   float64\n",
            " 35  35      1077 non-null   float64\n",
            " 36  36      1077 non-null   float64\n",
            " 37  37      1077 non-null   float64\n",
            " 38  38      1077 non-null   float64\n",
            " 39  39      1077 non-null   float64\n",
            " 40  40      1077 non-null   float64\n",
            " 41  41      1077 non-null   float64\n",
            " 42  42      1077 non-null   float64\n",
            " 43  43      1077 non-null   float64\n",
            " 44  44      1077 non-null   float64\n",
            " 45  45      1077 non-null   float64\n",
            " 46  46      1077 non-null   float64\n",
            " 47  47      1077 non-null   float64\n",
            " 48  48      1077 non-null   float64\n",
            " 49  49      1077 non-null   float64\n",
            " 50  50      1077 non-null   float64\n",
            " 51  51      1077 non-null   float64\n",
            " 52  52      1077 non-null   float64\n",
            " 53  53      1077 non-null   float64\n",
            " 54  54      1077 non-null   float64\n",
            " 55  55      1077 non-null   float64\n",
            " 56  56      1077 non-null   float64\n",
            " 57  57      1077 non-null   float64\n",
            " 58  58      1077 non-null   float64\n",
            " 59  59      1077 non-null   float64\n",
            " 60  60      1077 non-null   float64\n",
            " 61  61      1077 non-null   float64\n",
            " 62  62      1077 non-null   float64\n",
            " 63  63      1077 non-null   float64\n",
            " 64  64      1077 non-null   float64\n",
            " 65  65      1077 non-null   float64\n",
            " 66  66      1077 non-null   float64\n",
            " 67  67      1077 non-null   float64\n",
            " 68  68      1077 non-null   float64\n",
            "dtypes: float64(69)\n",
            "memory usage: 580.7 KB\n",
            "None \n",
            "\n",
            "                0            1            2            3            4   \\\n",
            "count  1077.000000  1077.000000  1077.000000  1077.000000  1077.000000   \n",
            "mean      0.425810     0.617102     0.319088     2.297270     3.843934   \n",
            "std       0.249362     0.251641     0.049383     0.347292     0.933102   \n",
            "min       0.145330     0.245360     0.115180     1.330800     1.737500   \n",
            "25%       0.288120     0.473360     0.287440     2.057400     3.155700   \n",
            "50%       0.366380     0.565780     0.316560     2.296500     3.760900   \n",
            "75%       0.487710     0.698030     0.348200     2.528500     4.440000   \n",
            "max       2.516400     2.602700     0.497160     3.757600     8.482600   \n",
            "\n",
            "                5            6            7            8            9   ...  \\\n",
            "count  1077.000000  1077.000000  1077.000000  1077.000000  1077.000000  ...   \n",
            "mean      0.233168     0.181846     3.537107     0.212574     1.428681  ...   \n",
            "std       0.041635     0.027042     1.295171     0.032587     0.466902  ...   \n",
            "min       0.063236     0.064043     1.344000     0.112810     0.429030  ...   \n",
            "25%       0.205750     0.164590     2.479800     0.190820     1.203700  ...   \n",
            "50%       0.231180     0.182300     3.326500     0.210590     1.355800  ...   \n",
            "75%       0.257260     0.197420     4.481900     0.234590     1.561300  ...   \n",
            "max       0.539050     0.317070     7.464100     0.306250     6.113300  ...   \n",
            "\n",
            "                59           60           61           62           63  \\\n",
            "count  1077.000000  1077.000000  1077.000000  1077.000000  1077.000000   \n",
            "mean      0.126587     0.527347     0.291197     1.548412     2.235409   \n",
            "std       0.026917     0.082167     0.030019     0.248457     0.254723   \n",
            "min       0.072580     0.284000     0.207440     0.853180     1.206100   \n",
            "25%       0.108870     0.475480     0.269980     1.374900     2.079000   \n",
            "50%       0.123610     0.526680     0.290550     1.522700     2.243000   \n",
            "75%       0.141980     0.576990     0.311460     1.713300     2.420300   \n",
            "max       0.537000     0.889740     0.443740     2.586200     2.877900   \n",
            "\n",
            "                64           65           66           67           68  \n",
            "count  1077.000000  1077.000000  1077.000000  1077.000000  1077.000000  \n",
            "mean      0.159809     1.239272     0.848297     0.226754     1.337441  \n",
            "std       0.024182     0.173817     0.094009     0.028991     0.317499  \n",
            "min       0.101230     0.750660     0.577400     0.155870     0.586480  \n",
            "25%       0.142820     1.115900     0.793710     0.206510     1.081200  \n",
            "50%       0.157490     1.237100     0.849400     0.224070     1.316600  \n",
            "75%       0.173310     1.363300     0.915400     0.241690     1.585900  \n",
            "max       0.257620     1.897200     1.204600     0.358290     2.129800  \n",
            "\n",
            "[8 rows x 69 columns] \n",
            "\n",
            "(1077, 1) \n",
            "\n",
            "   0\n",
            "0  1\n",
            "1  1\n",
            "2  1 \n",
            "\n",
            "<class 'pandas.core.frame.DataFrame'>\n",
            "RangeIndex: 1077 entries, 0 to 1076\n",
            "Data columns (total 1 columns):\n",
            " #   Column  Non-Null Count  Dtype\n",
            "---  ------  --------------  -----\n",
            " 0   0       1077 non-null   int64\n",
            "dtypes: int64(1)\n",
            "memory usage: 8.5 KB\n",
            "None \n",
            "\n",
            "                 0\n",
            "count  1077.000000\n",
            "mean      1.470752\n",
            "std       0.499376\n",
            "min       1.000000\n",
            "25%       1.000000\n",
            "50%       1.000000\n",
            "75%       2.000000\n",
            "max       2.000000 \n",
            "\n"
          ]
        }
      ],
      "source": [
        "if debug_flag == 1 : debug('DataFrame 탐색', __name__)\n",
        "exploreDataFrame(df2)\n",
        "exploreDataFrame(df2_label)"
      ]
    },
    {
      "cell_type": "code",
      "execution_count": 17,
      "metadata": {
        "colab": {
          "base_uri": "https://localhost:8080/"
        },
        "id": "prmGHRh4NsTs",
        "outputId": "3ea20e3b-5932-43f2-976f-77e789ef1522"
      },
      "outputs": [
        {
          "output_type": "stream",
          "name": "stdout",
          "text": [
            "2022.12.02 02:13:21 __main__ train, test 데이터 분할\n"
          ]
        }
      ],
      "source": [
        "if debug_flag == 1 : debug('train, test 데이터 분할', __name__)\n",
        "df2_label = df2_label - 1\n",
        "df2_label.astype(object)\n",
        "X_train, X_test, y_train, y_test = train_test_split(df2, df2_label, test_size=0.2, random_state=42)\n",
        "X_train, X_val, y_train, y_val = train_test_split(X_train, y_train, test_size=0.2, random_state=42)"
      ]
    },
    {
      "cell_type": "code",
      "execution_count": 21,
      "metadata": {
        "colab": {
          "base_uri": "https://localhost:8080/"
        },
        "id": "j1KIjY8dNsTs",
        "outputId": "e5b7007d-4b4d-4e51-f027-5f95113ee016"
      },
      "outputs": [
        {
          "output_type": "stream",
          "name": "stdout",
          "text": [
            "2022.12.02 02:13:21 __main__ 신경망 모델 빌드 함수 선언\n"
          ]
        }
      ],
      "source": [
        "if debug_flag == 1 : debug('신경망 모델 빌드 함수 선언', __name__)\n",
        "\n",
        "input_shape = X_train.shape[1] # X_train의 input_shape 변수 바인딩\n",
        "def mlp_v2():\n",
        "    mdl = Sequential()\n",
        "    mdl.add(Dense(12,  input_dim = 69, activation='relu',input_shape=(input_shape,)))\n",
        "    mdl.add(Dropout(0.5))\n",
        "    mdl.add(Dense(128, activation='relu'))\n",
        "    mdl.add(Dropout(0.5))\n",
        "    mdl.add(Dense(1, activation='sigmoid'))\n",
        "    mdl.compile(loss='binary_crossentropy', optimizer='adadelta', metrics=[get_f1])\n",
        "    mdl.summary()\n",
        "    return mdl"
      ]
    },
    {
      "cell_type": "code",
      "execution_count": 22,
      "metadata": {
        "id": "eYCYqZnbmmui",
        "outputId": "af284dc3-b667-431d-a661-2f716b385ad8",
        "colab": {
          "base_uri": "https://localhost:8080/"
        }
      },
      "outputs": [
        {
          "output_type": "stream",
          "name": "stdout",
          "text": [
            "2022.12.02 02:13:21 __main__ 신경망 모델 학습 checkpoint 설정\n"
          ]
        }
      ],
      "source": [
        "if debug_flag == 1 : debug('신경망 모델 학습 checkpoint 설정', __name__)\n",
        "\n",
        "mode_path = '../models/mlp_v2.h5'\n",
        "callbacks = [ModelCheckpoint(filepath=mode_path, save_best_only=True)]"
      ]
    },
    {
      "cell_type": "code",
      "execution_count": 23,
      "metadata": {
        "colab": {
          "base_uri": "https://localhost:8080/"
        },
        "id": "ALiio16iNsTv",
        "outputId": "489d3531-f807-44fb-a5d8-6dfa15dfdd9b"
      },
      "outputs": [
        {
          "output_type": "stream",
          "name": "stdout",
          "text": [
            "2022.12.02 02:13:21 __main__ 신경망 모델 학습\n",
            "Model: \"sequential_2\"\n",
            "_________________________________________________________________\n",
            " Layer (type)                Output Shape              Param #   \n",
            "=================================================================\n",
            " dense (Dense)               (None, 12)                840       \n",
            "                                                                 \n",
            " dropout (Dropout)           (None, 12)                0         \n",
            "                                                                 \n",
            " dense_1 (Dense)             (None, 128)               1664      \n",
            "                                                                 \n",
            " dropout_1 (Dropout)         (None, 128)               0         \n",
            "                                                                 \n",
            " dense_2 (Dense)             (None, 1)                 129       \n",
            "                                                                 \n",
            "=================================================================\n",
            "Total params: 2,633\n",
            "Trainable params: 2,633\n",
            "Non-trainable params: 0\n",
            "_________________________________________________________________\n"
          ]
        },
        {
          "output_type": "stream",
          "name": "stderr",
          "text": [
            "<ipython-input-23-6a45089499ce>:2: DeprecationWarning: KerasClassifier is deprecated, use Sci-Keras (https://github.com/adriangb/scikeras) instead. See https://www.adriangb.com/scikeras/stable/migration.html for help migrating.\n",
            "  estimator = KerasClassifier(build_fn = mlp_v2, epochs=5, batch_size=128)\n"
          ]
        },
        {
          "output_type": "stream",
          "name": "stdout",
          "text": [
            "Epoch 1/5\n",
            "6/6 [==============================] - 1s 57ms/step - loss: 0.9023 - get_f1: 0.5649 - val_loss: 0.7719 - val_get_f1: 0.5439\n",
            "Epoch 2/5\n",
            "6/6 [==============================] - 0s 10ms/step - loss: 0.8751 - get_f1: 0.5840 - val_loss: 0.7717 - val_get_f1: 0.5439\n",
            "Epoch 3/5\n",
            "6/6 [==============================] - 0s 10ms/step - loss: 0.8516 - get_f1: 0.5955 - val_loss: 0.7715 - val_get_f1: 0.5439\n",
            "Epoch 4/5\n",
            "6/6 [==============================] - 0s 11ms/step - loss: 0.8374 - get_f1: 0.6022 - val_loss: 0.7713 - val_get_f1: 0.5439\n",
            "Epoch 5/5\n",
            "6/6 [==============================] - 0s 10ms/step - loss: 0.8519 - get_f1: 0.5966 - val_loss: 0.7711 - val_get_f1: 0.5439\n"
          ]
        }
      ],
      "source": [
        "if debug_flag == 1 : debug('신경망 모델 학습', __name__)\n",
        "estimator = KerasClassifier(build_fn = mlp_v2, epochs=5, batch_size=128)\n",
        "history = estimator.fit(X_train, y_train, validation_data = (X_val, y_val), callbacks=callbacks)"
      ]
    }
  ],
  "metadata": {
    "colab": {
      "provenance": []
    },
    "kernelspec": {
      "display_name": "Python 3.8.15 ('myCodes')",
      "language": "python",
      "name": "python3"
    },
    "language_info": {
      "name": "python",
      "version": "3.8.15"
    },
    "orig_nbformat": 4,
    "vscode": {
      "interpreter": {
        "hash": "be9c8c09f02aff164ff9b08fdc7e0d6a8d8e8fe95a6cb9e2cbfc007f36c1c7da"
      }
    }
  },
  "nbformat": 4,
  "nbformat_minor": 0
}