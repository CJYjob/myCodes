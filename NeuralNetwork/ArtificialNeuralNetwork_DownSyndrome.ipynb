{
 "cells": [
  {
   "cell_type": "code",
   "execution_count": null,
   "metadata": {},
   "outputs": [],
   "source": [
    "# 구글 드라이브 마운트(cjyjob1993@gmail.com)\n",
    "from google.colab import drive\n",
    "drive.mount('/content/drive')\n",
    "\n",
    "# lib 디렉토리를을 환경 변수에 추가\n",
    "import sys\n",
    "sys.path.append('/content/drive/MyDrive/Colab Notebooks/myCode/lib')"
   ]
  },
  {
   "cell_type": "code",
   "execution_count": null,
   "metadata": {},
   "outputs": [],
   "source": [
    "# 라이브러리 임포트\n",
    "import pandas as pd\n",
    "import sklearn.model_selection import train_test_split\n",
    "import tensorflow as tf\n",
    "from tensorflow import keras\n",
    "from tensorflow.keras import layers, optimizers, losses\n",
    "from tensorflow.keras.metrics import Persicion, Recall\n",
    "# 커스텀 라이브러리 임포트\n",
    "import tensorflow_fixSeed\n",
    "from pandas_readDataFrame import df2, df2_label\n",
    "from func_debug_log import debug\n",
    "from func_pandas_exploreDataFrame import exploreDataFrame"
   ]
  },
  {
   "cell_type": "code",
   "execution_count": null,
   "metadata": {},
   "outputs": [],
   "source": [
    "# debug_log (0 : 미출력, 1 : 출력)\n",
    "debug_flag = 1"
   ]
  },
  {
   "cell_type": "code",
   "execution_count": null,
   "metadata": {},
   "outputs": [],
   "source": [
    "if debug_flag == 1 : debug('DataFrame 탐색', __name__)\n",
    "    exploreDataFrame(df2)\n",
    "    exploreDataFrame(df2_label)"
   ]
  },
  {
   "cell_type": "code",
   "execution_count": null,
   "metadata": {},
   "outputs": [],
   "source": [
    "if debug_flag == 1 : debug('train, test 데이터 분할', __name__)\n",
    "df2_label = df2_label - 1\n",
    "df2_label.astype(object)\n",
    "X_train, X_test, y_train, y_test = train_test_split(df, df_label, test_size=0.2, random_state=42)"
   ]
  },
  {
   "cell_type": "code",
   "execution_count": null,
   "metadata": {},
   "outputs": [],
   "source": [
    "if debug_flag == 1 : debug('신경망 모델 구축', __name__)\n",
    "model = keras.Sequential(\n",
    "    [\n",
    "        layers.Dense(12, input_dim=69, actibation='relu')\n",
    "        layers.Dense(1, actibation='sigmoid')\n",
    "    ]\n",
    ")"
   ]
  },
  {
   "cell_type": "code",
   "execution_count": null,
   "metadata": {},
   "outputs": [],
   "source": [
    "if debug_flag == 1 : debug('신경망 모델 컴파일', __name__)\n",
    "model.compile(\n",
    "    optimizer = 'adam',\n",
    "    loss = 'binary_crossentropy',\n",
    "    metrics = ['Accuracy', 'Precision', 'Recall']\n",
    ")"
   ]
  },
  {
   "cell_type": "code",
   "execution_count": null,
   "metadata": {},
   "outputs": [],
   "source": [
    "if debug_flag == 1 : debug('신경망 모델 학습', __name__)\n",
    "model.fit(\n",
    "    X_train,\n",
    "    y_train,\n",
    "    epochs=10,\n",
    "    batch_size=64,\n",
    "    validation_data=(X_test, y_test)\n",
    ")"
   ]
  }
 ],
 "metadata": {
  "kernelspec": {
   "display_name": "Python 3.8.15 ('myCodes')",
   "language": "python",
   "name": "python3"
  },
  "language_info": {
   "name": "python",
   "version": "3.8.15"
  },
  "orig_nbformat": 4,
  "vscode": {
   "interpreter": {
    "hash": "be9c8c09f02aff164ff9b08fdc7e0d6a8d8e8fe95a6cb9e2cbfc007f36c1c7da"
   }
  }
 },
 "nbformat": 4,
 "nbformat_minor": 2
}
