{
  "cells": [
    {
      "cell_type": "code",
      "execution_count": 1,
      "metadata": {
        "id": "ttBMNh_0NsTj",
        "outputId": "654ea5c2-c148-4717-bae6-7750799d5f10",
        "colab": {
          "base_uri": "https://localhost:8080/"
        }
      },
      "outputs": [
        {
          "output_type": "stream",
          "name": "stdout",
          "text": [
            "Drive already mounted at /content/drive; to attempt to forcibly remount, call drive.mount(\"/content/drive\", force_remount=True).\n"
          ]
        }
      ],
      "source": [
        "# 구글 드라이브 마운트(cjyjob1993@gmail.com)\n",
        "from google.colab import drive\n",
        "drive.mount('/content/drive')\n",
        "\n",
        "# lib 디렉토리를을 환경 변수에 추가\n",
        "import sys\n",
        "sys.path.append('/content/drive/MyDrive/Colab Notebooks/myCode/lib')"
      ]
    },
    {
      "cell_type": "code",
      "execution_count": 2,
      "metadata": {
        "id": "W8lIuAWTNsTp"
      },
      "outputs": [],
      "source": [
        "# 라이브러리 임포트\n",
        "import pandas as pd\n",
        "from sklearn.model_selection import train_test_split\n",
        "import tensorflow as tf\n",
        "from tensorflow import keras\n",
        "from tensorflow.keras import layers, optimizers, losses\n",
        "from tensorflow.keras.metrics import Precision, Recall\n",
        "# 커스텀 라이브러리 임포트\n",
        "import tensorflow_fixSeed\n",
        "from pandas_readDataFrame import df2, df2_label\n",
        "from func_debug_log import debug\n",
        "from func_pandas_exploreDataFrame import exploreDataFrame"
      ]
    },
    {
      "cell_type": "code",
      "execution_count": 3,
      "metadata": {
        "id": "-KBEXy_wNsTr"
      },
      "outputs": [],
      "source": [
        "# debug_log (0 : 미출력, 1 : 출력)\n",
        "debug_flag = 1"
      ]
    },
    {
      "cell_type": "code",
      "execution_count": 4,
      "metadata": {
        "id": "iFfsJBk9NsTr",
        "outputId": "e8dce7ec-b84c-4aca-e0bb-aa906d96183c",
        "colab": {
          "base_uri": "https://localhost:8080/"
        }
      },
      "outputs": [
        {
          "output_type": "stream",
          "name": "stdout",
          "text": [
            "2022.12.02 00:34:03 __main__ DataFrame 탐색\n",
            "(1077, 69) \n",
            "\n",
            "        0        1        2       3       4        5        6       7   \\\n",
            "0  0.50364  0.74719  0.43018  2.8163  5.9902  0.21883  0.17757  2.3737   \n",
            "1  0.51462  0.68906  0.41177  2.7895  5.6850  0.21164  0.17282  2.2921   \n",
            "2  0.50918  0.73025  0.41831  2.6872  5.6221  0.20901  0.17572  2.2833   \n",
            "\n",
            "        8       9   ...       59       60       61      62      63       64  \\\n",
            "0  0.23222  1.7509  ...  0.14276  0.43096  0.24754  1.6033  2.0149  0.10823   \n",
            "1  0.22697  1.5964  ...  0.14204  0.45716  0.25763  1.6717  2.0046  0.10975   \n",
            "2  0.23025  1.5613  ...  0.14244  0.51047  0.25534  1.6635  2.0168  0.10820   \n",
            "\n",
            "        65       66       67      68  \n",
            "0  1.04500  0.83156  0.18885  1.6757  \n",
            "1  1.00990  0.84927  0.20040  1.7436  \n",
            "2  0.99685  0.84671  0.19368  1.9264  \n",
            "\n",
            "[3 rows x 69 columns] \n",
            "\n",
            "<class 'pandas.core.frame.DataFrame'>\n",
            "RangeIndex: 1077 entries, 0 to 1076\n",
            "Data columns (total 69 columns):\n",
            " #   Column  Non-Null Count  Dtype  \n",
            "---  ------  --------------  -----  \n",
            " 0   0       1077 non-null   float64\n",
            " 1   1       1077 non-null   float64\n",
            " 2   2       1077 non-null   float64\n",
            " 3   3       1077 non-null   float64\n",
            " 4   4       1077 non-null   float64\n",
            " 5   5       1077 non-null   float64\n",
            " 6   6       1077 non-null   float64\n",
            " 7   7       1077 non-null   float64\n",
            " 8   8       1077 non-null   float64\n",
            " 9   9       1077 non-null   float64\n",
            " 10  10      1077 non-null   float64\n",
            " 11  11      1077 non-null   float64\n",
            " 12  12      1077 non-null   float64\n",
            " 13  13      1077 non-null   float64\n",
            " 14  14      1077 non-null   float64\n",
            " 15  15      1077 non-null   float64\n",
            " 16  16      1077 non-null   float64\n",
            " 17  17      1077 non-null   float64\n",
            " 18  18      1077 non-null   float64\n",
            " 19  19      1077 non-null   float64\n",
            " 20  20      1077 non-null   float64\n",
            " 21  21      1077 non-null   float64\n",
            " 22  22      1077 non-null   float64\n",
            " 23  23      1077 non-null   float64\n",
            " 24  24      1077 non-null   float64\n",
            " 25  25      1077 non-null   float64\n",
            " 26  26      1077 non-null   float64\n",
            " 27  27      1077 non-null   float64\n",
            " 28  28      1077 non-null   float64\n",
            " 29  29      1077 non-null   float64\n",
            " 30  30      1077 non-null   float64\n",
            " 31  31      1077 non-null   float64\n",
            " 32  32      1077 non-null   float64\n",
            " 33  33      1077 non-null   float64\n",
            " 34  34      1077 non-null   float64\n",
            " 35  35      1077 non-null   float64\n",
            " 36  36      1077 non-null   float64\n",
            " 37  37      1077 non-null   float64\n",
            " 38  38      1077 non-null   float64\n",
            " 39  39      1077 non-null   float64\n",
            " 40  40      1077 non-null   float64\n",
            " 41  41      1077 non-null   float64\n",
            " 42  42      1077 non-null   float64\n",
            " 43  43      1077 non-null   float64\n",
            " 44  44      1077 non-null   float64\n",
            " 45  45      1077 non-null   float64\n",
            " 46  46      1077 non-null   float64\n",
            " 47  47      1077 non-null   float64\n",
            " 48  48      1077 non-null   float64\n",
            " 49  49      1077 non-null   float64\n",
            " 50  50      1077 non-null   float64\n",
            " 51  51      1077 non-null   float64\n",
            " 52  52      1077 non-null   float64\n",
            " 53  53      1077 non-null   float64\n",
            " 54  54      1077 non-null   float64\n",
            " 55  55      1077 non-null   float64\n",
            " 56  56      1077 non-null   float64\n",
            " 57  57      1077 non-null   float64\n",
            " 58  58      1077 non-null   float64\n",
            " 59  59      1077 non-null   float64\n",
            " 60  60      1077 non-null   float64\n",
            " 61  61      1077 non-null   float64\n",
            " 62  62      1077 non-null   float64\n",
            " 63  63      1077 non-null   float64\n",
            " 64  64      1077 non-null   float64\n",
            " 65  65      1077 non-null   float64\n",
            " 66  66      1077 non-null   float64\n",
            " 67  67      1077 non-null   float64\n",
            " 68  68      1077 non-null   float64\n",
            "dtypes: float64(69)\n",
            "memory usage: 580.7 KB\n",
            "None \n",
            "\n",
            "                0            1            2            3            4   \\\n",
            "count  1077.000000  1077.000000  1077.000000  1077.000000  1077.000000   \n",
            "mean      0.425810     0.617102     0.319088     2.297270     3.843934   \n",
            "std       0.249362     0.251641     0.049383     0.347292     0.933102   \n",
            "min       0.145330     0.245360     0.115180     1.330800     1.737500   \n",
            "25%       0.288120     0.473360     0.287440     2.057400     3.155700   \n",
            "50%       0.366380     0.565780     0.316560     2.296500     3.760900   \n",
            "75%       0.487710     0.698030     0.348200     2.528500     4.440000   \n",
            "max       2.516400     2.602700     0.497160     3.757600     8.482600   \n",
            "\n",
            "                5            6            7            8            9   ...  \\\n",
            "count  1077.000000  1077.000000  1077.000000  1077.000000  1077.000000  ...   \n",
            "mean      0.233168     0.181846     3.537107     0.212574     1.428681  ...   \n",
            "std       0.041635     0.027042     1.295171     0.032587     0.466902  ...   \n",
            "min       0.063236     0.064043     1.344000     0.112810     0.429030  ...   \n",
            "25%       0.205750     0.164590     2.479800     0.190820     1.203700  ...   \n",
            "50%       0.231180     0.182300     3.326500     0.210590     1.355800  ...   \n",
            "75%       0.257260     0.197420     4.481900     0.234590     1.561300  ...   \n",
            "max       0.539050     0.317070     7.464100     0.306250     6.113300  ...   \n",
            "\n",
            "                59           60           61           62           63  \\\n",
            "count  1077.000000  1077.000000  1077.000000  1077.000000  1077.000000   \n",
            "mean      0.126587     0.527347     0.291197     1.548412     2.235409   \n",
            "std       0.026917     0.082167     0.030019     0.248457     0.254723   \n",
            "min       0.072580     0.284000     0.207440     0.853180     1.206100   \n",
            "25%       0.108870     0.475480     0.269980     1.374900     2.079000   \n",
            "50%       0.123610     0.526680     0.290550     1.522700     2.243000   \n",
            "75%       0.141980     0.576990     0.311460     1.713300     2.420300   \n",
            "max       0.537000     0.889740     0.443740     2.586200     2.877900   \n",
            "\n",
            "                64           65           66           67           68  \n",
            "count  1077.000000  1077.000000  1077.000000  1077.000000  1077.000000  \n",
            "mean      0.159809     1.239272     0.848297     0.226754     1.337441  \n",
            "std       0.024182     0.173817     0.094009     0.028991     0.317499  \n",
            "min       0.101230     0.750660     0.577400     0.155870     0.586480  \n",
            "25%       0.142820     1.115900     0.793710     0.206510     1.081200  \n",
            "50%       0.157490     1.237100     0.849400     0.224070     1.316600  \n",
            "75%       0.173310     1.363300     0.915400     0.241690     1.585900  \n",
            "max       0.257620     1.897200     1.204600     0.358290     2.129800  \n",
            "\n",
            "[8 rows x 69 columns] \n",
            "\n",
            "(1077, 1) \n",
            "\n",
            "   0\n",
            "0  1\n",
            "1  1\n",
            "2  1 \n",
            "\n",
            "<class 'pandas.core.frame.DataFrame'>\n",
            "RangeIndex: 1077 entries, 0 to 1076\n",
            "Data columns (total 1 columns):\n",
            " #   Column  Non-Null Count  Dtype\n",
            "---  ------  --------------  -----\n",
            " 0   0       1077 non-null   int64\n",
            "dtypes: int64(1)\n",
            "memory usage: 8.5 KB\n",
            "None \n",
            "\n",
            "                 0\n",
            "count  1077.000000\n",
            "mean      1.470752\n",
            "std       0.499376\n",
            "min       1.000000\n",
            "25%       1.000000\n",
            "50%       1.000000\n",
            "75%       2.000000\n",
            "max       2.000000 \n",
            "\n"
          ]
        }
      ],
      "source": [
        "if debug_flag == 1 : debug('DataFrame 탐색', __name__)\n",
        "exploreDataFrame(df2)\n",
        "exploreDataFrame(df2_label)"
      ]
    },
    {
      "cell_type": "code",
      "execution_count": 5,
      "metadata": {
        "id": "prmGHRh4NsTs",
        "outputId": "4675f320-61e3-4036-e5d7-2bcd9bbca7c1",
        "colab": {
          "base_uri": "https://localhost:8080/"
        }
      },
      "outputs": [
        {
          "output_type": "stream",
          "name": "stdout",
          "text": [
            "2022.12.02 00:34:03 __main__ train, test 데이터 분할\n"
          ]
        }
      ],
      "source": [
        "if debug_flag == 1 : debug('train, test 데이터 분할', __name__)\n",
        "df2_label = df2_label - 1\n",
        "df2_label.astype(object)\n",
        "X_train, X_test, y_train, y_test = train_test_split(df2, df2_label, test_size=0.2, random_state=42)"
      ]
    },
    {
      "cell_type": "code",
      "execution_count": 6,
      "metadata": {
        "id": "j1KIjY8dNsTs",
        "outputId": "ff4361d8-25e6-47b2-903f-c55290c32c4f",
        "colab": {
          "base_uri": "https://localhost:8080/"
        }
      },
      "outputs": [
        {
          "output_type": "stream",
          "name": "stdout",
          "text": [
            "2022.12.02 00:34:03 __main__ 신경망 모델 구축\n"
          ]
        }
      ],
      "source": [
        "if debug_flag == 1 : debug('신경망 모델 구축', __name__)\n",
        "model = keras.Sequential(\n",
        "    [\n",
        "        layers.Dense(12, input_dim=69, activation='relu'),\n",
        "        layers.Dense(1, activation='sigmoid')\n",
        "    ]\n",
        ")"
      ]
    },
    {
      "cell_type": "code",
      "execution_count": 7,
      "metadata": {
        "id": "Qi4nBTzXNsTt",
        "outputId": "705e88a4-9c4b-4148-c733-9eb8cb17d3ec",
        "colab": {
          "base_uri": "https://localhost:8080/"
        }
      },
      "outputs": [
        {
          "output_type": "stream",
          "name": "stdout",
          "text": [
            "2022.12.02 00:34:03 __main__ 신경망 모델 컴파일\n"
          ]
        }
      ],
      "source": [
        "if debug_flag == 1 : debug('신경망 모델 컴파일', __name__)\n",
        "model.compile(\n",
        "    optimizer = 'adam',\n",
        "    loss = 'binary_crossentropy',\n",
        "    metrics = ['Accuracy', 'Precision', 'Recall']\n",
        ")"
      ]
    },
    {
      "cell_type": "code",
      "execution_count": 8,
      "metadata": {
        "id": "ALiio16iNsTv",
        "outputId": "0017581c-ea1f-4446-a1de-1d63463fa874",
        "colab": {
          "base_uri": "https://localhost:8080/"
        }
      },
      "outputs": [
        {
          "output_type": "stream",
          "name": "stdout",
          "text": [
            "2022.12.02 00:34:03 __main__ 신경망 모델 학습\n",
            "Epoch 1/10\n",
            "14/14 [==============================] - 1s 33ms/step - loss: 0.7323 - Accuracy: 0.4832 - precision: 0.4627 - recall: 0.5293 - val_loss: 0.7066 - val_Accuracy: 0.5185 - val_precision: 0.2308 - val_recall: 0.0309\n",
            "Epoch 2/10\n",
            "14/14 [==============================] - 0s 4ms/step - loss: 0.7111 - Accuracy: 0.4797 - precision: 0.3021 - recall: 0.0707 - val_loss: 0.6998 - val_Accuracy: 0.4537 - val_precision: 0.3521 - val_recall: 0.2577\n",
            "Epoch 3/10\n",
            "14/14 [==============================] - 0s 4ms/step - loss: 0.7011 - Accuracy: 0.4739 - precision: 0.4464 - recall: 0.4366 - val_loss: 0.6943 - val_Accuracy: 0.4630 - val_precision: 0.3662 - val_recall: 0.2680\n",
            "Epoch 4/10\n",
            "14/14 [==============================] - 0s 4ms/step - loss: 0.6939 - Accuracy: 0.4739 - precision: 0.3799 - recall: 0.1659 - val_loss: 0.6855 - val_Accuracy: 0.5324 - val_precision: 0.4000 - val_recall: 0.0825\n",
            "Epoch 5/10\n",
            "14/14 [==============================] - 0s 4ms/step - loss: 0.6897 - Accuracy: 0.5017 - precision: 0.4581 - recall: 0.2537 - val_loss: 0.6818 - val_Accuracy: 0.5278 - val_precision: 0.4561 - val_recall: 0.2680\n",
            "Epoch 6/10\n",
            "14/14 [==============================] - 0s 4ms/step - loss: 0.6839 - Accuracy: 0.5215 - precision: 0.4953 - recall: 0.2585 - val_loss: 0.6758 - val_Accuracy: 0.5509 - val_precision: 0.5000 - val_recall: 0.1856\n",
            "Epoch 7/10\n",
            "14/14 [==============================] - 0s 5ms/step - loss: 0.6785 - Accuracy: 0.5668 - precision: 0.5774 - recall: 0.3366 - val_loss: 0.6709 - val_Accuracy: 0.5648 - val_precision: 0.5429 - val_recall: 0.1959\n",
            "Epoch 8/10\n",
            "14/14 [==============================] - 0s 4ms/step - loss: 0.6747 - Accuracy: 0.5412 - precision: 0.5882 - recall: 0.1220 - val_loss: 0.6663 - val_Accuracy: 0.5741 - val_precision: 0.5714 - val_recall: 0.2062\n",
            "Epoch 9/10\n",
            "14/14 [==============================] - 0s 5ms/step - loss: 0.6717 - Accuracy: 0.6179 - precision: 0.6031 - recall: 0.5780 - val_loss: 0.6625 - val_Accuracy: 0.6019 - val_precision: 0.6078 - val_recall: 0.3196\n",
            "Epoch 10/10\n",
            "14/14 [==============================] - 0s 5ms/step - loss: 0.6650 - Accuracy: 0.5958 - precision: 0.6722 - recall: 0.2951 - val_loss: 0.6578 - val_Accuracy: 0.6065 - val_precision: 0.6429 - val_recall: 0.2784\n"
          ]
        },
        {
          "output_type": "execute_result",
          "data": {
            "text/plain": [
              "<keras.callbacks.History at 0x7f695dfe1df0>"
            ]
          },
          "metadata": {},
          "execution_count": 8
        }
      ],
      "source": [
        "if debug_flag == 1 : debug('신경망 모델 학습', __name__)\n",
        "model.fit(\n",
        "    X_train,\n",
        "    y_train,\n",
        "    epochs=10,\n",
        "    batch_size=64,\n",
        "    validation_data=(X_test, y_test)\n",
        ")"
      ]
    },
    {
      "cell_type": "code",
      "source": [
        "model.evaluate(X_test, y_test, verbose=2)"
      ],
      "metadata": {
        "id": "sF_5eGu4PT1o",
        "outputId": "e92a8dca-fcfa-4388-eacd-eb34d828c4a4",
        "colab": {
          "base_uri": "https://localhost:8080/"
        }
      },
      "execution_count": 9,
      "outputs": [
        {
          "output_type": "stream",
          "name": "stdout",
          "text": [
            "7/7 - 0s - loss: 0.6578 - Accuracy: 0.6065 - precision: 0.6429 - recall: 0.2784 - 24ms/epoch - 3ms/step\n"
          ]
        },
        {
          "output_type": "execute_result",
          "data": {
            "text/plain": [
              "[0.6578426957130432,\n",
              " 0.6064814925193787,\n",
              " 0.6428571343421936,\n",
              " 0.27835050225257874]"
            ]
          },
          "metadata": {},
          "execution_count": 9
        }
      ]
    }
  ],
  "metadata": {
    "kernelspec": {
      "display_name": "Python 3.8.15 ('myCodes')",
      "language": "python",
      "name": "python3"
    },
    "language_info": {
      "name": "python",
      "version": "3.8.15"
    },
    "orig_nbformat": 4,
    "vscode": {
      "interpreter": {
        "hash": "be9c8c09f02aff164ff9b08fdc7e0d6a8d8e8fe95a6cb9e2cbfc007f36c1c7da"
      }
    },
    "colab": {
      "provenance": []
    }
  },
  "nbformat": 4,
  "nbformat_minor": 0
}