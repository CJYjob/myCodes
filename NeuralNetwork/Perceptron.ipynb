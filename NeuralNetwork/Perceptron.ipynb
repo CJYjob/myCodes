{
  "cells": [
    {
      "cell_type": "code",
      "execution_count": 1,
      "metadata": {
        "colab": {
          "base_uri": "https://localhost:8080/"
        },
        "id": "mBIzgnZjUhsN",
        "outputId": "b97d09d5-3ab3-40a6-a831-d077ed23746b"
      },
      "outputs": [
        {
          "output_type": "stream",
          "name": "stdout",
          "text": [
            "Mounted at /content/drive\n"
          ]
        }
      ],
      "source": [
        "# 구글 드라이브 마운트(cjyjob1993@gmail.com)\n",
        "from google.colab import drive\n",
        "drive.mount('/content/drive')\n",
        "\n",
        "# lib 디렉토리를을 환경 변수에 추가\n",
        "import sys\n",
        "sys.path.append('/content/drive/MyDrive/Colab Notebooks/myCode/lib')"
      ]
    },
    {
      "cell_type": "code",
      "execution_count": 2,
      "metadata": {
        "id": "zYS35kpiUhsQ"
      },
      "outputs": [],
      "source": [
        "# 라이브러리 임포트\n",
        "import numpy as np\n",
        "import matplotlib.pyplot as plt\n",
        "import tensorflow as tf\n",
        "# 커스텀 라이브러리 임포트\n",
        "import numpy_fixSeed\n",
        "from func_debug_log import debug"
      ]
    },
    {
      "cell_type": "code",
      "execution_count": 3,
      "metadata": {
        "id": "kLOTsiYzUhsR"
      },
      "outputs": [],
      "source": [
        "# debug_log (0 : 미출력, 1 : 출력)\n",
        "debug_flag = 1"
      ]
    },
    {
      "cell_type": "markdown",
      "metadata": {
        "id": "SHoQLGgTUhsS"
      },
      "source": [
        "# 퍼셉트론\n",
        "\n",
        "입력층과 출력층으로 이루어진 단층 신경망.\n",
        "\n",
        "## XOR 게이트 문제\n",
        "선형 경계만을 만들 수 있어, XOR문제를 효과적으로 해결할 수 없다."
      ]
    },
    {
      "cell_type": "code",
      "execution_count": 4,
      "metadata": {
        "colab": {
          "base_uri": "https://localhost:8080/"
        },
        "id": "PAjBaDxJUhsV",
        "outputId": "2c60e7b6-c9f4-4c56-f745-9ad3f3437300"
      },
      "outputs": [
        {
          "output_type": "stream",
          "name": "stdout",
          "text": [
            "2022.12.02 01:24:40 __main__ XOR 예시 데이터 만들기\n"
          ]
        }
      ],
      "source": [
        "if debug_flag == 1 : debug('XOR 예시 데이터 만들기', __name__)\n",
        "\n",
        "x11 = np.random.uniform(low=0, high=5, size=(50,))\n",
        "x12 = np.random.uniform(low=10, high=15, size=(50,))\n",
        "x21 = np.random.uniform(low=0, high=5, size=(50,))\n",
        "x22 = np.random.uniform(low=10, high=15, size=(50,))\n",
        "\n",
        "x1 = np.append(x11, x12)\n",
        "x2 = np.append(x21, x22)\n",
        "\n",
        "y11 = np.random.uniform(low=10, high=15, size=(50,))\n",
        "y12 = np.random.uniform(low=0, high=5, size=(50,))\n",
        "y21 = np.random.uniform(low=0, high=5, size=(50,))\n",
        "y22 = np.random.uniform(low=10, high=15, size=(50,))\n",
        "\n",
        "y1 = np.append(y11, y12)\n",
        "y2 = np.append(y21, y22)\n",
        "\n",
        "x_1 = np.vstack([x1, y1]).T\n",
        "x_2 = np.vstack([x2, y2]).T\n",
        "y_1 = np.ones_like(x_1[:, 0])\n",
        "y_2 = np.zeros_like(x_2[:, 0])\n",
        "x = np.vstack([x_1, x_2])\n",
        "y = np.hstack([y_1, y_2])"
      ]
    },
    {
      "cell_type": "code",
      "execution_count": 5,
      "metadata": {
        "colab": {
          "base_uri": "https://localhost:8080/",
          "height": 310
        },
        "id": "sbYDlyQcUhsW",
        "outputId": "d5da374b-7406-4105-936a-7298dbd8e6cc"
      },
      "outputs": [
        {
          "output_type": "stream",
          "name": "stdout",
          "text": [
            "2022.12.02 01:24:40 __main__ XOR 예시 데이터 시각화\n"
          ]
        },
        {
          "output_type": "display_data",
          "data": {
            "text/plain": [
              "<Figure size 864x360 with 1 Axes>"
            ],
            "image/png": "[encoded data removed]"
          },
          "metadata": {
            "needs_background": "light"
          }
        }
      ],
      "source": [
        "if debug_flag == 1 : debug('XOR 예시 데이터 시각화', __name__)\n",
        "\n",
        "fig, ax = plt.subplots(figsize=(12, 5))\n",
        "ax.plot(x_1[:, 0], x_1[:, 1], 'bo')\n",
        "ax.plot(x_2[:, 0], x_2[:, 1], 'ro')\n",
        "ax.grid()"
      ]
    },
    {
      "cell_type": "code",
      "execution_count": 6,
      "metadata": {
        "id": "YH56siIVbphF",
        "outputId": "582dab18-5d3f-45f0-8b46-622d94fc49fd",
        "colab": {
          "base_uri": "https://localhost:8080/"
        }
      },
      "outputs": [
        {
          "output_type": "stream",
          "name": "stdout",
          "text": [
            "2022.12.02 01:24:40 __main__ 신경망 모델 구축\n"
          ]
        }
      ],
      "source": [
        "if debug_flag == 1 : debug('신경망 모델 구축', __name__)\n",
        "\n",
        "model = tf.keras.models.Sequential(\n",
        "    [\n",
        "        tf.keras.layers.Dense(1, activation='sigmoid')\n",
        "    ]\n",
        ")"
      ]
    },
    {
      "cell_type": "code",
      "execution_count": 7,
      "metadata": {
        "id": "xIXITm57bphH",
        "outputId": "68a4b65f-4e25-4b88-e372-94aabb8ba333",
        "colab": {
          "base_uri": "https://localhost:8080/"
        }
      },
      "outputs": [
        {
          "output_type": "stream",
          "name": "stdout",
          "text": [
            "2022.12.02 01:24:40 __main__ 신경망 모델 컴파일\n"
          ]
        }
      ],
      "source": [
        "if debug_flag == 1 : debug('신경망 모델 컴파일', __name__)\n",
        "\n",
        "model.compile(optimizer = 'sgd',\n",
        "    loss = 'binary_crossentropy',\n",
        "    metrics = ['accuracy'])"
      ]
    },
    {
      "cell_type": "code",
      "execution_count": 8,
      "metadata": {
        "id": "oz11vtZjbphK",
        "outputId": "8958d17c-d0d6-4fef-a887-954337544e7f",
        "colab": {
          "base_uri": "https://localhost:8080/"
        }
      },
      "outputs": [
        {
          "output_type": "stream",
          "name": "stdout",
          "text": [
            "2022.12.02 01:24:40 __main__ 신경망 모델 학습\n",
            "Epoch 1/10\n",
            "7/7 [==============================] - 1s 2ms/step - loss: 3.4672 - accuracy: 0.5000\n",
            "Epoch 2/10\n",
            "7/7 [==============================] - 0s 2ms/step - loss: 1.7703 - accuracy: 0.5500\n",
            "Epoch 3/10\n",
            "7/7 [==============================] - 0s 2ms/step - loss: 0.9614 - accuracy: 0.6650\n",
            "Epoch 4/10\n",
            "7/7 [==============================] - 0s 2ms/step - loss: 0.7962 - accuracy: 0.5850\n",
            "Epoch 5/10\n",
            "7/7 [==============================] - 0s 2ms/step - loss: 0.7298 - accuracy: 0.4700\n",
            "Epoch 6/10\n",
            "7/7 [==============================] - 0s 3ms/step - loss: 0.7150 - accuracy: 0.4050\n",
            "Epoch 7/10\n",
            "7/7 [==============================] - 0s 2ms/step - loss: 0.6993 - accuracy: 0.3300\n",
            "Epoch 8/10\n",
            "7/7 [==============================] - 0s 2ms/step - loss: 0.7006 - accuracy: 0.5050\n",
            "Epoch 9/10\n",
            "7/7 [==============================] - 0s 2ms/step - loss: 0.6987 - accuracy: 0.3900\n",
            "Epoch 10/10\n",
            "7/7 [==============================] - 0s 2ms/step - loss: 0.6999 - accuracy: 0.4550\n"
          ]
        },
        {
          "output_type": "execute_result",
          "data": {
            "text/plain": [
              "<keras.callbacks.History at 0x7f4f100277f0>"
            ]
          },
          "metadata": {},
          "execution_count": 8
        }
      ],
      "source": [
        "if debug_flag == 1 : debug('신경망 모델 학습', __name__)\n",
        "\n",
        "model.fit(x, y, epochs=10)"
      ]
    },
    {
      "cell_type": "code",
      "execution_count": 10,
      "metadata": {
        "id": "51MzkZQ0bphM",
        "outputId": "d34443a3-8a1d-497e-bd59-f596b28624d8",
        "colab": {
          "base_uri": "https://localhost:8080/"
        }
      },
      "outputs": [
        {
          "output_type": "stream",
          "name": "stdout",
          "text": [
            "2022.12.02 01:24:40 __main__ 신경망 모델 예측 수행\n",
            "7/7 [==============================] - 0s 2ms/step\n"
          ]
        }
      ],
      "source": [
        "if debug_flag == 1 : debug('신경망 모델 예측 수행', __name__)\n",
        "\n",
        "preds = model.predict(x) # 입력값 x에 대한 예측 수행\n",
        "preds_1d = preds.flatten() # 1차원으로 변환\n",
        "pred_class = np.where(preds_1d > 0.5, 1, 0) # 예측값을 0.5를 기준으로 0, 1로 변환\n",
        "\n",
        "y_true = x[pred_class == 1]\n",
        "y_false = x[pred_class == 0]\n"
      ]
    },
    {
      "cell_type": "code",
      "execution_count": 11,
      "metadata": {
        "id": "HM9ohe3EbphN",
        "outputId": "994f7c18-f1c0-4af3-eb00-977399173972",
        "colab": {
          "base_uri": "https://localhost:8080/",
          "height": 347
        }
      },
      "outputs": [
        {
          "output_type": "stream",
          "name": "stdout",
          "text": [
            "2022.12.02 01:24:40 __main__ 신경망 모델 예측 결과 시각화\n"
          ]
        },
        {
          "output_type": "execute_result",
          "data": {
            "text/plain": [
              "<bound method _AxesBase.grid of <matplotlib.axes._subplots.AxesSubplot object at 0x7f4f0d2ae2e0>>"
            ]
          },
          "metadata": {},
          "execution_count": 11
        },
        {
          "output_type": "display_data",
          "data": {
            "text/plain": [
              "<Figure size 864x360 with 1 Axes>"
            ],
            "image/png": "[encoded data removed]"
          },
          "metadata": {
            "needs_background": "light"
          }
        }
      ],
      "source": [
        "if debug_flag == 1 : debug('신경망 모델 예측 결과 시각화', __name__)\n",
        "\n",
        "fig, ax = plt.subplots(figsize = (12, 5))\n",
        "ax.plot(y_true[:, 0], y_true[:, 1], 'bo')\n",
        "ax.plot(y_false[:, 0], y_false[:, 1], 'ro')\n",
        "ax.grid"
      ]
    }
  ],
  "metadata": {
    "colab": {
      "provenance": []
    },
    "kernelspec": {
      "display_name": "Python 3.8.15 ('myCodes')",
      "language": "python",
      "name": "python3"
    },
    "language_info": {
      "name": "python",
      "version": "3.8.15"
    },
    "orig_nbformat": 4,
    "vscode": {
      "interpreter": {
        "hash": "be9c8c09f02aff164ff9b08fdc7e0d6a8d8e8fe95a6cb9e2cbfc007f36c1c7da"
      }
    }
  },
  "nbformat": 4,
  "nbformat_minor": 0
}