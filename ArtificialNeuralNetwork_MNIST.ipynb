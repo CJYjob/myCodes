{
  "cells": [
    {
      "cell_type": "markdown",
      "metadata": {
        "id": "Yx50tNlZEBkd"
      },
      "source": [
        "# MNIST\n",
        "0~9까지의 손글씨 이미지(흑백, 28*28)를 각 숫자대로 분류하는 예제."
      ]
    },
    {
      "cell_type": "code",
      "execution_count": 1,
      "metadata": {
        "id": "F5rH9o6_EBki",
        "outputId": "5fab3324-61ee-445d-8c6c-fcba27026fcf",
        "colab": {
          "base_uri": "https://localhost:8080/"
        }
      },
      "outputs": [
        {
          "output_type": "stream",
          "name": "stdout",
          "text": [
            "Mounted at /content/drive\n"
          ]
        }
      ],
      "source": [
        "# 구글 드라이브 마운트(cjyjob1993@gmail.com)\n",
        "from google.colab import drive\n",
        "drive.mount('/content/drive')\n",
        "\n",
        "# lib 디렉토리를을 환경 변수에 추가\n",
        "import sys\n",
        "sys.path.append('/content/drive/MyDrive/Colab Notebooks/myCode/lib')"
      ]
    },
    {
      "cell_type": "code",
      "execution_count": 2,
      "metadata": {
        "id": "l7oQpC0VEBkk"
      },
      "outputs": [],
      "source": [
        "# 라이브러리 임포트\n",
        "import pandas as pd\n",
        "import tensorflow as tf\n",
        "# 커스텀 라이브러리 임포트\n",
        "from func_debug_log import debug"
      ]
    },
    {
      "cell_type": "code",
      "execution_count": 3,
      "metadata": {
        "id": "Hm4KEB88EBkk"
      },
      "outputs": [],
      "source": [
        "# debug_flag 설정(0:미출력, 1:출력)\n",
        "debug_flag = 0"
      ]
    },
    {
      "cell_type": "code",
      "execution_count": 4,
      "metadata": {
        "id": "wtVjhe-dEBkk",
        "outputId": "398ed8a5-49de-431f-905f-6df2ea3db1e9",
        "colab": {
          "base_uri": "https://localhost:8080/"
        }
      },
      "outputs": [
        {
          "output_type": "stream",
          "name": "stdout",
          "text": [
            "Downloading data from https://storage.googleapis.com/tensorflow/tf-keras-datasets/mnist.npz\n",
            "11490434/11490434 [==============================] - 0s 0us/step\n"
          ]
        }
      ],
      "source": [
        "if debug_flag == 1 : debug('test, train 데이터셋 분할', __name__)\n",
        "mnist =tf.keras.datasets.mnist\n",
        "(x_train, y_train), (x_test, y_test) = mnist.load_data()"
      ]
    },
    {
      "cell_type": "code",
      "execution_count": 5,
      "metadata": {
        "id": "4QccCUfOEBkl"
      },
      "outputs": [],
      "source": [
        "if debug_flag == 1 : debug('이미지 정규화', __name__) # 신경망 모델의 경우, 학습에는 정규화한 데이터를 사용. 모델이 학습한 후에는 정규화 하지 않은 데이터를 사용하여도 됨\n",
        "x_train, x_test = x_train/255.0 , x_test/255.0 # 이미지 데이터는 픽셀이 0~255로 표현. 그러므로 255.0 으로 나누어 정규화"
      ]
    },
    {
      "cell_type": "code",
      "execution_count": 7,
      "metadata": {
        "id": "OlmOEvpJEBkl"
      },
      "outputs": [],
      "source": [
        "if debug_flag == 1 : debug('신경망 모델 구축', __name__)\n",
        "model = tf.keras.models.Sequential(\n",
        "    [\n",
        "        tf.keras.layers.Flatten(input_shape=(28, 28)), # 작은 규모의 이미지 파일은 1차원으로 펴서 사용. 픽셀의 수가 입력 노드의 수가 됨.\n",
        "        tf.keras.layers.Dense(100, activation='relu'), # 100개의 노드로 구성된 은닉층\n",
        "        tf.keras.layers.Dense(10, activation='softmax') # 라벨링이 10개의 클래스로 이루어짐으로, 출력층 노드의 개수는 10개. softmax를 통해 각 클래스의 확률 출력.\n",
        "    ]\n",
        ")\n",
        "\n",
        "# 같은 모델 다른 표현\n",
        "model = tf.keras.models.Sequential()\n",
        "model.add(tf.keras.layers.Flatten(input_shape=(28, 28)))\n",
        "model.add(tf.keras.layers.Dense(100, activation='relu'))\n",
        "model.add(tf.keras.layers.Dense(10, activation='softmax'))\n"
      ]
    },
    {
      "cell_type": "code",
      "execution_count": 12,
      "metadata": {
        "id": "fk52o0ZzEBkm"
      },
      "outputs": [],
      "source": [
        "if debug_flag == 1 : debug('신경망 모델 컴파일', __name__)\n",
        "model.compile(optimizer='adam',\n",
        "    loss = 'sparse_categorical_crossentropy',\n",
        "    metrics=['accuracy'])"
      ]
    },
    {
      "cell_type": "code",
      "execution_count": 13,
      "metadata": {
        "id": "1KTGBNWyEBkm",
        "outputId": "6bb86a66-ae1a-4320-eec2-877996b88ca1",
        "colab": {
          "base_uri": "https://localhost:8080/"
        }
      },
      "outputs": [
        {
          "output_type": "stream",
          "name": "stdout",
          "text": [
            "Epoch 1/5\n",
            "1875/1875 [==============================] - 7s 4ms/step - loss: 0.2755 - accuracy: 0.9218\n",
            "Epoch 2/5\n",
            "1875/1875 [==============================] - 7s 3ms/step - loss: 0.1291 - accuracy: 0.9621\n",
            "Epoch 3/5\n",
            "1875/1875 [==============================] - 7s 3ms/step - loss: 0.0905 - accuracy: 0.9728\n",
            "Epoch 4/5\n",
            "1875/1875 [==============================] - 7s 4ms/step - loss: 0.0676 - accuracy: 0.9795\n",
            "Epoch 5/5\n",
            "1875/1875 [==============================] - 10s 5ms/step - loss: 0.0540 - accuracy: 0.9833\n"
          ]
        },
        {
          "output_type": "execute_result",
          "data": {
            "text/plain": [
              "<keras.callbacks.History at 0x7f6bf7e91fa0>"
            ]
          },
          "metadata": {},
          "execution_count": 13
        }
      ],
      "source": [
        "if debug_flag == 1 : debug('신경망 모델 학습', __name__)\n",
        "model.fit(x_train, y_train, epochs=5)"
      ]
    },
    {
      "cell_type": "code",
      "execution_count": 14,
      "metadata": {
        "id": "GOB__q49EBkn",
        "outputId": "58c38351-1fcd-4c85-9c75-35c976048816",
        "colab": {
          "base_uri": "https://localhost:8080/"
        }
      },
      "outputs": [
        {
          "output_type": "stream",
          "name": "stdout",
          "text": [
            "313/313 - 1s - loss: 0.0766 - accuracy: 0.9741 - 686ms/epoch - 2ms/step\n"
          ]
        },
        {
          "output_type": "execute_result",
          "data": {
            "text/plain": [
              "[0.07664947211742401, 0.9740999937057495]"
            ]
          },
          "metadata": {},
          "execution_count": 14
        }
      ],
      "source": [
        "if debug_flag == 1 : debug('신경망 모델 학습 평가', __name__)\n",
        "model.evaluate(x_test, y_test, verbose=2)"
      ]
    }
  ],
  "metadata": {
    "kernelspec": {
      "display_name": "Python 3.8.15 ('myCodes')",
      "language": "python",
      "name": "python3"
    },
    "language_info": {
      "name": "python",
      "version": "3.8.15"
    },
    "orig_nbformat": 4,
    "vscode": {
      "interpreter": {
        "hash": "be9c8c09f02aff164ff9b08fdc7e0d6a8d8e8fe95a6cb9e2cbfc007f36c1c7da"
      }
    },
    "colab": {
      "provenance": []
    }
  },
  "nbformat": 4,
  "nbformat_minor": 0
}