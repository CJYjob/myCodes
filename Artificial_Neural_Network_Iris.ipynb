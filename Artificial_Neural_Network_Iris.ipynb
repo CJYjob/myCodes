{
  "cells": [
    {
      "cell_type": "code",
      "execution_count": null,
      "metadata": {},
      "outputs": [],
      "source": [
        "# 구글 드라이브 마운트(cjyjob1993@gmail.com)\n",
        "from google.colab import drive\n",
        "drive.mount('/content/drive')\n",
        "\n",
        "# lib 디렉토리를을 환경 변수에 추가\n",
        "import sys\n",
        "sys.path.append('/content/drive/MyDrive/Colab Notebooks/myCode/lib')"
      ]
    },
    {
      "cell_type": "code",
      "execution_count": null,
      "metadata": {
        "id": "sz6yIVYYS8hM"
      },
      "outputs": [],
      "source": [
        "# 라이브러리 임포트\n",
        "import pandas as pd\n",
        "import numpy as np\n",
        "import matplotlib.pyplot as plt\n",
        "import tensorflow as tf\n",
        "# 커스텀 라이브러리 임포트\n",
        "from func_pandas_exploreDataFrame import exploreDataFrame\n",
        "from func_debug_log import debug"
      ]
    },
    {
      "cell_type": "code",
      "execution_count": null,
      "metadata": {},
      "outputs": [],
      "source": [
        "# debug_log (0 : 미출력, 1 : 출력)\n",
        "debug_flag = 1"
      ]
    },
    {
      "cell_type": "code",
      "execution_count": null,
      "metadata": {
        "id": "EZt2zQoIS_PN"
      },
      "outputs": [],
      "source": [
        "if debug_flag == 1 : debug('시드 고정', __name__)\n",
        "np.random.seed(42)\n",
        "tf.random.set_seed(42)"
      ]
    },
    {
      "cell_type": "code",
      "execution_count": null,
      "metadata": {
        "id": "UpO1JbC1S_pv"
      },
      "outputs": [],
      "source": [
        "if debug_flag == 1 : debug('데이터 로드', __name__)\n",
        "df = pd.read_csv('https://archive.ics.uci.edu/ml/machine-learning-databases/iris/iris.data', header=None)"
      ]
    },
    {
      "cell_type": "code",
      "execution_count": null,
      "metadata": {
        "id": "QsZy287bTBDq"
      },
      "outputs": [],
      "source": [
        "if debug_flag == 1 : debug('데이터 시각화', __name__)\n",
        "exploreDataFrame(df)"
      ]
    },
    {
      "cell_type": "code",
      "execution_count": null,
      "metadata": {},
      "outputs": [
        {
          "ename": "",
          "evalue": "",
          "output_type": "error",
          "traceback": [
            "\u001b[1;31m'Python 3.8.15 ('myCodes')'(으)로 셀을 실행하려면 ipykernel 패키지가 필요합니다.\n",
            "\u001b[1;31m다음 명령어를 실행하여 Python 환경에 'ipykernel'을(를) 설치합니다. \n",
            "\u001b[1;31m 명령: 'conda install -n myCodes ipykernel --update-deps --force-reinstall'"
          ]
        }
      ],
      "source": [
        "if debug_flag == 1 : debug('label column 추출', __name__)\n",
        "label = df.iloc[0:100, 4].values"
      ]
    },
    {
      "cell_type": "code",
      "execution_count": null,
      "metadata": {},
      "outputs": [],
      "source": [
        "if debug_flag == 1 : debug('label을 0,1 의 binary로 전처리', __name__)\n",
        "label = np.where(label == 'Iris-setosa', 0, 1)\n",
        "label.astype(object)"
      ]
    },
    {
      "cell_type": "code",
      "execution_count": null,
      "metadata": {},
      "outputs": [],
      "source": [
        "if debug_flag == 1 : debug('feature data 추출', __name__)\n",
        "features = df.iloc[0:100, [0, 2]].values"
      ]
    },
    {
      "cell_type": "code",
      "execution_count": null,
      "metadata": {},
      "outputs": [],
      "source": [
        "if debug_flag == 1 : debug('데이터 시각화', __name__)\n",
        "plt.scatter(features[:50, 0], features[:50, 1], color='red', marker='o', label='setosa')\n",
        "plt.scatter(features[50:100, 0], features[50:100, 1], color='blue', marker='x', label='versicolor')\n",
        "plt.xlabel('sepal length')\n",
        "plt.ylabel('petal length')\n",
        "plt.legend(loc='upper left')\n",
        "plt.show()"
      ]
    },
    {
      "cell_type": "code",
      "execution_count": null,
      "metadata": {},
      "outputs": [],
      "source": [
        "if debug_flag == 1 : debug('test, train 데이터 분할', __name__)\n",
        "from sklearn.model_selection import train_test_split\n",
        "\n",
        "X_train, X_test, y_train, y_test = train_test_split(features, label, test_size=0.2, random_state=42)"
      ]
    },
    {
      "cell_type": "code",
      "execution_count": null,
      "metadata": {},
      "outputs": [],
      "source": [
        "if debug_flag == 1 : debug('출력층만 있는 단층 신경망 구축', __name__)\n",
        "model = tf.keras.models.Sequential(\n",
        "    [\n",
        "        tf.keras.layers.Dense(1, activation='sigmoid') # 출력층 노드 1개, 활성화 함수 sigmoid\n",
        "    ]\n",
        ")\n",
        "\n",
        "# 동일한 모델 구축의 다른 표현\n",
        "# model = tf.keras.models.Sequential()\n",
        "# model.add(tf.keras.layers.Dense(1, activation='sigmoid'))"
      ]
    },
    {
      "cell_type": "code",
      "execution_count": null,
      "metadata": {},
      "outputs": [],
      "source": [
        "if debug_flag == 1 : debug('구축한 모델 컴파일', __name__)\n",
        "model.compile(optimizer='sgd', # 옵티마이저\n",
        "    loss = 'binary_crossentropy', # 손실 함수\n",
        "    metrics=['accuracy']) # 지표"
      ]
    },
    {
      "cell_type": "code",
      "execution_count": null,
      "metadata": {},
      "outputs": [],
      "source": [
        "if debug_flag == 1 : debug('모델 훈련', __name__)\n",
        "model.fit(X_train, y_train, epochs=30)"
      ]
    },
    {
      "cell_type": "code",
      "execution_count": null,
      "metadata": {},
      "outputs": [],
      "source": [
        "if debug_flag == 1 : debug('학습된 모델 평가', __name__)\n",
        "model.evaluate(X_test, y_test, verbose=2)"
      ]
    }
  ],
  "metadata": {
    "accelerator": "GPU",
    "colab": {
      "name": "N411_Artificial_Neural_Network.ipynb",
      "provenance": []
    },
    "kernelspec": {
      "display_name": "Python 3.8.15 ('myCodes')",
      "language": "python",
      "name": "python3"
    },
    "language_info": {
      "name": "python",
      "version": "3.8.15"
    },
    "vscode": {
      "interpreter": {
        "hash": "be9c8c09f02aff164ff9b08fdc7e0d6a8d8e8fe95a6cb9e2cbfc007f36c1c7da"
      }
    }
  },
  "nbformat": 4,
  "nbformat_minor": 0
}
